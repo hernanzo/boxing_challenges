{
 "cells": [
  {
   "cell_type": "markdown",
   "metadata": {},
   "source": [
    "# 03. Discovering Virtual Teams\n",
    "\n"
   ]
  },
  {
   "cell_type": "code",
   "execution_count": 1,
   "metadata": {},
   "outputs": [
    {
     "name": "stdout",
     "output_type": "stream",
     "text": [
      "Collecting package metadata (current_repodata.json): done\n",
      "Solving environment: done\n",
      "\n",
      "\n",
      "==> WARNING: A newer version of conda exists. <==\n",
      "  current version: 4.8.2\n",
      "  latest version: 4.8.3\n",
      "\n",
      "Please update conda by running\n",
      "\n",
      "    $ conda update -n base -c defaults conda\n",
      "\n",
      "\n",
      "\n",
      "## Package Plan ##\n",
      "\n",
      "  environment location: /opt/anaconda3/envs/hr\n",
      "\n",
      "  added / updated specs:\n",
      "    - matplotlib\n",
      "    - networkx\n",
      "\n",
      "\n",
      "The following packages will be downloaded:\n",
      "\n",
      "    package                    |            build\n",
      "    ---------------------------|-----------------\n",
      "    matplotlib-3.2.1           |                0          21 KB\n",
      "    matplotlib-base-3.2.1      |   py37h5670ca0_0         5.3 MB\n",
      "    ------------------------------------------------------------\n",
      "                                           Total:         5.4 MB\n",
      "\n",
      "The following NEW packages will be INSTALLED:\n",
      "\n",
      "  cycler             pkgs/main/osx-64::cycler-0.10.0-py37_0\n",
      "  freetype           pkgs/main/osx-64::freetype-2.9.1-hb4e5f40_0\n",
      "  kiwisolver         pkgs/main/osx-64::kiwisolver-1.2.0-py37h04f5b5a_0\n",
      "  libpng             pkgs/main/osx-64::libpng-1.6.37-ha441bb4_0\n",
      "  matplotlib         pkgs/main/osx-64::matplotlib-3.2.1-0\n",
      "  matplotlib-base    pkgs/main/osx-64::matplotlib-base-3.2.1-py37h5670ca0_0\n",
      "  networkx           pkgs/main/noarch::networkx-2.4-py_0\n",
      "  pyparsing          pkgs/main/noarch::pyparsing-2.4.7-py_0\n",
      "\n",
      "\n",
      "\n",
      "Downloading and Extracting Packages\n",
      "matplotlib-3.2.1     | 21 KB     | ##################################### | 100% \n",
      "matplotlib-base-3.2. | 5.3 MB    | ##################################### | 100% \n",
      "Preparing transaction: done\n",
      "Verifying transaction: done\n",
      "Executing transaction: done\n"
     ]
    }
   ],
   "source": [
    "#Install all related packages. If you find additional packages missing, please follow the same technique.\n",
    "#If you are not using anaconda, then use pip to install the same packages\n",
    "\n",
    "import sys\n",
    "!conda install --yes --prefix {sys.prefix} networkx matplotlib"
   ]
  },
  {
   "cell_type": "markdown",
   "metadata": {},
   "source": [
    "## 03.04. Preparing Network Data"
   ]
  },
  {
   "cell_type": "code",
   "execution_count": 2,
   "metadata": {
    "scrolled": true
   },
   "outputs": [
    {
     "name": "stdout",
     "output_type": "stream",
     "text": [
      "    First Second Count\n",
      "0    Jeff  Stacy     7\n",
      "1    Jeff    Rob     4\n",
      "2    Emma   Jeff     6\n",
      "3    Emma    Rob     3\n",
      "4    Emma  Stacy     4\n",
      "5     Rob  Stacy     4\n",
      "6    Emma   Mike     3\n",
      "7    Jeff   Mike     5\n",
      "8    Mike    Rob     3\n",
      "9    Mike  Stacy     5\n",
      "10   Jeff   Lisa     5\n",
      "11   Emma   Lisa     2\n",
      "12   Emma  Mason     1\n",
      "13   Jeff  Mason     2\n",
      "14   Lisa  Mason     6\n",
      "15   Lisa   Mike     2\n",
      "16  Mason   Mike     2\n",
      "17   Lisa  Stacy     2\n",
      "18  David   Jeff     1\n",
      "19  David   Lisa     6\n",
      "20  David  Stacy     1\n",
      "21  David  Mason     4\n",
      "22  David  Sofia     3\n",
      "23   Lisa  Sofia     4\n",
      "24  Mason  Sofia     3\n"
     ]
    }
   ],
   "source": [
    "import networkx as nx\n",
    "import matplotlib.pyplot as plt\n",
    "\n",
    "from csv import reader\n",
    "import pandas as pd\n",
    "\n",
    "#Input file with one record per chat collaboration\n",
    "chat_csv = \"chat_groups.csv\"\n",
    "\n",
    "#Data frame to store employee pairs.\n",
    "employee_pairs = pd.DataFrame(columns=['First', 'Second', 'Count'])\n",
    "\n",
    "#Read file and extract pairs and weights\n",
    "with open(chat_csv, 'r', encoding=\"utf-8-sig\") as read_obj:\n",
    "    # pass the file object to reader() to get the reader object\n",
    "    csv_reader = reader(read_obj)\n",
    "    # Iterate over each row in the csv using reader object\n",
    "    for row in csv_reader:\n",
    "        #Sort by employee name\n",
    "        row.sort()\n",
    "        #sort and filter for only valid names\n",
    "        filtered_row = [ emp for emp in row\n",
    "                        if len(emp) > 0] \n",
    "\n",
    "        #Generate employee pairs\n",
    "        \n",
    "        #Iterate for the first employee\n",
    "        for i in range(0, len(filtered_row)-1):\n",
    "            #Iterate for the second employee\n",
    "            for j in range(i+1,len(filtered_row) ):\n",
    "            \n",
    "                first=filtered_row[i]\n",
    "                second=filtered_row[j]\n",
    "\n",
    "                #Create the pair record. If Dataframe record already exists\n",
    "                #Update the count. If not, create it\n",
    "                curr_rec = employee_pairs[\n",
    "                                (employee_pairs['First'] == first )\n",
    "                                & (employee_pairs['Second'] == second)]\n",
    "\n",
    "                if ( curr_rec.empty) :\n",
    "                    new_df = pd.DataFrame([{'First': first,\n",
    "                                            'Second' : second,\n",
    "                                            'Count':1}])\n",
    "                    employee_pairs=employee_pairs.append(new_df,\n",
    "                                                         ignore_index=True)\n",
    "\n",
    "                else:\n",
    "                    curr_rec.at[curr_rec.index[0],'Count'] = curr_rec.at[curr_rec.index[0],'Count'] + 1\n",
    "                    employee_pairs.update(curr_rec)\n",
    "                \n",
    "print(employee_pairs)"
   ]
  },
  {
   "cell_type": "markdown",
   "metadata": {},
   "source": [
    "## 03.05. Create and visualize the network"
   ]
  },
  {
   "cell_type": "code",
   "execution_count": 3,
   "metadata": {},
   "outputs": [
    {
     "name": "stdout",
     "output_type": "stream",
     "text": [
      "Network summary: \n",
      "-----------------\n",
      " Name: \n",
      "Type: Graph\n",
      "Number of nodes: 9\n",
      "Number of edges: 25\n",
      "Average degree:   5.5556\n"
     ]
    }
   ],
   "source": [
    "\n",
    "#Create a networkX graph\n",
    "graph_emps  = nx.Graph()\n",
    "\n",
    "#Add Edges based on the dataframe (nodes gets added automatically)\n",
    "for i,row in employee_pairs.iterrows():\n",
    "    graph_emps.add_edge(row['First'],  \n",
    "                        row['Second'],   \n",
    "                        weight=row['Count'])\n",
    "\n",
    "\n",
    "#Print network summary\n",
    "print(\"Network summary: \\n-----------------\\n\", nx.info(graph_emps))\n"
   ]
  },
  {
   "cell_type": "code",
   "execution_count": 2,
   "metadata": {},
   "outputs": [
    {
     "ename": "NameError",
     "evalue": "name 'graph_box' is not defined",
     "output_type": "error",
     "traceback": [
      "\u001b[0;31m---------------------------------------------------------------------------\u001b[0m",
      "\u001b[0;31mNameError\u001b[0m                                 Traceback (most recent call last)",
      "\u001b[0;32m/var/folders/my/z9q2lngj4y3g_118mj64q0140000gn/T/ipykernel_4373/4272961372.py\u001b[0m in \u001b[0;36m<module>\u001b[0;34m\u001b[0m\n\u001b[1;32m      2\u001b[0m \u001b[0;34m\u001b[0m\u001b[0m\n\u001b[1;32m      3\u001b[0m \u001b[0;31m#Pairs with Count > 5 for high cohesion\u001b[0m\u001b[0;34m\u001b[0m\u001b[0;34m\u001b[0m\u001b[0m\n\u001b[0;32m----> 4\u001b[0;31m elarge = [(x1, x2) for (x1, x2, data) in graph_box.edges(data=True) \n\u001b[0m\u001b[1;32m      5\u001b[0m           if data['weight'] > 5]\n\u001b[1;32m      6\u001b[0m \u001b[0;34m\u001b[0m\u001b[0m\n",
      "\u001b[0;31mNameError\u001b[0m: name 'graph_box' is not defined"
     ]
    }
   ],
   "source": [
    "# Create different types of edges based on their cohesion\n",
    "\n",
    "#Pairs with Count > 5 for high cohesion\n",
    "elarge = [(x1, x2) for (x1, x2, data) in graph_emps.edges(data=True) \n",
    "          if data['weight'] > 5]\n",
    "\n",
    "#Pairs with Count between 4 and 5 for medium cohesion\n",
    "emedium = [(x1, x2) for (x1, x2, data) in graph_emps.edges(data=True) \n",
    "          if  3 < data['weight'] <= 5]\n",
    "\n",
    "#Pairs with Count less than 4 for low cohesion\n",
    "esmall = [(x1, x2) for (x1, x2, data) in graph_emps.edges(data=True) \n",
    "          if data['weight'] <= 3]\n",
    "\n",
    "pos = nx.spring_layout(graph_emps)  # positions for all nodes\n",
    "\n",
    "## Setup the Graph\n",
    "# nodes\n",
    "nx.draw_networkx_nodes(graph_emps, pos, \n",
    "                       node_size=700,\n",
    "                       node_color='orange')\n",
    "\n",
    "\n",
    "nx.draw_networkx_edges(graph_emps, pos, \n",
    "                       edgelist=elarge,\n",
    "                       width=6,\n",
    "                       edge_color='blue')\n",
    "\n",
    "nx.draw_networkx_edges(graph_emps, pos, \n",
    "                       edgelist=emedium,\n",
    "                       width=4,\n",
    "                       edge_color='green')\n",
    "\n",
    "nx.draw_networkx_edges(graph_emps, pos, \n",
    "                       edgelist=esmall,\n",
    "                       width=2, \n",
    "                       edge_color='gray')\n",
    "\n",
    "# labels\n",
    "nx.draw_networkx_labels(graph_emps, \n",
    "                        pos, \n",
    "                        font_size=16, \n",
    "                        font_family='Consolas')\n",
    "\n",
    "\n",
    "plt.axis('off')\n",
    "plt.show();"
   ]
  },
  {
   "cell_type": "markdown",
   "metadata": {},
   "source": [
    "## 03.06. Analyzing the network"
   ]
  },
  {
   "cell_type": "code",
   "execution_count": 5,
   "metadata": {},
   "outputs": [
    {
     "name": "stdout",
     "output_type": "stream",
     "text": [
      "\n",
      "Nodes Mason is connected with :\n",
      "-------------------------------\n",
      "6\n",
      "\n",
      "Clustering Co-efficient:\n",
      "----------------------\n",
      "Rob  =  0.5582006819632447\n",
      "Sofia  =  0.553441073385821\n",
      "Stacy  =  0.3900329404151805\n",
      "Mike  =  0.3897463555319482\n",
      "Jeff  =  0.3819529217453334\n",
      "Emma  =  0.37932043201302\n",
      "Lisa  =  0.3217084828550027\n",
      "David  =  0.3144738551035591\n",
      "Mason  =  0.2915556156651455\n",
      "\n",
      "Centrality :\n",
      "---------------\n",
      "Jeff  =  0.875\n",
      "Lisa  =  0.875\n",
      "Stacy  =  0.75\n",
      "Emma  =  0.75\n",
      "Mike  =  0.75\n",
      "Mason  =  0.75\n",
      "David  =  0.625\n",
      "Rob  =  0.5\n",
      "Sofia  =  0.375\n",
      "\n",
      "Betweenness:\n",
      "--------------\n",
      "Lisa  =  0.10634920634920635\n",
      "Mason  =  0.07738095238095237\n",
      "Jeff  =  0.07559523809523809\n",
      "Stacy  =  0.05257936507936508\n",
      "David  =  0.044841269841269835\n",
      "Emma  =  0.03591269841269841\n",
      "Mike  =  0.03591269841269841\n",
      "Rob  =  0.0\n",
      "Sofia  =  0.0\n"
     ]
    }
   ],
   "source": [
    "#Function to sort a dictionary by value\n",
    "def sort_dict(dict):\n",
    "    sorted_dict= sorted(dict.items(), key=lambda x: x[1],reverse=True)\n",
    "    \n",
    "    for key,value in sorted_dict:\n",
    "        print(key, \" = \", value)\n",
    "\n",
    "\n",
    "#find number of nodes they are connected with\n",
    "print(\"\\nNodes Mason is connected with :\\n-------------------------------\")\n",
    "print(nx.degree(graph_emps,'Mason'))\n",
    "\n",
    "#clustering - how close a team they form\n",
    "print(\"\\nClustering Co-efficient:\\n----------------------\")\n",
    "sort_dict(nx.clustering(graph_emps,weight='weight'))\n",
    "\n",
    "#Find centrality of nodes\n",
    "print(\"\\nCentrality :\\n---------------\")\n",
    "sort_dict(nx.degree_centrality(graph_emps))\n",
    "\n",
    "print(\"\\nBetweenness:\\n--------------\")\n",
    "sort_dict(nx.betweenness_centrality(graph_emps))\n"
   ]
  },
  {
   "cell_type": "code",
   "execution_count": null,
   "metadata": {},
   "outputs": [],
   "source": []
  }
 ],
 "metadata": {
  "kernelspec": {
   "display_name": "Python 3 (ipykernel)",
   "language": "python",
   "name": "python3"
  },
  "language_info": {
   "codemirror_mode": {
    "name": "ipython",
    "version": 3
   },
   "file_extension": ".py",
   "mimetype": "text/x-python",
   "name": "python",
   "nbconvert_exporter": "python",
   "pygments_lexer": "ipython3",
   "version": "3.9.7"
  }
 },
 "nbformat": 4,
 "nbformat_minor": 4
}
