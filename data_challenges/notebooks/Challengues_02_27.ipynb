{
 "cells": [
  {
   "cell_type": "code",
   "execution_count": 4,
   "id": "3da6bad2",
   "metadata": {
    "scrolled": false
   },
   "outputs": [
    {
     "name": "stderr",
     "output_type": "stream",
     "text": [
      "/opt/anaconda3/lib/python3.9/site-packages/nxviz/__init__.py:18: UserWarning: \n",
      "nxviz has a new API! Version 0.7.3 onwards, the old class-based API is being\n",
      "deprecated in favour of a new API focused on advancing a grammar of network\n",
      "graphics. If your plotting code depends on the old API, please consider\n",
      "pinning nxviz at version 0.7.3, as the new API will break your old code.\n",
      "\n",
      "To check out the new API, please head over to the docs at\n",
      "https://ericmjl.github.io/nxviz/ to learn more. We hope you enjoy using it!\n",
      "\n",
      "(This deprecation message will go away in version 1.0.)\n",
      "\n",
      "  warnings.warn(\n"
     ]
    }
   ],
   "source": [
    "import pandas as pd\n",
    "import networkx as nx\n",
    "import matplotlib.pyplot as plt\n",
    "import nxviz.plots as nv\n",
    "import nxviz as nv\n",
    "from nxviz import annotate\n",
    "from datetime import datetime"
   ]
  },
  {
   "cell_type": "code",
   "execution_count": 7,
   "id": "a8b79507",
   "metadata": {},
   "outputs": [],
   "source": [
    "ch_01 = pd.read_csv(\"/Users/hernanadasme/Documents/data_challenges/data_box/challen_01.csv\")\n",
    "ch_01.drop(['Unnamed: 0'], axis=1, inplace=True)"
   ]
  },
  {
   "cell_type": "markdown",
   "id": "0fc3ac9d",
   "metadata": {},
   "source": [
    ">**RENAME COLUMNS**"
   ]
  },
  {
   "cell_type": "code",
   "execution_count": 8,
   "id": "75fb5620",
   "metadata": {},
   "outputs": [
    {
     "data": {
      "text/html": [
       "<div>\n",
       "<style scoped>\n",
       "    .dataframe tbody tr th:only-of-type {\n",
       "        vertical-align: middle;\n",
       "    }\n",
       "\n",
       "    .dataframe tbody tr th {\n",
       "        vertical-align: top;\n",
       "    }\n",
       "\n",
       "    .dataframe thead th {\n",
       "        text-align: right;\n",
       "    }\n",
       "</style>\n",
       "<table border=\"1\" class=\"dataframe\">\n",
       "  <thead>\n",
       "    <tr style=\"text-align: right;\">\n",
       "      <th></th>\n",
       "      <th>Challenge H-ID</th>\n",
       "      <th>challenge</th>\n",
       "      <th>Source</th>\n",
       "      <th>Source year</th>\n",
       "      <th>challenging_id</th>\n",
       "      <th>challenging_name</th>\n",
       "      <th>Club Affiliation H-ID_left</th>\n",
       "      <th>rec_Title.2</th>\n",
       "      <th>challenged_id</th>\n",
       "      <th>challenged_name</th>\n",
       "      <th>Club Affiliation H-ID_right</th>\n",
       "      <th>rec_Title.1_right</th>\n",
       "    </tr>\n",
       "  </thead>\n",
       "  <tbody>\n",
       "    <tr>\n",
       "      <th>0</th>\n",
       "      <td>969</td>\n",
       "      <td>Castillo\\nBaeza</td>\n",
       "      <td>Semanario La Prensa. Los Andes</td>\n",
       "      <td>1928-03-02</td>\n",
       "      <td>865</td>\n",
       "      <td>Castillo, Ernesto</td>\n",
       "      <td>NaN</td>\n",
       "      <td>NaN</td>\n",
       "      <td>836</td>\n",
       "      <td>Baeza, Florencio</td>\n",
       "      <td>NaN</td>\n",
       "      <td>NaN</td>\n",
       "    </tr>\n",
       "    <tr>\n",
       "      <th>1</th>\n",
       "      <td>972</td>\n",
       "      <td>Araya\\nBolli</td>\n",
       "      <td>Semanario La Prensa. Los Andes</td>\n",
       "      <td>1928-04-05</td>\n",
       "      <td>882</td>\n",
       "      <td>Araya, Manuel</td>\n",
       "      <td>845.0</td>\n",
       "      <td>Juan Ferriere Boxing Club</td>\n",
       "      <td>780</td>\n",
       "      <td>Bolli, Carlos</td>\n",
       "      <td>750.0</td>\n",
       "      <td>Pedro Martínez Hnos. Boxing Club</td>\n",
       "    </tr>\n",
       "  </tbody>\n",
       "</table>\n",
       "</div>"
      ],
      "text/plain": [
       "   Challenge H-ID        challenge                          Source  \\\n",
       "0             969  Castillo\\nBaeza  Semanario La Prensa. Los Andes   \n",
       "1             972     Araya\\nBolli  Semanario La Prensa. Los Andes   \n",
       "\n",
       "  Source year  challenging_id   challenging_name  Club Affiliation H-ID_left  \\\n",
       "0  1928-03-02             865  Castillo, Ernesto                         NaN   \n",
       "1  1928-04-05             882      Araya, Manuel                       845.0   \n",
       "\n",
       "                 rec_Title.2  challenged_id   challenged_name  \\\n",
       "0                        NaN            836  Baeza, Florencio   \n",
       "1  Juan Ferriere Boxing Club            780     Bolli, Carlos   \n",
       "\n",
       "   Club Affiliation H-ID_right                 rec_Title.1_right  \n",
       "0                          NaN                               NaN  \n",
       "1                        750.0  Pedro Martínez Hnos. Boxing Club  "
      ]
     },
     "execution_count": 8,
     "metadata": {},
     "output_type": "execute_result"
    }
   ],
   "source": [
    "ch_01.rename({'Boxers challenging H-ID': 'challenging_id'}, axis = 1, inplace=True)\n",
    "ch_01.rename({'Boxer Challenged H-ID_right': 'challenged_id'}, axis = 1, inplace=True)\n",
    "ch_01.rename({'rec_Title_right': 'challenged_name'}, axis = 1, inplace=True)\n",
    "ch_01.rename({'rec_Title.1_left': 'challenging_name'}, axis = 1, inplace=True)\n",
    "ch_01.rename({'rec_Title_left': 'challenge'}, axis = 1, inplace=True)\n",
    "ch_01.head(2)"
   ]
  },
  {
   "cell_type": "markdown",
   "id": "dd35e4ee",
   "metadata": {},
   "source": [
    ">**CHANGE DATATYPE**"
   ]
  },
  {
   "cell_type": "code",
   "execution_count": 9,
   "id": "f3fec6a8",
   "metadata": {},
   "outputs": [],
   "source": [
    "ch_01 = ch_01.astype({\"challenging_id\": str, \"challenged_id\": str})"
   ]
  },
  {
   "cell_type": "code",
   "execution_count": 10,
   "id": "f0def4fa",
   "metadata": {},
   "outputs": [],
   "source": [
    "ch_01['Source year'] =  pd.to_datetime(ch_01['Source year'])"
   ]
  },
  {
   "cell_type": "code",
   "execution_count": 11,
   "id": "e125b172",
   "metadata": {},
   "outputs": [
    {
     "name": "stdout",
     "output_type": "stream",
     "text": [
      "<class 'pandas.core.frame.DataFrame'>\n",
      "RangeIndex: 38 entries, 0 to 37\n",
      "Data columns (total 12 columns):\n",
      " #   Column                       Non-Null Count  Dtype         \n",
      "---  ------                       --------------  -----         \n",
      " 0   Challenge H-ID               38 non-null     int64         \n",
      " 1   challenge                    38 non-null     object        \n",
      " 2   Source                       38 non-null     object        \n",
      " 3   Source year                  38 non-null     datetime64[ns]\n",
      " 4   challenging_id               38 non-null     object        \n",
      " 5   challenging_name             38 non-null     object        \n",
      " 6   Club Affiliation H-ID_left   5 non-null      float64       \n",
      " 7   rec_Title.2                  5 non-null      object        \n",
      " 8   challenged_id                38 non-null     object        \n",
      " 9   challenged_name              38 non-null     object        \n",
      " 10  Club Affiliation H-ID_right  3 non-null      float64       \n",
      " 11  rec_Title.1_right            3 non-null      object        \n",
      "dtypes: datetime64[ns](1), float64(2), int64(1), object(8)\n",
      "memory usage: 3.7+ KB\n"
     ]
    }
   ],
   "source": [
    "ch_01.info()"
   ]
  },
  {
   "cell_type": "markdown",
   "id": "3363428e",
   "metadata": {},
   "source": [
    ">**CREATE AND EDGELIST AND A NODELLIST**"
   ]
  },
  {
   "cell_type": "code",
   "execution_count": 12,
   "id": "e10db0a4",
   "metadata": {},
   "outputs": [],
   "source": [
    "#alternative 1\n",
    "A = nx.from_pandas_edgelist(ch_01, 'challenging_id', 'challenged_id', ['challenging_name', 'challenged_name'])"
   ]
  },
  {
   "cell_type": "code",
   "execution_count": 13,
   "id": "ffe9e607",
   "metadata": {},
   "outputs": [
    {
     "data": {
      "text/plain": [
       "61"
      ]
     },
     "execution_count": 13,
     "metadata": {},
     "output_type": "execute_result"
    }
   ],
   "source": [
    "len(A.nodes())"
   ]
  },
  {
   "cell_type": "code",
   "execution_count": 14,
   "id": "f7d68754",
   "metadata": {},
   "outputs": [],
   "source": [
    "#alternative 2\n",
    "G = nx.Graph()\n",
    "# Iterating through the DataFrame to add edges\n",
    "for node, edge in ch_01.iterrows():\n",
    "    G.add_edge(edge['challenging_id'], edge['challenged_id'])\n"
   ]
  },
  {
   "cell_type": "code",
   "execution_count": 15,
   "id": "bb58d3d4",
   "metadata": {},
   "outputs": [
    {
     "name": "stdout",
     "output_type": "stream",
     "text": [
      "61\n"
     ]
    }
   ],
   "source": [
    "print(len(A.nodes()))"
   ]
  },
  {
   "cell_type": "code",
   "execution_count": 16,
   "id": "52c3bc70",
   "metadata": {},
   "outputs": [
    {
     "name": "stdout",
     "output_type": "stream",
     "text": [
      "37\n"
     ]
    }
   ],
   "source": [
    "print(len(A.edges()))"
   ]
  },
  {
   "cell_type": "code",
   "execution_count": 17,
   "id": "3fd1c55c",
   "metadata": {},
   "outputs": [
    {
     "name": "stdout",
     "output_type": "stream",
     "text": [
      "61\n"
     ]
    }
   ],
   "source": [
    "print(len(G.nodes()))"
   ]
  },
  {
   "cell_type": "code",
   "execution_count": 18,
   "id": "4c3f5dd4",
   "metadata": {},
   "outputs": [
    {
     "name": "stdout",
     "output_type": "stream",
     "text": [
      "61\n"
     ]
    }
   ],
   "source": [
    "#alternative 3: with metadadta\n",
    "B = nx.from_pandas_edgelist(ch_01, 'challenging_id', 'challenged_id')\n",
    "for box,row in ch_01.iterrows():\n",
    "    B.nodes[row['challenging_id']]['name'] = row['challenging_name']\n",
    "    B.nodes[row['challenged_id']]['name'] = row['challenged_name']\n",
    "#print(B.nodes(data=True))\n",
    "print(len(B.nodes()))"
   ]
  },
  {
   "cell_type": "code",
   "execution_count": 19,
   "id": "c0505be4",
   "metadata": {},
   "outputs": [
    {
     "data": {
      "text/plain": [
       "NodeDataView({'865': {'name': 'Castillo, Ernesto'}, '836': {'name': 'Baeza, Florencio'}, '882': {'name': 'Araya, Manuel'}, '780': {'name': 'Bolli, Carlos'}, '833': {'name': 'Valdes, Mario'}, '272': {'name': 'Pérez, Amador'}, '976': {'name': 'Ortiz, Rafael'}, '827': {'name': 'Gallardo, Pedro'}, '189': {'name': 'Silva, Carlos'}, '987': {'name': 'Iñiguez, Mario'}, '302': {'name': 'Flores, Sara'}, '303': {'name': 'Farrafino, Clementina'}, '891': {'name': 'Huerta, Francisco'}, '573': {'name': 'Giaverini, Oscar'}, '158': {'name': 'Tapia, Julio'}, '1001': {'name': 'Inostroza, Ruperto'}, '1003': {'name': 'Alley, Juan'}, '321': {'name': 'Salinas, Juan'}, '647': {'name': 'Olguín, Humberto'}, '423': {'name': 'Valdenegro'}, '1006': {'name': 'Henriquez'}, '1008': {'name': 'Leiva'}, '332': {'name': 'Acosta, Luis J.'}, '1010': {'name': 'Molina, Erasmo'}, '1012': {'name': 'Parra, Routier'}, '502': {'name': 'Rios, Agustin'}, '1014': {'name': 'Arratia, Jose'}, '143': {'name': 'Caldera, Francisco'}, '572': {'name': 'Anguita, Oscar'}, '77': {'name': 'Guerrero, Angel'}, '146': {'name': 'Lasseube, Enrique'}, '639': {'name': 'Gonzalez, Johnston'}, '1021': {'name': 'Suarez, Pablo'}, '735': {'name': 'Correa, Luis'}, '1024': {'name': 'Cipry, John'}, '1026': {'name': 'Saavedra, Clemente'}, '732': {'name': 'Villablanca, Luis'}, '223': {'name': 'Jaña, Andres'}, '733': {'name': 'Meza, Fernando'}, '163': {'name': 'García, Francisco'}, '1031': {'name': 'Valdivieso, Raul'}, '162': {'name': 'Guerra, Oscar'}, '1035': {'name': 'Martinez, Alejandro'}, '175': {'name': 'Araya, Jorge'}, '98': {'name': 'Mery, Oscar'}, '174': {'name': 'Tapia, Manuel'}, '1038': {'name': 'Ibarra, Daniel'}, '177': {'name': 'Fajardo, Ruperto'}, '1040': {'name': 'Iglesias, Alvaro'}, '178': {'name': 'Vargas, Armando'}, '126': {'name': 'Rojas, Nicanor'}, '185': {'name': 'Amparán, Miguel'}, '1043': {'name': 'Mendez, Arturo'}, '933': {'name': 'Barros, Rogelio'}, '934': {'name': 'Trias, Alfonso'}, '935': {'name': 'Ibarra, Carlos'}, '936': {'name': 'Astorga, Raul'}, '1048': {'name': 'Sandoval, Luis'}, '937': {'name': 'Avendaño, Manuel'}, '938': {'name': 'Inostroza, Lupercio'}, '939': {'name': 'Salinas, Luis'}})"
      ]
     },
     "execution_count": 19,
     "metadata": {},
     "output_type": "execute_result"
    }
   ],
   "source": [
    "B.nodes(data=True)"
   ]
  },
  {
   "cell_type": "code",
   "execution_count": 20,
   "id": "7d76ea23",
   "metadata": {},
   "outputs": [
    {
     "name": "stdout",
     "output_type": "stream",
     "text": [
      "37\n"
     ]
    }
   ],
   "source": [
    "print(len(B.edges()))"
   ]
  },
  {
   "cell_type": "code",
   "execution_count": 21,
   "id": "1c99a1ad",
   "metadata": {},
   "outputs": [
    {
     "data": {
      "image/png": "[encoded data removed]",
      "text/plain": [
       "<Figure size 720x576 with 1 Axes>"
      ]
     },
     "metadata": {},
     "output_type": "display_data"
    }
   ],
   "source": [
    "from matplotlib.pyplot import figure\n",
    "\n",
    "figure(figsize=(10, 8))\n",
    "nx.draw(B, with_labels=True)"
   ]
  },
  {
   "cell_type": "code",
   "execution_count": 22,
   "id": "407cd112",
   "metadata": {},
   "outputs": [],
   "source": [
    "#B.nodes(data=True)"
   ]
  },
  {
   "cell_type": "markdown",
   "id": "04c9e0a1",
   "metadata": {},
   "source": [
    ">**CREATE A NODELIST**"
   ]
  },
  {
   "cell_type": "code",
   "execution_count": 23,
   "id": "5c0710e6",
   "metadata": {},
   "outputs": [],
   "source": [
    "#instantiation an empty list\n",
    "nodelist=[]\n",
    "#iterate over the nodes n and their dictionary metadata D\n",
    "for n,d in B.nodes(data=True):\n",
    "    #for every node we create a new record dictionary\n",
    "    node_data = dict()\n",
    "    #we use node to uniquely identify by its ID: make sure not to overlap with the metadata keys\n",
    "    node_data['node'] = n\n",
    "    #we update the record dictionary with the metadata dictionary, using the node_data dot update(other_dict) method, \n",
    "    #which will take one dictionary and add in key-value pairs in the other dictionary\n",
    "    node_data.update(d)\n",
    "    nodelist.append(node_data)\n",
    "#nodelist has been transform into a list of dictionary"
   ]
  },
  {
   "cell_type": "code",
   "execution_count": 24,
   "id": "702205fa",
   "metadata": {},
   "outputs": [],
   "source": [
    "df_nodes = pd.DataFrame(nodelist)"
   ]
  },
  {
   "cell_type": "code",
   "execution_count": 25,
   "id": "26f7bd78",
   "metadata": {},
   "outputs": [
    {
     "data": {
      "text/html": [
       "<div>\n",
       "<style scoped>\n",
       "    .dataframe tbody tr th:only-of-type {\n",
       "        vertical-align: middle;\n",
       "    }\n",
       "\n",
       "    .dataframe tbody tr th {\n",
       "        vertical-align: top;\n",
       "    }\n",
       "\n",
       "    .dataframe thead th {\n",
       "        text-align: right;\n",
       "    }\n",
       "</style>\n",
       "<table border=\"1\" class=\"dataframe\">\n",
       "  <thead>\n",
       "    <tr style=\"text-align: right;\">\n",
       "      <th></th>\n",
       "      <th>node</th>\n",
       "      <th>name</th>\n",
       "    </tr>\n",
       "  </thead>\n",
       "  <tbody>\n",
       "    <tr>\n",
       "      <th>0</th>\n",
       "      <td>865</td>\n",
       "      <td>Castillo, Ernesto</td>\n",
       "    </tr>\n",
       "    <tr>\n",
       "      <th>1</th>\n",
       "      <td>836</td>\n",
       "      <td>Baeza, Florencio</td>\n",
       "    </tr>\n",
       "    <tr>\n",
       "      <th>2</th>\n",
       "      <td>882</td>\n",
       "      <td>Araya, Manuel</td>\n",
       "    </tr>\n",
       "    <tr>\n",
       "      <th>3</th>\n",
       "      <td>780</td>\n",
       "      <td>Bolli, Carlos</td>\n",
       "    </tr>\n",
       "    <tr>\n",
       "      <th>4</th>\n",
       "      <td>833</td>\n",
       "      <td>Valdes, Mario</td>\n",
       "    </tr>\n",
       "    <tr>\n",
       "      <th>...</th>\n",
       "      <td>...</td>\n",
       "      <td>...</td>\n",
       "    </tr>\n",
       "    <tr>\n",
       "      <th>56</th>\n",
       "      <td>936</td>\n",
       "      <td>Astorga, Raul</td>\n",
       "    </tr>\n",
       "    <tr>\n",
       "      <th>57</th>\n",
       "      <td>1048</td>\n",
       "      <td>Sandoval, Luis</td>\n",
       "    </tr>\n",
       "    <tr>\n",
       "      <th>58</th>\n",
       "      <td>937</td>\n",
       "      <td>Avendaño, Manuel</td>\n",
       "    </tr>\n",
       "    <tr>\n",
       "      <th>59</th>\n",
       "      <td>938</td>\n",
       "      <td>Inostroza, Lupercio</td>\n",
       "    </tr>\n",
       "    <tr>\n",
       "      <th>60</th>\n",
       "      <td>939</td>\n",
       "      <td>Salinas, Luis</td>\n",
       "    </tr>\n",
       "  </tbody>\n",
       "</table>\n",
       "<p>61 rows × 2 columns</p>\n",
       "</div>"
      ],
      "text/plain": [
       "    node                 name\n",
       "0    865    Castillo, Ernesto\n",
       "1    836     Baeza, Florencio\n",
       "2    882        Araya, Manuel\n",
       "3    780        Bolli, Carlos\n",
       "4    833        Valdes, Mario\n",
       "..   ...                  ...\n",
       "56   936        Astorga, Raul\n",
       "57  1048       Sandoval, Luis\n",
       "58   937     Avendaño, Manuel\n",
       "59   938  Inostroza, Lupercio\n",
       "60   939        Salinas, Luis\n",
       "\n",
       "[61 rows x 2 columns]"
      ]
     },
     "execution_count": 25,
     "metadata": {},
     "output_type": "execute_result"
    }
   ],
   "source": [
    "df_nodes"
   ]
  },
  {
   "cell_type": "code",
   "execution_count": 26,
   "id": "a3fba32d",
   "metadata": {},
   "outputs": [],
   "source": [
    "pd.DataFrame(nodelist).to_csv('nodes.csv')"
   ]
  },
  {
   "cell_type": "markdown",
   "id": "4692063c",
   "metadata": {},
   "source": [
    ">**CREATE A EDGELIST** "
   ]
  },
  {
   "cell_type": "code",
   "execution_count": 27,
   "id": "6a217ca5",
   "metadata": {},
   "outputs": [
    {
     "name": "stdout",
     "output_type": "stream",
     "text": [
      "  node1 node2\n",
      "0   865   836\n",
      "1   882   780\n",
      "2   882   976\n",
      "3   833   272\n",
      "4   833   827\n"
     ]
    }
   ],
   "source": [
    "edgelist = []\n",
    "for n1, n2, d in B.edges(data=True):\n",
    "    # Initialize a dictionary that shows edge information: edgeinfo\n",
    "    edgeinfo = {'node1':n1, 'node2':n2}\n",
    "    # Update the edgeinfo data with the edge metadata\n",
    "    edgeinfo.update(d)\n",
    "    # Append the edgeinfo to the edgelist\n",
    "    edgelist.append(edgeinfo)\n",
    "# Create a pandas DataFrame of the edgelist: edge_df\n",
    "df_edges = pd.DataFrame(edgelist)\n",
    "print(df_edges.head())"
   ]
  },
  {
   "cell_type": "code",
   "execution_count": 28,
   "id": "200c1638",
   "metadata": {},
   "outputs": [
    {
     "data": {
      "text/html": [
       "<div>\n",
       "<style scoped>\n",
       "    .dataframe tbody tr th:only-of-type {\n",
       "        vertical-align: middle;\n",
       "    }\n",
       "\n",
       "    .dataframe tbody tr th {\n",
       "        vertical-align: top;\n",
       "    }\n",
       "\n",
       "    .dataframe thead th {\n",
       "        text-align: right;\n",
       "    }\n",
       "</style>\n",
       "<table border=\"1\" class=\"dataframe\">\n",
       "  <thead>\n",
       "    <tr style=\"text-align: right;\">\n",
       "      <th></th>\n",
       "      <th>node1</th>\n",
       "      <th>node2</th>\n",
       "    </tr>\n",
       "  </thead>\n",
       "  <tbody>\n",
       "    <tr>\n",
       "      <th>0</th>\n",
       "      <td>865</td>\n",
       "      <td>836</td>\n",
       "    </tr>\n",
       "    <tr>\n",
       "      <th>1</th>\n",
       "      <td>882</td>\n",
       "      <td>780</td>\n",
       "    </tr>\n",
       "    <tr>\n",
       "      <th>2</th>\n",
       "      <td>882</td>\n",
       "      <td>976</td>\n",
       "    </tr>\n",
       "    <tr>\n",
       "      <th>3</th>\n",
       "      <td>833</td>\n",
       "      <td>272</td>\n",
       "    </tr>\n",
       "    <tr>\n",
       "      <th>4</th>\n",
       "      <td>833</td>\n",
       "      <td>827</td>\n",
       "    </tr>\n",
       "  </tbody>\n",
       "</table>\n",
       "</div>"
      ],
      "text/plain": [
       "  node1 node2\n",
       "0   865   836\n",
       "1   882   780\n",
       "2   882   976\n",
       "3   833   272\n",
       "4   833   827"
      ]
     },
     "execution_count": 28,
     "metadata": {},
     "output_type": "execute_result"
    }
   ],
   "source": [
    "df_edges.head()"
   ]
  },
  {
   "cell_type": "markdown",
   "id": "f46e7259",
   "metadata": {},
   "source": [
    ">**DIGRAPHS**"
   ]
  },
  {
   "cell_type": "code",
   "execution_count": 29,
   "id": "70e375ce",
   "metadata": {},
   "outputs": [
    {
     "name": "stdout",
     "output_type": "stream",
     "text": [
      "61\n"
     ]
    }
   ],
   "source": [
    "#alternative 3: with metadadta\n",
    "C = nx.from_pandas_edgelist(ch_01, 'challenging_id', 'challenged_id')\n",
    "for box,row in ch_01.iterrows():\n",
    "    C.nodes[row['challenging_id']]['name'] = row['challenging_name']\n",
    "    C.nodes[row['challenged_id']]['name'] = row['challenged_name']\n",
    "#print(B.nodes(data=True))\n",
    "print(len(C.nodes()))"
   ]
  },
  {
   "cell_type": "code",
   "execution_count": 30,
   "id": "20f5b7f4",
   "metadata": {},
   "outputs": [
    {
     "data": {
      "text/plain": [
       "NodeDataView({'865': {'name': 'Castillo, Ernesto'}, '836': {'name': 'Baeza, Florencio'}, '882': {'name': 'Araya, Manuel'}, '780': {'name': 'Bolli, Carlos'}, '833': {'name': 'Valdes, Mario'}, '272': {'name': 'Pérez, Amador'}, '976': {'name': 'Ortiz, Rafael'}, '827': {'name': 'Gallardo, Pedro'}, '189': {'name': 'Silva, Carlos'}, '987': {'name': 'Iñiguez, Mario'}, '302': {'name': 'Flores, Sara'}, '303': {'name': 'Farrafino, Clementina'}, '891': {'name': 'Huerta, Francisco'}, '573': {'name': 'Giaverini, Oscar'}, '158': {'name': 'Tapia, Julio'}, '1001': {'name': 'Inostroza, Ruperto'}, '1003': {'name': 'Alley, Juan'}, '321': {'name': 'Salinas, Juan'}, '647': {'name': 'Olguín, Humberto'}, '423': {'name': 'Valdenegro'}, '1006': {'name': 'Henriquez'}, '1008': {'name': 'Leiva'}, '332': {'name': 'Acosta, Luis J.'}, '1010': {'name': 'Molina, Erasmo'}, '1012': {'name': 'Parra, Routier'}, '502': {'name': 'Rios, Agustin'}, '1014': {'name': 'Arratia, Jose'}, '143': {'name': 'Caldera, Francisco'}, '572': {'name': 'Anguita, Oscar'}, '77': {'name': 'Guerrero, Angel'}, '146': {'name': 'Lasseube, Enrique'}, '639': {'name': 'Gonzalez, Johnston'}, '1021': {'name': 'Suarez, Pablo'}, '735': {'name': 'Correa, Luis'}, '1024': {'name': 'Cipry, John'}, '1026': {'name': 'Saavedra, Clemente'}, '732': {'name': 'Villablanca, Luis'}, '223': {'name': 'Jaña, Andres'}, '733': {'name': 'Meza, Fernando'}, '163': {'name': 'García, Francisco'}, '1031': {'name': 'Valdivieso, Raul'}, '162': {'name': 'Guerra, Oscar'}, '1035': {'name': 'Martinez, Alejandro'}, '175': {'name': 'Araya, Jorge'}, '98': {'name': 'Mery, Oscar'}, '174': {'name': 'Tapia, Manuel'}, '1038': {'name': 'Ibarra, Daniel'}, '177': {'name': 'Fajardo, Ruperto'}, '1040': {'name': 'Iglesias, Alvaro'}, '178': {'name': 'Vargas, Armando'}, '126': {'name': 'Rojas, Nicanor'}, '185': {'name': 'Amparán, Miguel'}, '1043': {'name': 'Mendez, Arturo'}, '933': {'name': 'Barros, Rogelio'}, '934': {'name': 'Trias, Alfonso'}, '935': {'name': 'Ibarra, Carlos'}, '936': {'name': 'Astorga, Raul'}, '1048': {'name': 'Sandoval, Luis'}, '937': {'name': 'Avendaño, Manuel'}, '938': {'name': 'Inostroza, Lupercio'}, '939': {'name': 'Salinas, Luis'}})"
      ]
     },
     "execution_count": 30,
     "metadata": {},
     "output_type": "execute_result"
    }
   ],
   "source": [
    "C.nodes(data=True)"
   ]
  },
  {
   "cell_type": "code",
   "execution_count": 35,
   "id": "fd7d5b28",
   "metadata": {},
   "outputs": [],
   "source": [
    "for r, d in ch_01.iterrows():\n",
    "    C.add_edge(d['challenging_id'], d['challenged_id'], date = d['Source year'])"
   ]
  },
  {
   "cell_type": "code",
   "execution_count": 38,
   "id": "c98109ab",
   "metadata": {},
   "outputs": [
    {
     "name": "stdout",
     "output_type": "stream",
     "text": [
      "37\n"
     ]
    }
   ],
   "source": [
    "print(len(C.edges()))"
   ]
  },
  {
   "cell_type": "code",
   "execution_count": 39,
   "id": "8cc46059",
   "metadata": {},
   "outputs": [
    {
     "data": {
      "text/plain": [
       "EdgeDataView([('865', '836', {'date': Timestamp('1928-03-02 00:00:00')}), ('882', '780', {'date': Timestamp('1928-04-05 00:00:00')}), ('882', '976', {'date': Timestamp('1928-04-08 00:00:00')}), ('833', '272', {'date': Timestamp('1928-04-08 00:00:00')}), ('833', '827', {'date': Timestamp('1928-04-29 00:00:00')}), ('189', '987', {'date': Timestamp('1924-02-01 00:00:00')}), ('302', '303', {'date': Timestamp('1924-03-07 00:00:00')}), ('891', '573', {'date': Timestamp('1924-02-01 00:00:00')}), ('573', '143', {'date': Timestamp('1924-04-04 00:00:00')}), ('158', '1001', {'date': Timestamp('1924-03-07 00:00:00')}), ('1003', '321', {'date': Timestamp('1924-03-07 00:00:00')}), ('647', '423', {'date': Timestamp('1924-03-07 00:00:00')}), ('647', '1006', {'date': Timestamp('1924-03-07 00:00:00')}), ('647', '1008', {'date': Timestamp('1924-03-07 00:00:00')}), ('332', '1010', {'date': Timestamp('1924-03-14 00:00:00')}), ('332', '1012', {'date': Timestamp('1924-03-14 00:00:00')}), ('502', '1014', {'date': Timestamp('1924-03-14 00:00:00')}), ('143', '572', {'date': Timestamp('1924-04-04 00:00:00')}), ('77', '146', {'date': Timestamp('1924-01-23 00:00:00')}), ('146', '939', {'date': Timestamp('1924-01-23 00:00:00')}), ('639', '1021', {'date': Timestamp('1924-04-15 00:00:00')}), ('639', '735', {'date': Timestamp('1924-04-15 00:00:00')}), ('639', '1024', {'date': Timestamp('1924-04-15 00:00:00')}), ('639', '1026', {'date': Timestamp('1924-04-15 00:00:00')}), ('732', '223', {'date': Timestamp('1924-05-23 00:00:00')}), ('732', '733', {'date': Timestamp('1924-05-23 00:00:00')}), ('163', '1031', {'date': Timestamp('1924-01-25 00:00:00')}), ('162', '1035', {'date': Timestamp('1924-01-25 00:00:00')}), ('175', '98', {'date': Timestamp('1924-01-25 00:00:00')}), ('174', '1038', {'date': Timestamp('1924-01-25 00:00:00')}), ('177', '1040', {'date': Timestamp('1924-01-25 00:00:00')}), ('178', '126', {'date': Timestamp('1924-01-25 00:00:00')}), ('185', '1043', {'date': Timestamp('1924-01-25 00:00:00')}), ('933', '934', {'date': Timestamp('1924-01-23 00:00:00')}), ('935', '936', {'date': Timestamp('1924-01-23 00:00:00')}), ('935', '1048', {'date': Timestamp('1924-01-23 00:00:00')}), ('937', '938', {'date': Timestamp('1924-01-23 00:00:00')})])"
      ]
     },
     "execution_count": 39,
     "metadata": {},
     "output_type": "execute_result"
    }
   ],
   "source": [
    "C.edges(data=True)"
   ]
  },
  {
   "cell_type": "code",
   "execution_count": 32,
   "id": "e523c208",
   "metadata": {},
   "outputs": [],
   "source": [
    "#FFROM DATACAMP\n",
    "from datetime import datetime\n",
    "# Instantiate a new graph: G_sub\n",
    "C_sub = nx.Graph()\n",
    "\n",
    "# Add nodes from the original graph\n",
    "C_sub.add_nodes_from(C.nodes(data=True))\n",
    "\n",
    "# Add edges using a list comprehension with one conditional on the edge dates.\n",
    "C_sub.add_edges_from([(u, v, d) for u, v, d in C.edges(data=True) if d['date'] < datetime(1930,1,1)])"
   ]
  },
  {
   "cell_type": "code",
   "execution_count": 33,
   "id": "1aec9d3a",
   "metadata": {},
   "outputs": [
    {
     "name": "stdout",
     "output_type": "stream",
     "text": [
      "37\n"
     ]
    }
   ],
   "source": [
    "print(len(C_sub.edges()))"
   ]
  },
  {
   "cell_type": "code",
   "execution_count": 34,
   "id": "53b785cf",
   "metadata": {},
   "outputs": [
    {
     "data": {
      "image/png": "[encoded data removed]",
      "text/plain": [
       "<Figure size 720x576 with 1 Axes>"
      ]
     },
     "metadata": {},
     "output_type": "display_data"
    }
   ],
   "source": [
    "pos = nx.spring_layout(C)\n",
    "figure(figsize=(10, 8))\n",
    "nx.draw(C, pos, with_labels = True, node_size = 20, font_size=8)\n",
    "nx.draw_networkx_edges(C, pos, arrows=True, arrowsize=8, arrowstyle=\"->\")\n",
    "nx.draw_networkx_labels(C, pos, font_size=8)\n",
    "fig1 = plt.gcf()\n",
    "fig1.savefig(\"/Users/hernanadasme/Documents/data_challenges/graph_3.jpg\", dpi=600) \n",
    "\n"
   ]
  },
  {
   "cell_type": "code",
   "execution_count": 35,
   "id": "47d424ca",
   "metadata": {},
   "outputs": [
    {
     "data": {
      "text/plain": [
       "{'865': Text(0.5024334414639294, -0.21937735622720045, '865'),\n",
       " '836': Text(0.47715740238511656, 0.2699559258264029, '836'),\n",
       " '882': Text(0.44966221913011933, 0.1795811984791788, '882'),\n",
       " '780': Text(0.9330996843783507, 0.09958290937634891, '780'),\n",
       " '833': Text(0.415244486504687, 0.2589419855009039, '833'),\n",
       " '272': Text(0.9051807071588486, 0.2507532044529706, '272'),\n",
       " '976': Text(-0.03439388357939678, 0.25503802760973054, '976'),\n",
       " '827': Text(-0.07465260642348667, 0.2529079792954907, '827'),\n",
       " '189': Text(0.5022955011224185, 0.2196552060268155, '189'),\n",
       " '987': Text(0.1260423074607552, 0.5335343041495636, '987'),\n",
       " '302': Text(0.4467145571259713, 0.31780394217405067, '302'),\n",
       " '303': Text(0.014207494884627478, 0.5480725374647883, '303'),\n",
       " '891': Text(0.4935990201471812, 0.6331684962769938, '891'),\n",
       " '573': Text(0.03999783033251328, 0.4467141609214439, '573'),\n",
       " '158': Text(0.28212071129709265, 0.4700536080362892, '158'),\n",
       " '1001': Text(-0.20640063521182472, 0.5079069047327027, '1001'),\n",
       " '1003': Text(0.17998632744084717, 0.5178207937894018, '1003'),\n",
       " '321': Text(-0.3059423872253182, 0.45489429150659666, '321'),\n",
       " '647': Text(-0.20701804183356667, 0.4412331150517695, '647'),\n",
       " '423': Text(0.2013366794800935, 0.7672237669809517, '423'),\n",
       " '1006': Text(-0.6928220094739301, 0.6334937948604612, '1006'),\n",
       " '1008': Text(-0.12845490041711258, -0.07507631519453202, '1008'),\n",
       " '332': Text(-0.36037393919567534, 0.33896492183645316, '332'),\n",
       " '1010': Text(-0.4629105691493962, 0.8181197016117184, '1010'),\n",
       " '1012': Text(-0.22787872230401118, -0.1328351905349678, '1012'),\n",
       " '502': Text(-0.3061546923651214, 0.45478640540894777, '502'),\n",
       " '1014': Text(-0.547478675069771, 0.028349270790609792, '1014'),\n",
       " '143': Text(-0.392951547405522, 0.21617541301157053, '143'),\n",
       " '572': Text(-0.8008587489049739, -0.05609315049455187, '572'),\n",
       " '77': Text(-0.6137208603891807, 0.20749434146316698, '77'),\n",
       " '146': Text(-0.16122062487613975, 0.01956450873277189, '146'),\n",
       " '639': Text(-0.4697538483235727, -0.12357049200636337, '639'),\n",
       " '1021': Text(-0.5757177932997048, 0.40665332413204947, '1021'),\n",
       " '735': Text(-1.0, -0.22984548490418286, '735'),\n",
       " '1024': Text(-0.3636621864870889, -0.6537456240149436, '1024'),\n",
       " '1026': Text(0.06041393058285453, -0.017976499133748082, '1026'),\n",
       " '732': Text(-0.382447281696489, -0.313801054041052, '732'),\n",
       " '223': Text(-0.8707930120010932, -0.35405648050867905, '223'),\n",
       " '733': Text(0.10245706432620065, -0.2429644974420836, '733'),\n",
       " '163': Text(-0.49034630207854657, -0.2451802603818015, '163'),\n",
       " '1031': Text(-0.09846155919240547, -0.5393102858563011, '1031'),\n",
       " '162': Text(-0.42981271326123527, -0.3403136363152892, '162'),\n",
       " '1035': Text(0.01395763613095354, -0.5480494265641691, '1035'),\n",
       " '175': Text(-0.3510994583644729, -0.4210296689936448, '175'),\n",
       " '98': Text(0.12578011755241597, -0.5336004656650599, '98'),\n",
       " '174': Text(-0.2575467246720288, -0.4839337076970367, '174'),\n",
       " '1038': Text(0.23227641341406213, -0.49657755975264484, '1038'),\n",
       " '177': Text(-0.15313740071267942, -0.5263812326967723, '177'),\n",
       " '1040': Text(0.328918609526488, -0.43858290749337153, '1040'),\n",
       " '178': Text(-0.04220046661919713, -0.5465865381026557, '178'),\n",
       " '126': Text(0.41169254793777516, -0.3620119257071107, '126'),\n",
       " '185': Text(0.07052300214069841, -0.5436605587321875, '185'),\n",
       " '1043': Text(0.4770537272876457, -0.2701293210716418, '1043'),\n",
       " '933': Text(0.18027061018672808, -0.5177252057313873, '933'),\n",
       " '934': Text(0.522225365323066, -0.1667924854686392, '934'),\n",
       " '935': Text(0.43478566122521933, -0.23601016340482495, '935'),\n",
       " '936': Text(0.6560093223073284, -0.6732324885971182, '936'),\n",
       " '1048': Text(0.18648336081597897, 0.18647820147983055, '1048'),\n",
       " '937': Text(0.4118786620627159, -0.36183319583397056, '937'),\n",
       " '938': Text(0.5366729169417916, 0.1119942621702114, '938'),\n",
       " '939': Text(0.2877342724584669, -0.17663332458225323, '939')}"
      ]
     },
     "execution_count": 35,
     "metadata": {},
     "output_type": "execute_result"
    },
    {
     "data": {
      "image/png": "[encoded data removed]",
      "text/plain": [
       "<Figure size 432x288 with 1 Axes>"
      ]
     },
     "metadata": {},
     "output_type": "display_data"
    }
   ],
   "source": [
    "pos = nx.kamada_kawai_layout(C)\n",
    "nx.draw(C, pos, with_labels = True, node_size = 40, font_size=5, node_color=\"#210070\")\n",
    "nx.draw_networkx_edges(C, pos, edge_color =\"m\")\n",
    "label_options = {\"ec\": \"k\", \"fc\": \"white\", \"alpha\": 0.7}\n",
    "nx.draw_networkx_labels(C, pos, font_size=8, bbox=label_options)"
   ]
  },
  {
   "cell_type": "markdown",
   "id": "381df358",
   "metadata": {},
   "source": [
    ">**DATACAMP EXAMPLE**"
   ]
  },
  {
   "cell_type": "code",
   "execution_count": 29,
   "id": "6523069e",
   "metadata": {},
   "outputs": [],
   "source": [
    "D = nx.Graph()\n",
    "D.add_nodes_from(ch_01['challenging_id'], bipartite = 'challenger')\n",
    "D.add_nodes_from(ch_01['challenged_id'], bipartite = 'challenged')"
   ]
  },
  {
   "cell_type": "code",
   "execution_count": 95,
   "id": "4b89779c",
   "metadata": {},
   "outputs": [
    {
     "data": {
      "text/plain": [
       "NodeDataView({'865': {'bipartite': 'challenger', 'dc': 0.125}, '882': {'bipartite': 'challenged', 'dc': 0.25}, '833': {'bipartite': 'challenger', 'dc': 0.25}, '976': {'bipartite': 'challenger', 'dc': 0.125}, '189': {'bipartite': 'challenger', 'dc': 0.125}, '302': {'bipartite': 'challenger', 'dc': 0.125}, '891': {'bipartite': 'challenger', 'dc': 0.125}, '158': {'bipartite': 'challenger', 'dc': 0.125}, '1003': {'bipartite': 'challenger', 'dc': 0.125}, '647': {'bipartite': 'challenger', 'dc': 0.375}, '332': {'bipartite': 'challenger', 'dc': 0.25}, '502': {'bipartite': 'challenger', 'dc': 0.125}, '143': {'bipartite': 'challenger', 'dc': 0.25}, '77': {'bipartite': 'challenger', 'dc': 0.125}, '639': {'bipartite': 'challenger', 'dc': 0.5}, '732': {'bipartite': 'challenger', 'dc': 0.25}, '163': {'bipartite': 'challenger', 'dc': 0.125}, '162': {'bipartite': 'challenger', 'dc': 0.125}, '175': {'bipartite': 'challenger', 'dc': 0.125}, '174': {'bipartite': 'challenger', 'dc': 0.125}, '177': {'bipartite': 'challenger', 'dc': 0.125}, '178': {'bipartite': 'challenger', 'dc': 0.125}, '185': {'bipartite': 'challenger', 'dc': 0.125}, '933': {'bipartite': 'challenger', 'dc': 0.125}, '935': {'bipartite': 'challenger', 'dc': 0.25}, '937': {'bipartite': 'challenger', 'dc': 0.125}, '939': {'bipartite': 'challenger', 'dc': 0.125}, '836': {'bipartite': 'challenged', 'dc': 0.125}, '780': {'bipartite': 'challenged', 'dc': 0.125}, '272': {'bipartite': 'challenged', 'dc': 0.125}, '827': {'bipartite': 'challenged', 'dc': 0.125}, '987': {'bipartite': 'challenged', 'dc': 0.125}, '303': {'bipartite': 'challenged', 'dc': 0.125}, '573': {'bipartite': 'challenged', 'dc': 0.25}, '1001': {'bipartite': 'challenged', 'dc': 0.125}, '321': {'bipartite': 'challenged', 'dc': 0.125}, '423': {'bipartite': 'challenged', 'dc': 0.125}, '1006': {'bipartite': 'challenged', 'dc': 0.125}, '1008': {'bipartite': 'challenged', 'dc': 0.125}, '1010': {'bipartite': 'challenged', 'dc': 0.125}, '1012': {'bipartite': 'challenged', 'dc': 0.125}, '1014': {'bipartite': 'challenged', 'dc': 0.125}, '572': {'bipartite': 'challenged', 'dc': 0.125}, '146': {'bipartite': 'challenged', 'dc': 0.25}, '1021': {'bipartite': 'challenged', 'dc': 0.125}, '735': {'bipartite': 'challenged', 'dc': 0.125}, '1024': {'bipartite': 'challenged', 'dc': 0.125}, '1026': {'bipartite': 'challenged', 'dc': 0.125}, '223': {'bipartite': 'challenged', 'dc': 0.125}, '733': {'bipartite': 'challenged', 'dc': 0.125}, '1031': {'bipartite': 'challenged', 'dc': 0.125}, '1035': {'bipartite': 'challenged', 'dc': 0.125}, '98': {'bipartite': 'challenged', 'dc': 0.125}, '1038': {'bipartite': 'challenged', 'dc': 0.125}, '1040': {'bipartite': 'challenged', 'dc': 0.125}, '126': {'bipartite': 'challenged', 'dc': 0.125}, '1043': {'bipartite': 'challenged', 'dc': 0.125}, '934': {'bipartite': 'challenged', 'dc': 0.125}, '936': {'bipartite': 'challenged', 'dc': 0.125}, '1048': {'bipartite': 'challenged', 'dc': 0.125}, '938': {'bipartite': 'challenged', 'dc': 0.125}})"
      ]
     },
     "execution_count": 95,
     "metadata": {},
     "output_type": "execute_result"
    }
   ],
   "source": [
    "D.nodes(data=True)"
   ]
  },
  {
   "cell_type": "code",
   "execution_count": 31,
   "id": "0979a7ae",
   "metadata": {},
   "outputs": [
    {
     "name": "stdout",
     "output_type": "stream",
     "text": [
      "61\n"
     ]
    }
   ],
   "source": [
    "print(len(D.nodes()))"
   ]
  },
  {
   "cell_type": "code",
   "execution_count": 32,
   "id": "ef0ebc2c",
   "metadata": {},
   "outputs": [
    {
     "data": {
      "text/plain": [
       "37"
      ]
     },
     "execution_count": 32,
     "metadata": {},
     "output_type": "execute_result"
    }
   ],
   "source": [
    "D.edges()\n",
    "D.add_edges_from(zip(ch_01['challenging_id'], ch_01['challenged_id']))\n",
    "len(D.edges())"
   ]
  },
  {
   "cell_type": "code",
   "execution_count": 33,
   "id": "34433475",
   "metadata": {},
   "outputs": [
    {
     "data": {
      "text/plain": [
       "EdgeView([('865', '836'), ('882', '780'), ('882', '976'), ('833', '272'), ('833', '827'), ('189', '987'), ('302', '303'), ('891', '573'), ('158', '1001'), ('1003', '321'), ('647', '423'), ('647', '1006'), ('647', '1008'), ('332', '1010'), ('332', '1012'), ('502', '1014'), ('143', '572'), ('143', '573'), ('77', '146'), ('639', '1021'), ('639', '735'), ('639', '1024'), ('639', '1026'), ('732', '223'), ('732', '733'), ('163', '1031'), ('162', '1035'), ('175', '98'), ('174', '1038'), ('177', '1040'), ('178', '126'), ('185', '1043'), ('933', '934'), ('935', '936'), ('935', '1048'), ('937', '938'), ('939', '146')])"
      ]
     },
     "execution_count": 33,
     "metadata": {},
     "output_type": "execute_result"
    }
   ],
   "source": [
    "D.edges()"
   ]
  },
  {
   "cell_type": "markdown",
   "id": "e281c887",
   "metadata": {},
   "source": [
    ">**BIPARTITE PROJECTIONS**"
   ]
  },
  {
   "cell_type": "code",
   "execution_count": 34,
   "id": "8bec0541",
   "metadata": {},
   "outputs": [],
   "source": [
    "#Get the BOXERS partition's nodes: challeger_nodes and challenged_nodes\n",
    "challenger_nodes = [n for n in D.nodes() if D.nodes[n]['bipartite'] == 'challenger']\n",
    "challenged_nodes = [n for n in D.nodes() if D.nodes[n]['bipartite'] == 'challenged']"
   ]
  },
  {
   "cell_type": "code",
   "execution_count": 35,
   "id": "379ca33d",
   "metadata": {},
   "outputs": [],
   "source": [
    "# Create the challenger and challenged nodes projection as a graph: challengerD and challengedD\n",
    "challengerD = nx.bipartite.projected_graph(D, nodes=challenger_nodes) \n",
    "challengedD = nx.bipartite.projected_graph(D, nodes=challenged_nodes)"
   ]
  },
  {
   "cell_type": "code",
   "execution_count": 36,
   "id": "1abf672b",
   "metadata": {},
   "outputs": [
    {
     "data": {
      "text/plain": [
       "27"
      ]
     },
     "execution_count": 36,
     "metadata": {},
     "output_type": "execute_result"
    }
   ],
   "source": [
    "len(challengerD.nodes())\n"
   ]
  },
  {
   "cell_type": "code",
   "execution_count": 37,
   "id": "e140b56e",
   "metadata": {},
   "outputs": [
    {
     "data": {
      "text/plain": [
       "36"
      ]
     },
     "execution_count": 37,
     "metadata": {},
     "output_type": "execute_result"
    }
   ],
   "source": [
    "len(challengedD.nodes())"
   ]
  },
  {
   "cell_type": "code",
   "execution_count": 38,
   "id": "41bfa2ad",
   "metadata": {},
   "outputs": [
    {
     "data": {
      "text/plain": [
       "NodeDataView({'865': {'bipartite': 'challenger'}, '833': {'bipartite': 'challenger'}, '976': {'bipartite': 'challenger'}, '189': {'bipartite': 'challenger'}, '302': {'bipartite': 'challenger'}, '891': {'bipartite': 'challenger'}, '158': {'bipartite': 'challenger'}, '1003': {'bipartite': 'challenger'}, '647': {'bipartite': 'challenger'}, '332': {'bipartite': 'challenger'}, '502': {'bipartite': 'challenger'}, '143': {'bipartite': 'challenger'}, '77': {'bipartite': 'challenger'}, '639': {'bipartite': 'challenger'}, '732': {'bipartite': 'challenger'}, '163': {'bipartite': 'challenger'}, '162': {'bipartite': 'challenger'}, '175': {'bipartite': 'challenger'}, '174': {'bipartite': 'challenger'}, '177': {'bipartite': 'challenger'}, '178': {'bipartite': 'challenger'}, '185': {'bipartite': 'challenger'}, '933': {'bipartite': 'challenger'}, '935': {'bipartite': 'challenger'}, '937': {'bipartite': 'challenger'}, '939': {'bipartite': 'challenger'}, '780': {}})"
      ]
     },
     "execution_count": 38,
     "metadata": {},
     "output_type": "execute_result"
    }
   ],
   "source": [
    "challengerD.nodes(data=True)"
   ]
  },
  {
   "cell_type": "code",
   "execution_count": 39,
   "id": "629285c8",
   "metadata": {},
   "outputs": [
    {
     "data": {
      "text/plain": [
       "NodeDataView({'882': {'bipartite': 'challenged'}, '836': {'bipartite': 'challenged'}, '780': {'bipartite': 'challenged'}, '272': {'bipartite': 'challenged'}, '827': {'bipartite': 'challenged'}, '987': {'bipartite': 'challenged'}, '303': {'bipartite': 'challenged'}, '573': {'bipartite': 'challenged'}, '1001': {'bipartite': 'challenged'}, '321': {'bipartite': 'challenged'}, '423': {'bipartite': 'challenged'}, '1006': {'bipartite': 'challenged'}, '1008': {'bipartite': 'challenged'}, '1010': {'bipartite': 'challenged'}, '1012': {'bipartite': 'challenged'}, '1014': {'bipartite': 'challenged'}, '572': {'bipartite': 'challenged'}, '146': {'bipartite': 'challenged'}, '1021': {'bipartite': 'challenged'}, '735': {'bipartite': 'challenged'}, '1024': {'bipartite': 'challenged'}, '1026': {'bipartite': 'challenged'}, '223': {'bipartite': 'challenged'}, '733': {'bipartite': 'challenged'}, '1031': {'bipartite': 'challenged'}, '1035': {'bipartite': 'challenged'}, '98': {'bipartite': 'challenged'}, '1038': {'bipartite': 'challenged'}, '1040': {'bipartite': 'challenged'}, '126': {'bipartite': 'challenged'}, '1043': {'bipartite': 'challenged'}, '934': {'bipartite': 'challenged'}, '936': {'bipartite': 'challenged'}, '1048': {'bipartite': 'challenged'}, '938': {'bipartite': 'challenged'}, '976': {}})"
      ]
     },
     "execution_count": 39,
     "metadata": {},
     "output_type": "execute_result"
    }
   ],
   "source": [
    "challengedD.nodes(data=True)"
   ]
  },
  {
   "cell_type": "code",
   "execution_count": 40,
   "id": "d2ef255e",
   "metadata": {},
   "outputs": [
    {
     "data": {
      "image/png": "[encoded data removed]",
      "text/plain": [
       "<Figure size 432x288 with 1 Axes>"
      ]
     },
     "metadata": {
      "needs_background": "light"
     },
     "output_type": "display_data"
    }
   ],
   "source": [
    "# Calculate the degree centrality using nx.degree_centrality: challenger_cent\n",
    "challenger_cent = nx.degree_centrality(challengerD)\n",
    "\n",
    "# Plot the histogram of degree centrality values\n",
    "plt.hist(list(challenger_cent.values()))\n",
    "#plt.yscale('log')  \n",
    "plt.show() "
   ]
  },
  {
   "cell_type": "code",
   "execution_count": 41,
   "id": "fcd582e5",
   "metadata": {},
   "outputs": [
    {
     "data": {
      "image/png": "[encoded data removed]",
      "text/plain": [
       "<Figure size 432x288 with 1 Axes>"
      ]
     },
     "metadata": {
      "needs_background": "light"
     },
     "output_type": "display_data"
    }
   ],
   "source": [
    "# Calculate the degree centrality using nx.degree_centrality: challenged_cent\n",
    "challenged_cent = nx.degree_centrality(challengedD)\n",
    "\n",
    "# Plot the histogram of degree centrality values\n",
    "plt.hist(list(challenged_cent.values()))\n",
    "#plt.yscale('log')  \n",
    "plt.show() "
   ]
  },
  {
   "cell_type": "markdown",
   "id": "a610adc3",
   "metadata": {},
   "source": [
    ">**ADDING EDGES WITH DATA**"
   ]
  },
  {
   "cell_type": "code",
   "execution_count": 42,
   "id": "55446291",
   "metadata": {},
   "outputs": [],
   "source": [
    "#for r, d in data.iterrows():\n",
    "    #G.add_edge(d['student'], d['forum'], date=d['date'])"
   ]
  },
  {
   "cell_type": "markdown",
   "id": "817d3635",
   "metadata": {},
   "source": [
    ">**GRAPH FILTERING** "
   ]
  },
  {
   "cell_type": "code",
   "execution_count": null,
   "id": "983fa2f6",
   "metadata": {},
   "outputs": [],
   "source": []
  },
  {
   "cell_type": "markdown",
   "id": "64464367",
   "metadata": {},
   "source": [
    ">**VISUALIZATIONS**"
   ]
  },
  {
   "cell_type": "code",
   "execution_count": 59,
   "id": "cb4d1f38",
   "metadata": {},
   "outputs": [
    {
     "data": {
      "image/png": "[encoded data removed]",
      "text/plain": [
       "<Figure size 432x288 with 1 Axes>"
      ]
     },
     "metadata": {
      "needs_background": "light"
     },
     "output_type": "display_data"
    }
   ],
   "source": [
    "#To be most informative and communicative, a graph visualization should first prioritize node placement \n",
    "#in a fashion that makes sense.\n",
    "from nxviz import CircosPlot\n",
    "c = CircosPlot(D, node_grouping = 'bipartite', node_color = 'bipartite')\n",
    "annotate.circos_group(D, group_by=\"bipartite\")\n",
    "fig2 = plt.gcf()\n",
    "fig2.savefig(\"/Users/hernanadasme/Documents/data_challenges/graph_4.jpg\", dpi=600) \n"
   ]
  },
  {
   "cell_type": "code",
   "execution_count": 53,
   "id": "64582d68",
   "metadata": {},
   "outputs": [
    {
     "data": {
      "image/png": "[encoded data removed]",
      "text/plain": [
       "<Figure size 432x288 with 1 Axes>"
      ]
     },
     "metadata": {
      "needs_background": "light"
     },
     "output_type": "display_data"
    }
   ],
   "source": [
    "# Compute degree centrality scores of each node\n",
    "dcs = nx.bipartite.degree_centrality(D, nodes='challenger')\n",
    "for n, d in D.nodes(data=True):\n",
    "    D.nodes[n]['dc'] = dcs[n]\n",
    "\n",
    "# Create the CircosPlot object: c\n",
    "c_1 = CircosPlot(D, node_color='bipartite', node_grouping='bipartite', node_order='dc')\n",
    "annotate.circos_group(D, group_by=\"bipartite\")\n",
    "fig3 = plt.gcf()\n",
    "fig3.savefig(\"/Users/hernanadasme/Documents/data_challenges/graph_4_cent.jpg\", dpi=600) "
   ]
  },
  {
   "cell_type": "code",
   "execution_count": 46,
   "id": "7d5f498b",
   "metadata": {},
   "outputs": [
    {
     "name": "stdout",
     "output_type": "stream",
     "text": [
      "{'185': 0.125, '882': 0.25, '573': 0.25, '1021': 0.125, '933': 0.125, '1008': 0.125, '177': 0.125, '1043': 0.125, '302': 0.125, '77': 0.125, '98': 0.125, '833': 0.25, '934': 0.125, '189': 0.125, '891': 0.125, '935': 0.25, '780': 0.125, '272': 0.125, '827': 0.125, '1014': 0.125, '987': 0.125, '1003': 0.125, '303': 0.125, '163': 0.125, '175': 0.125, '937': 0.125, '1010': 0.125, '146': 0.25, '1031': 0.125, '1040': 0.125, '733': 0.125, '976': 0.125, '143': 0.25, '639': 0.5, '1001': 0.125, '332': 0.25, '174': 0.125, '126': 0.125, '1012': 0.125, '1024': 0.125, '735': 0.125, '647': 0.375, '938': 0.125, '936': 0.125, '939': 0.125, '572': 0.125, '162': 0.125, '1038': 0.125, '178': 0.125, '502': 0.125, '1006': 0.125, '732': 0.25, '321': 0.125, '1035': 0.125, '423': 0.125, '865': 0.125, '836': 0.125, '1026': 0.125, '1048': 0.125, '223': 0.125, '158': 0.125}\n"
     ]
    }
   ],
   "source": [
    "print(dcs)"
   ]
  },
  {
   "cell_type": "code",
   "execution_count": 47,
   "id": "4729e7b2",
   "metadata": {},
   "outputs": [
    {
     "data": {
      "text/plain": [
       "NodeView(('865', '882', '833', '976', '189', '302', '891', '158', '1003', '647', '332', '502', '143', '77', '639', '732', '163', '162', '175', '174', '177', '178', '185', '933', '935', '937', '939', '836', '780', '272', '827', '987', '303', '573', '1001', '321', '423', '1006', '1008', '1010', '1012', '1014', '572', '146', '1021', '735', '1024', '1026', '223', '733', '1031', '1035', '98', '1038', '1040', '126', '1043', '934', '936', '1048', '938'))"
      ]
     },
     "execution_count": 47,
     "metadata": {},
     "output_type": "execute_result"
    }
   ],
   "source": [
    "D.nodes()"
   ]
  },
  {
   "cell_type": "markdown",
   "id": "4abf29a7",
   "metadata": {},
   "source": [
    ">**MATRIXPLOT**"
   ]
  },
  {
   "cell_type": "code",
   "execution_count": null,
   "id": "4302075a",
   "metadata": {},
   "outputs": [],
   "source": [
    "#Get the BOXERS partition's nodes: challeger_nodes and challenged_nodes\n",
    "#challenger_nodes = [n for n in D.nodes() if D.nodes[n]['bipartite'] == 'challenger']\n",
    "#challenged_nodes = [n for n in D.nodes() if D.nodes[n]['bipartite'] == 'challenged']"
   ]
  },
  {
   "cell_type": "code",
   "execution_count": 77,
   "id": "c78e4e6d",
   "metadata": {},
   "outputs": [
    {
     "data": {
      "text/plain": [
       "<26x35 sparse matrix of type '<class 'numpy.int64'>'\n",
       "\twith 36 stored elements in Compressed Sparse Row format>"
      ]
     },
     "execution_count": 77,
     "metadata": {},
     "output_type": "execute_result"
    }
   ],
   "source": [
    "mat = nx.bipartite.biadjacency_matrix(D, row_order = challenger_nodes, column_order = challenged_nodes)\n",
    "mat"
   ]
  },
  {
   "cell_type": "code",
   "execution_count": 79,
   "id": "d61024b6",
   "metadata": {},
   "outputs": [],
   "source": [
    "matrix = mat @ mat.T"
   ]
  },
  {
   "cell_type": "code",
   "execution_count": 80,
   "id": "99ffc832",
   "metadata": {},
   "outputs": [
    {
     "name": "stdout",
     "output_type": "stream",
     "text": [
      "  (0, 0)\t1\n",
      "  (1, 1)\t2\n",
      "  (2, 2)\t1\n",
      "  (3, 3)\t1\n",
      "  (4, 4)\t1\n",
      "  (5, 11)\t1\n",
      "  (5, 5)\t1\n",
      "  (6, 6)\t1\n",
      "  (7, 7)\t1\n",
      "  (8, 8)\t3\n",
      "  (9, 9)\t2\n",
      "  (10, 10)\t1\n",
      "  (11, 11)\t2\n",
      "  (11, 5)\t1\n",
      "  (12, 25)\t1\n",
      "  (12, 12)\t1\n",
      "  (13, 13)\t4\n",
      "  (14, 14)\t2\n",
      "  (15, 15)\t1\n",
      "  (16, 16)\t1\n",
      "  (17, 17)\t1\n",
      "  (18, 18)\t1\n",
      "  (19, 19)\t1\n",
      "  (20, 20)\t1\n",
      "  (21, 21)\t1\n",
      "  (22, 22)\t1\n",
      "  (23, 23)\t2\n",
      "  (24, 24)\t1\n",
      "  (25, 25)\t1\n",
      "  (25, 12)\t1\n"
     ]
    }
   ],
   "source": [
    "print(matrix)"
   ]
  },
  {
   "cell_type": "code",
   "execution_count": 76,
   "id": "27bcb0bc",
   "metadata": {},
   "outputs": [],
   "source": [
    "#nv.matrix(D, group_by=\"bipartite\", node_color_by=\"bipartite\")"
   ]
  },
  {
   "cell_type": "markdown",
   "id": "63beab76",
   "metadata": {},
   "source": [
    ">**INVESTIGATING NODES OF INTEREST**"
   ]
  },
  {
   "cell_type": "code",
   "execution_count": 82,
   "id": "2fa33a3f",
   "metadata": {},
   "outputs": [],
   "source": [
    "#noi = '639'\n",
    "#degs = []\n",
    "#for g in D:\n",
    "    #degs.append(len(g.neighbors(noi)))\n",
    "#plt.plot(degs)\n",
    "#plt.show()"
   ]
  },
  {
   "cell_type": "code",
   "execution_count": null,
   "id": "2e3153f9",
   "metadata": {},
   "outputs": [],
   "source": []
  }
 ],
 "metadata": {
  "kernelspec": {
   "display_name": "Python 3 (ipykernel)",
   "language": "python",
   "name": "python3"
  },
  "language_info": {
   "codemirror_mode": {
    "name": "ipython",
    "version": 3
   },
   "file_extension": ".py",
   "mimetype": "text/x-python",
   "name": "python",
   "nbconvert_exporter": "python",
   "pygments_lexer": "ipython3",
   "version": "3.9.7"
  }
 },
 "nbformat": 4,
 "nbformat_minor": 5
}
