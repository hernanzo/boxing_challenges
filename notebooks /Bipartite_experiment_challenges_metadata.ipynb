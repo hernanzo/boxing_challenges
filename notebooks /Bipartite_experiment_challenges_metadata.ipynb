{
 "cells": [
  {
   "cell_type": "code",
   "execution_count": 1,
   "id": "c50d88cb",
   "metadata": {},
   "outputs": [
    {
     "name": "stderr",
     "output_type": "stream",
     "text": [
      "/opt/anaconda3/lib/python3.9/site-packages/nxviz/__init__.py:18: UserWarning: \n",
      "nxviz has a new API! Version 0.7.3 onwards, the old class-based API is being\n",
      "deprecated in favour of a new API focused on advancing a grammar of network\n",
      "graphics. If your plotting code depends on the old API, please consider\n",
      "pinning nxviz at version 0.7.3, as the new API will break your old code.\n",
      "\n",
      "To check out the new API, please head over to the docs at\n",
      "https://ericmjl.github.io/nxviz/ to learn more. We hope you enjoy using it!\n",
      "\n",
      "(This deprecation message will go away in version 1.0.)\n",
      "\n",
      "  warnings.warn(\n"
     ]
    }
   ],
   "source": [
    "from matplotlib.pyplot import figure\n",
    "import pandas as pd\n",
    "import networkx as nx\n",
    "import matplotlib.pyplot as plt\n",
    "import nxviz.plots as nv\n",
    "import nxviz as nv\n",
    "from nxviz import annotate"
   ]
  },
  {
   "cell_type": "markdown",
   "id": "b4ed4588",
   "metadata": {},
   "source": [
    "**Loading the Data**\n",
    ">Loading the data and doing some cleaning. Basic cleaning"
   ]
  },
  {
   "cell_type": "code",
   "execution_count": 2,
   "id": "00537205",
   "metadata": {},
   "outputs": [],
   "source": [
    "df = pd.read_csv(r'/Users/hernanadasme/Projects/data_challenges/exports_29_11/rectype-63.csv')"
   ]
  },
  {
   "cell_type": "code",
   "execution_count": 3,
   "id": "c7c33a01",
   "metadata": {},
   "outputs": [],
   "source": [
    "df.rename({'Source': 'source'}, axis = 1, inplace=True)\n",
    "df.rename({'Source year': 'source_year'}, axis = 1, inplace=True)\n",
    "df.rename({'Boxers challenging RecordTitle': 'boxer_challenging'}, axis = 1, inplace=True)\n",
    "df.rename({'Boxer Challenged RecordTitle': 'boxer_challenged'}, axis = 1, inplace=True)\n",
    "df.rename({'Location Description': 'location_descp'}, axis = 1, inplace=True)\n",
    "df.rename({'Status': 'status'}, axis = 1, inplace=True)\n",
    "df.rename({'Conditions': 'condition'}, axis = 1, inplace=True)\n",
    "df.rename({'City':'city'}, axis = 1, inplace=True)\n",
    "df.rename({'Location':'location'}, axis = 1, inplace=True)\n",
    "df.rename({'Challenge H-ID': 'challenge_id'}, axis = 1, inplace=True)\n",
    "df.rename({'Boxers challenging H-ID': 'challenging_id'}, axis = 1, inplace=True)\n",
    "df.rename({'Boxer Challenged H-ID': 'challenged_id'}, axis = 1, inplace=True)"
   ]
  },
  {
   "cell_type": "code",
   "execution_count": 14,
   "id": "71e52612",
   "metadata": {},
   "outputs": [
    {
     "data": {
      "text/html": [
       "<div>\n",
       "<style scoped>\n",
       "    .dataframe tbody tr th:only-of-type {\n",
       "        vertical-align: middle;\n",
       "    }\n",
       "\n",
       "    .dataframe tbody tr th {\n",
       "        vertical-align: top;\n",
       "    }\n",
       "\n",
       "    .dataframe thead th {\n",
       "        text-align: right;\n",
       "    }\n",
       "</style>\n",
       "<table border=\"1\" class=\"dataframe\">\n",
       "  <thead>\n",
       "    <tr style=\"text-align: right;\">\n",
       "      <th></th>\n",
       "      <th>challenge_id</th>\n",
       "      <th>rec_Title</th>\n",
       "      <th>source</th>\n",
       "      <th>source_year</th>\n",
       "      <th>challenging_id</th>\n",
       "      <th>boxer_challenging</th>\n",
       "      <th>challenged_id</th>\n",
       "      <th>boxer_challenged</th>\n",
       "      <th>status</th>\n",
       "      <th>condition</th>\n",
       "      <th>Basis</th>\n",
       "      <th>location_descp</th>\n",
       "      <th>city</th>\n",
       "      <th>location</th>\n",
       "      <th>weight</th>\n",
       "    </tr>\n",
       "  </thead>\n",
       "  <tbody>\n",
       "    <tr>\n",
       "      <th>0</th>\n",
       "      <td>969</td>\n",
       "      <td>Castillo\\nBaeza</td>\n",
       "      <td>Semanario La Prensa. Los Andes</td>\n",
       "      <td>1928-03-02</td>\n",
       "      <td>865</td>\n",
       "      <td>Castillo, Ernesto</td>\n",
       "      <td>836</td>\n",
       "      <td>Baeza, Florencio</td>\n",
       "      <td>NaN</td>\n",
       "      <td>NaN</td>\n",
       "      <td>NaN</td>\n",
       "      <td>NaN</td>\n",
       "      <td>NaN</td>\n",
       "      <td>POINT(-70.597218 -32.833799)</td>\n",
       "      <td>2</td>\n",
       "    </tr>\n",
       "  </tbody>\n",
       "</table>\n",
       "</div>"
      ],
      "text/plain": [
       "   challenge_id        rec_Title                          source source_year  \\\n",
       "0           969  Castillo\\nBaeza  Semanario La Prensa. Los Andes  1928-03-02   \n",
       "\n",
       "   challenging_id  boxer_challenging  challenged_id  boxer_challenged status  \\\n",
       "0             865  Castillo, Ernesto            836  Baeza, Florencio    NaN   \n",
       "\n",
       "  condition Basis location_descp city                      location  weight  \n",
       "0       NaN   NaN            NaN  NaN  POINT(-70.597218 -32.833799)       2  "
      ]
     },
     "execution_count": 14,
     "metadata": {},
     "output_type": "execute_result"
    }
   ],
   "source": [
    "df.head(1)"
   ]
  },
  {
   "cell_type": "markdown",
   "id": "b7a6205d",
   "metadata": {},
   "source": [
    "**Making an edgelist**\n",
    ">object D includes the nodes from de dataframe `df`. "
   ]
  },
  {
   "cell_type": "code",
   "execution_count": 19,
   "id": "92aad23e",
   "metadata": {},
   "outputs": [
    {
     "data": {
      "text/plain": [
       "180"
      ]
     },
     "execution_count": 19,
     "metadata": {},
     "output_type": "execute_result"
    }
   ],
   "source": [
    "D = nx.from_pandas_edgelist(df, 'challenging_id', 'challenged_id', edge_attr='weight', create_using=nx.DiGraph())\n",
    "D.add_nodes_from(df['challenging_id'], bipartite = 'challenger')\n",
    "D.add_nodes_from(df['challenged_id'], bipartite = 'challenged')\n",
    "len(D.nodes())"
   ]
  },
  {
   "cell_type": "code",
   "execution_count": 20,
   "id": "243a0e54",
   "metadata": {},
   "outputs": [
    {
     "data": {
      "text/plain": [
       "120"
      ]
     },
     "execution_count": 20,
     "metadata": {},
     "output_type": "execute_result"
    }
   ],
   "source": [
    "len(D.edges())"
   ]
  },
  {
   "cell_type": "markdown",
   "id": "63c8801c",
   "metadata": {},
   "source": [
    ">Adding name of the boxer as metadata"
   ]
  },
  {
   "cell_type": "code",
   "execution_count": 23,
   "id": "5fd3997d",
   "metadata": {},
   "outputs": [],
   "source": [
    "# Adding metadata attributes to the nodes\n",
    "for box, row in df.iterrows():\n",
    "    D.nodes[row['challenging_id']]['name'] = row['boxer_challenging']\n",
    "    D.nodes[row['challenged_id']]['name'] = row['boxer_challenged']"
   ]
  },
  {
   "cell_type": "markdown",
   "id": "e1aa5d33",
   "metadata": {},
   "source": [
    ">Adding degree centrality as metadata"
   ]
  },
  {
   "cell_type": "code",
   "execution_count": 24,
   "id": "f47a7cb4",
   "metadata": {},
   "outputs": [],
   "source": [
    "# Add the degree centrality score of each node to their metadata dictionary\n",
    "dcs = nx.degree_centrality(D)\n",
    "for n in D.nodes():\n",
    "    D.nodes[n]['centrality'] = dcs[n]"
   ]
  },
  {
   "cell_type": "markdown",
   "id": "052bcd13",
   "metadata": {},
   "source": [
    ">Adding a new column with the weight, that is, how many connections (edges) between nodes"
   ]
  },
  {
   "cell_type": "code",
   "execution_count": 21,
   "id": "3eb2487a",
   "metadata": {},
   "outputs": [],
   "source": [
    "df['weight'] = df.groupby(['challenging_id', 'challenged_id'])['challenging_id'].transform('size')"
   ]
  },
  {
   "cell_type": "markdown",
   "id": "ab71aeb7",
   "metadata": {},
   "source": [
    ">Chequing the nodes and the edges"
   ]
  },
  {
   "cell_type": "code",
   "execution_count": 25,
   "id": "4831b1a5",
   "metadata": {},
   "outputs": [
    {
     "name": "stdout",
     "output_type": "stream",
     "text": [
      "[(865, {'bipartite': 'challenger', 'name': 'Castillo, Ernesto', 'centrality': 0.00558659217877095}), (836, {'bipartite': 'challenged', 'name': 'Baeza, Florencio', 'centrality': 0.03910614525139665}), (882, {'bipartite': 'challenged', 'name': 'Araya, Manuel', 'centrality': 0.0111731843575419}), (780, {'bipartite': 'challenged', 'name': 'Bolli, Carlos', 'centrality': 0.00558659217877095}), (833, {'bipartite': 'challenged', 'name': 'Valdes, Mario', 'centrality': 0.0223463687150838}), (272, {'bipartite': 'challenged', 'name': 'Pérez, Amador', 'centrality': 0.00558659217877095}), (976, {'bipartite': 'challenger', 'name': 'Ortiz, Rafael', 'centrality': 0.00558659217877095}), (827, {'bipartite': 'challenged', 'name': 'Gallardo, Pedro', 'centrality': 0.00558659217877095}), (189, {'bipartite': 'challenger', 'name': 'Silva, Carlos', 'centrality': 0.00558659217877095}), (987, {'bipartite': 'challenged', 'name': 'Iñiguez, Mario', 'centrality': 0.00558659217877095}), (302, {'bipartite': 'challenger', 'name': 'Flores, Sara', 'centrality': 0.00558659217877095}), (303, {'bipartite': 'challenged', 'name': 'Farrafino, Clementina', 'centrality': 0.00558659217877095}), (891, {'bipartite': 'challenger', 'name': 'Huerta, Francisco', 'centrality': 0.00558659217877095}), (573, {'bipartite': 'challenged', 'name': 'Giaverini, Oscar', 'centrality': 0.0111731843575419}), (158, {'bipartite': 'challenger', 'name': 'Tapia, Julio', 'centrality': 0.00558659217877095}), (1001, {'bipartite': 'challenged', 'name': 'Inostroza, Ruperto', 'centrality': 0.00558659217877095}), (1003, {'bipartite': 'challenger', 'name': 'Alley, Juan', 'centrality': 0.00558659217877095}), (321, {'bipartite': 'challenged', 'name': 'Salinas, Juan', 'centrality': 0.00558659217877095}), (647, {'bipartite': 'challenger', 'name': 'Olguín, Humberto', 'centrality': 0.0223463687150838}), (423, {'bipartite': 'challenged', 'name': 'Valdenegro', 'centrality': 0.00558659217877095}), (1006, {'bipartite': 'challenged', 'name': 'Henriquez', 'centrality': 0.00558659217877095}), (1008, {'bipartite': 'challenged', 'name': 'Leiva', 'centrality': 0.00558659217877095}), (332, {'bipartite': 'challenger', 'name': 'Acosta, Luis J.', 'centrality': 0.0111731843575419}), (1010, {'bipartite': 'challenged', 'name': 'Molina, Erasmo', 'centrality': 0.01675977653631285}), (1012, {'bipartite': 'challenged', 'name': 'Parra, Routier', 'centrality': 0.0111731843575419}), (502, {'bipartite': 'challenger', 'name': 'Rios, Agustin', 'centrality': 0.00558659217877095}), (1014, {'bipartite': 'challenged', 'name': 'Arratia, Jose', 'centrality': 0.00558659217877095}), (143, {'bipartite': 'challenger', 'name': 'Caldera, Francisco', 'centrality': 0.0111731843575419}), (572, {'bipartite': 'challenged', 'name': 'Anguita, Oscar', 'centrality': 0.00558659217877095}), (77, {'bipartite': 'challenger', 'name': 'Guerrero, Angel', 'centrality': 0.00558659217877095}), (146, {'bipartite': 'challenged', 'name': 'Lasseube, Enrique', 'centrality': 0.01675977653631285}), (639, {'bipartite': 'challenger', 'name': 'Gonzalez, Johnston', 'centrality': 0.03910614525139665}), (1021, {'bipartite': 'challenged', 'name': 'Suarez, Pablo', 'centrality': 0.00558659217877095}), (735, {'bipartite': 'challenged', 'name': 'Correa, Luis', 'centrality': 0.00558659217877095}), (1024, {'bipartite': 'challenged', 'name': 'Cipry, John', 'centrality': 0.00558659217877095}), (1026, {'bipartite': 'challenged', 'name': 'Saavedra, Clemente', 'centrality': 0.0111731843575419}), (732, {'bipartite': 'challenger', 'name': 'Villablanca, Luis', 'centrality': 0.0111731843575419}), (223, {'bipartite': 'challenged', 'name': 'Jaña, Andres', 'centrality': 0.0111731843575419}), (733, {'bipartite': 'challenged', 'name': 'Meza, Fernando', 'centrality': 0.00558659217877095}), (163, {'bipartite': 'challenger', 'name': 'García, Francisco', 'centrality': 0.00558659217877095}), (1031, {'bipartite': 'challenged', 'name': 'Valdivieso, Raul', 'centrality': 0.00558659217877095}), (162, {'bipartite': 'challenger', 'name': 'Guerra, Oscar', 'centrality': 0.00558659217877095}), (1035, {'bipartite': 'challenged', 'name': 'Martinez, Alejandro', 'centrality': 0.00558659217877095}), (175, {'bipartite': 'challenger', 'name': 'Araya, Jorge', 'centrality': 0.00558659217877095}), (98, {'bipartite': 'challenged', 'name': 'Mery, Oscar', 'centrality': 0.00558659217877095}), (174, {'bipartite': 'challenger', 'name': 'Tapia, Manuel', 'centrality': 0.00558659217877095}), (1038, {'bipartite': 'challenged', 'name': 'Ibarra, Daniel', 'centrality': 0.00558659217877095}), (177, {'bipartite': 'challenger', 'name': 'Fajardo, Ruperto', 'centrality': 0.00558659217877095}), (1040, {'bipartite': 'challenged', 'name': 'Iglesias, Alvaro', 'centrality': 0.00558659217877095}), (178, {'bipartite': 'challenger', 'name': 'Vargas, Armando', 'centrality': 0.01675977653631285}), (126, {'bipartite': 'challenged', 'name': 'Rojas, Nicanor', 'centrality': 0.00558659217877095}), (185, {'bipartite': 'challenger', 'name': 'Amparán, Miguel', 'centrality': 0.00558659217877095}), (1043, {'bipartite': 'challenged', 'name': 'Mendez, Arturo', 'centrality': 0.00558659217877095}), (933, {'bipartite': 'challenger', 'name': 'Barros, Rogelio', 'centrality': 0.00558659217877095}), (934, {'bipartite': 'challenged', 'name': 'Trias, Alfonso', 'centrality': 0.00558659217877095}), (935, {'bipartite': 'challenged', 'name': 'Ibarra, Carlos', 'centrality': 0.01675977653631285}), (936, {'bipartite': 'challenged', 'name': 'Astorga, Raul', 'centrality': 0.00558659217877095}), (1048, {'bipartite': 'challenged', 'name': 'Sandoval, Luis', 'centrality': 0.00558659217877095}), (937, {'bipartite': 'challenger', 'name': 'Avendaño, Manuel', 'centrality': 0.00558659217877095}), (938, {'bipartite': 'challenged', 'name': 'Inostroza, Lupercio', 'centrality': 0.00558659217877095}), (939, {'bipartite': 'challenger', 'name': 'Salinas, Luis', 'centrality': 0.00558659217877095}), (1079, {'bipartite': 'challenger', 'name': 'Arancibia, Alfredo', 'centrality': 0.00558659217877095}), (1080, {'bipartite': 'challenged', 'name': 'Torres, Guillermo', 'centrality': 0.00558659217877095}), (1138, {'bipartite': 'challenger', 'name': 'Beell, John', 'centrality': 0.0111731843575419}), (276, {'bipartite': 'challenged', 'name': 'Férnandez, Luis', 'centrality': 0.0111731843575419}), (535, {'bipartite': 'challenged', 'name': 'Sanchez, Orlando', 'centrality': 0.00558659217877095}), (1142, {'bipartite': 'challenged', 'name': 'Wilson, Manuel', 'centrality': 0.0111731843575419}), (1141, {'bipartite': 'challenged', 'name': 'Lafourcade, Luis', 'centrality': 0.00558659217877095}), (1145, {'bipartite': 'challenger', 'name': 'Acosta, Genaro', 'centrality': 0.00558659217877095}), (1146, {'bipartite': 'challenged', 'name': 'Parra, A.', 'centrality': 0.00558659217877095}), (439, {'bipartite': 'challenger', 'name': 'Varela, Faustino', 'centrality': 0.00558659217877095}), (1149, {'bipartite': 'challenged', 'name': 'Vera, Juan', 'centrality': 0.00558659217877095}), (1150, {'bipartite': 'challenger', 'name': 'Adasme, Alejandro', 'centrality': 0.00558659217877095}), (1151, {'bipartite': 'challenged', 'name': 'Contreras, Humberto', 'centrality': 0.00558659217877095}), (14, {'bipartite': 'challenger', 'name': 'González, Gilberto', 'centrality': 0.00558659217877095}), (1131, {'bipartite': 'challenged', 'name': 'Coll, Lorenzo', 'centrality': 0.0223463687150838}), (1154, {'bipartite': 'challenger', 'name': 'Romero, Elías', 'centrality': 0.00558659217877095}), (1155, {'bipartite': 'challenged', 'name': 'Martinez, Erasmo', 'centrality': 0.00558659217877095}), (1157, {'bipartite': 'challenger', 'name': 'Vargas, Julio', 'centrality': 0.0111731843575419}), (1158, {'bipartite': 'challenged', 'name': 'Jouglar, Jorge', 'centrality': 0.00558659217877095}), (1160, {'bipartite': 'challenger', 'name': 'Caceres, Andres', 'centrality': 0.00558659217877095}), (339, {'bipartite': 'challenged', 'name': 'Valenzuela, Oscar', 'centrality': 0.00558659217877095}), (1162, {'bipartite': 'challenger', 'name': 'Concha, Luis A.', 'centrality': 0.00558659217877095}), (1163, {'bipartite': 'challenged', 'name': 'Berbelegua', 'centrality': 0.00558659217877095}), (156, {'bipartite': 'challenged', 'name': 'Duque Rodríguez, José', 'centrality': 0.00558659217877095}), (420, {'bipartite': 'challenged', 'name': 'Murray, Willie', 'centrality': 0.00558659217877095}), (1179, {'bipartite': 'challenger', 'name': 'Gazmuri, Rafael', 'centrality': 0.0111731843575419}), (1172, {'bipartite': 'challenged', 'name': 'Araya, Segundo', 'centrality': 0.00558659217877095}), (1173, {'bipartite': 'challenged', 'name': 'Mardones, Arturo', 'centrality': 0.00558659217877095}), (1171, {'bipartite': 'challenger', 'name': 'Salas, Alfredo', 'centrality': 0.00558659217877095}), (1177, {'bipartite': 'challenged', 'name': 'Keller, Pedro', 'centrality': 0.0111731843575419}), (1190, {'bipartite': 'challenger', 'name': 'Santilly, Atilio', 'centrality': 0.00558659217877095}), (1191, {'bipartite': 'challenged', 'name': 'García, Oscar', 'centrality': 0.00558659217877095}), (1197, {'bipartite': 'challenger', 'name': 'Vásquez, Luis Alberto', 'centrality': 0.00558659217877095}), (1198, {'bipartite': 'challenger', 'name': 'Fuenzalida, Humberto', 'centrality': 0.0111731843575419}), (1201, {'bipartite': 'challenged', 'name': 'Silva, Filadelfio', 'centrality': 0.00558659217877095}), (1202, {'bipartite': 'challenged', 'name': 'Mella, Alfredo', 'centrality': 0.00558659217877095}), (1205, {'bipartite': 'challenger', 'name': 'Saenz, Isidro', 'centrality': 0.0111731843575419}), (1206, {'bipartite': 'challenged', 'name': 'Langford, Kid', 'centrality': 0.00558659217877095}), (982, {'bipartite': 'challenged', 'name': 'Bull, John', 'centrality': 0.00558659217877095}), (1210, {'bipartite': 'challenger', 'name': 'Castro, Juan', 'centrality': 0.00558659217877095}), (1212, {'bipartite': 'challenger', 'name': 'Marchant, Aquiles', 'centrality': 0.00558659217877095}), (1215, {'bipartite': 'challenged', 'name': 'Rojas, Froilan', 'centrality': 0.0111731843575419}), (1218, {'bipartite': 'challenger', 'name': 'Fuentes, Angel', 'centrality': 0.00558659217877095}), (1219, {'bipartite': 'challenged', 'name': 'Parra, Humberto', 'centrality': 0.00558659217877095}), (1223, {'bipartite': 'challenger', 'name': 'Diaz, Heriberto', 'centrality': 0.00558659217877095}), (1225, {'bipartite': 'challenger', 'name': 'Cepeda, Luis', 'centrality': 0.00558659217877095}), (1226, {'bipartite': 'challenged', 'name': 'Lagos, Luis', 'centrality': 0.00558659217877095}), (1228, {'bipartite': 'challenger', 'name': 'Martínez, Francisco', 'centrality': 0.0111731843575419}), (530, {'bipartite': 'challenged', 'name': 'Pozo, Carlos', 'centrality': 0.00558659217877095}), (232, {'bipartite': 'challenged', 'name': 'Pinto, Juan', 'centrality': 0.00558659217877095}), (738, {'bipartite': 'challenger', 'name': 'Parisi, Antonino', 'centrality': 0.0111731843575419}), (1232, {'bipartite': 'challenged', 'name': 'Gomez, Venerando', 'centrality': 0.00558659217877095}), (539, {'bipartite': 'challenged', 'name': 'Cano, Gustavo', 'centrality': 0.00558659217877095}), (1240, {'bipartite': 'challenged', 'name': 'Navarro, Jorge', 'centrality': 0.00558659217877095}), (1245, {'bipartite': 'challenged', 'name': 'Arriagada, Edgardo', 'centrality': 0.00558659217877095}), (1249, {'bipartite': 'challenger', 'name': 'Laverry, Jim', 'centrality': 0.0111731843575419}), (1250, {'bipartite': 'challenged', 'name': 'Sánchez, Domingo', 'centrality': 0.0111731843575419}), (1253, {'bipartite': 'challenged', 'name': 'Cazzano, Miguel', 'centrality': 0.00558659217877095}), (1255, {'bipartite': 'challenger', 'name': 'Lucero, Luis', 'centrality': 0.00558659217877095}), (1258, {'bipartite': 'challenger', 'name': 'Vermar, Raul', 'centrality': 0.00558659217877095}), (1259, {'bipartite': 'challenged', 'name': 'Ortiz, Clodomiro', 'centrality': 0.00558659217877095}), (1262, {'bipartite': 'challenger', 'name': 'Soto, Gerardo', 'centrality': 0.00558659217877095}), (1261, {'bipartite': 'challenged', 'name': 'Molina, Alfredo', 'centrality': 0.01675977653631285}), (263, {'bipartite': 'challenger', 'name': 'Risso, Manuel', 'centrality': 0.00558659217877095}), (727, {'bipartite': 'challenged', 'name': 'Tobar, Marcos', 'centrality': 0.00558659217877095}), (1267, {'bipartite': 'challenger', 'name': 'Paiva, Victor M.', 'centrality': 0.0111731843575419}), (1268, {'bipartite': 'challenged', 'name': 'Cañas, Jose', 'centrality': 0.00558659217877095}), (1269, {'bipartite': 'challenged', 'name': 'Pedraza, Domingo', 'centrality': 0.00558659217877095}), (660, {'bipartite': 'challenged', 'name': 'Cutiño, Eduardo', 'centrality': 0.0111731843575419}), (151, {'bipartite': 'challenged', 'name': 'Vera, Teobaldo', 'centrality': 0.00558659217877095}), (1275, {'bipartite': 'challenged', 'name': 'Celis, Manuel', 'centrality': 0.00558659217877095}), (1279, {'bipartite': 'challenger', 'name': 'Galdames, Robinson', 'centrality': 0.00558659217877095}), (1283, {'bipartite': 'challenged', 'name': 'Castellon, Manuel', 'centrality': 0.00558659217877095}), (1284, {'bipartite': 'challenger', 'name': 'Duque, Oscar', 'centrality': 0.00558659217877095}), (1289, {'bipartite': 'challenger', 'name': 'Romero, Jose P.', 'centrality': 0.00558659217877095}), (1290, {'bipartite': 'challenged', 'name': 'Muñoz, Benjamin', 'centrality': 0.00558659217877095}), (1292, {'bipartite': 'challenger', 'name': 'Nemesio, Oscar', 'centrality': 0.00558659217877095}), (921, {'bipartite': 'challenged', 'name': 'Guzman, Humberto', 'centrality': 0.0111731843575419}), (1296, {'bipartite': 'challenger', 'name': 'Manriquez, Enrique', 'centrality': 0.00558659217877095}), (1297, {'bipartite': 'challenged', 'name': 'Tellez', 'centrality': 0.00558659217877095}), (1299, {'bipartite': 'challenger', 'name': 'Soto, Arturo', 'centrality': 0.00558659217877095}), (1301, {'bipartite': 'challenged', 'name': 'Sanguinetti, Enrique', 'centrality': 0.00558659217877095}), (1304, {'bipartite': 'challenger', 'name': 'Osorio, Carlos', 'centrality': 0.00558659217877095}), (1310, {'bipartite': 'challenged', 'name': 'Nuñez, Rogelio', 'centrality': 0.00558659217877095}), (62, {'bipartite': 'challenged', 'name': 'Contreras, Victor', 'centrality': 0.00558659217877095}), (244, {'bipartite': 'challenger', 'name': 'Ortega, Eliecer', 'centrality': 0.00558659217877095}), (1313, {'bipartite': 'challenged', 'name': 'Muñoz, Pablo', 'centrality': 0.00558659217877095}), (1314, {'bipartite': 'challenged', 'name': 'Sedan, Teofilo', 'centrality': 0.00558659217877095}), (284, {'bipartite': 'challenged', 'name': 'Uzabeaga, Carlos', 'centrality': 0.00558659217877095}), (1236, {'bipartite': 'challenger', 'name': 'Zamora, German', 'centrality': 0.00558659217877095}), (1321, {'bipartite': 'challenged', 'name': 'Roberts, Charles', 'centrality': 0.00558659217877095}), (1324, {'bipartite': 'challenger', 'name': 'Navarro, Alberto', 'centrality': 0.0111731843575419}), (1328, {'bipartite': 'challenged', 'name': 'Calda, Victor', 'centrality': 0.00558659217877095}), (1325, {'bipartite': 'challenger', 'name': 'Vergara, Eduardo', 'centrality': 0.00558659217877095}), (1326, {'bipartite': 'challenged', 'name': 'Neira, Carlos', 'centrality': 0.00558659217877095}), (188, {'bipartite': 'challenger', 'name': 'Román, Julio', 'centrality': 0.00558659217877095}), (1332, {'bipartite': 'challenger', 'name': 'Murias, Emiliano', 'centrality': 0.00558659217877095}), (594, {'bipartite': 'challenged', 'name': 'Mery, Augusto', 'centrality': 0.00558659217877095}), (144, {'bipartite': 'challenger', 'name': 'Aguilera, Leopoldo', 'centrality': 0.00558659217877095}), (1336, {'bipartite': 'challenged', 'name': 'Moreno, Germán', 'centrality': 0.00558659217877095}), (835, {'bipartite': 'challenged', 'name': 'Carvajal, Julio', 'centrality': 0.0111731843575419}), (842, {'bipartite': 'challenged', 'name': 'Huerta, Luis', 'centrality': 0.0111731843575419}), (837, {'bipartite': 'challenged', 'name': 'Medalla, Luis', 'centrality': 0.00558659217877095}), (890, {'bipartite': 'challenger', 'name': 'Mac-Conell, Roberto', 'centrality': 0.0111731843575419}), (866, {'bipartite': 'challenged', 'name': 'Rios, Luis', 'centrality': 0.00558659217877095}), (867, {'bipartite': 'challenger', 'name': 'Cifuentes, Alex', 'centrality': 0.00558659217877095}), (872, {'bipartite': 'challenged', 'name': 'Farias, Gabriel', 'centrality': 0.00558659217877095}), (875, {'bipartite': 'challenger', 'name': 'Valdes, Miguel', 'centrality': 0.00558659217877095}), (839, {'bipartite': 'challenged', 'name': 'Lemus, Rosauro', 'centrality': 0.00558659217877095}), (876, {'bipartite': 'challenger', 'name': 'Ortega, Oscar', 'centrality': 0.00558659217877095}), (873, {'bipartite': 'challenger', 'name': 'Rojas, Gregorio', 'centrality': 0.00558659217877095}), (886, {'bipartite': 'challenger', 'name': 'Barcelo, Oscar', 'centrality': 0.00558659217877095}), (1352, {'bipartite': 'challenger', 'name': 'Rios, Manuel', 'centrality': 0.00558659217877095}), (1351, {'bipartite': 'challenged', 'name': 'Aracena, Antonio', 'centrality': 0.0111731843575419}), (889, {'bipartite': 'challenger', 'name': 'Fuentes, Francisco', 'centrality': 0.00558659217877095}), (1355, {'bipartite': 'challenger', 'name': 'Mac-Conell, David', 'centrality': 0.00558659217877095}), (826, {'bipartite': 'challenged', 'name': 'Badani, Faustino', 'centrality': 0.00558659217877095}), (1247, {'bipartite': 'challenger', 'name': 'Araya, Dionisio', 'centrality': 0.00558659217877095}), (844, {'bipartite': 'challenged', 'name': 'Mendoza, Viterbo', 'centrality': 0.00558659217877095})]\n",
      "[(865, 836, {'weight': 2}), (836, 826, {'weight': 1}), (836, 833, {'weight': 1}), (882, 780, {'weight': 1}), (833, 272, {'weight': 2}), (833, 827, {'weight': 2}), (976, 882, {'weight': 2}), (189, 987, {'weight': 1}), (302, 303, {'weight': 1}), (891, 573, {'weight': 2}), (158, 1001, {'weight': 1}), (1003, 321, {'weight': 1}), (647, 423, {'weight': 1}), (647, 1006, {'weight': 1}), (647, 1008, {'weight': 1}), (647, 1314, {'weight': 1}), (332, 1010, {'weight': 1}), (332, 1012, {'weight': 1}), (1012, 1261, {'weight': 1}), (502, 1014, {'weight': 1}), (143, 572, {'weight': 1}), (143, 573, {'weight': 1}), (77, 146, {'weight': 1}), (639, 1021, {'weight': 2}), (639, 735, {'weight': 1}), (639, 1024, {'weight': 1}), (639, 1026, {'weight': 1}), (639, 156, {'weight': 1}), (639, 420, {'weight': 1}), (639, 935, {'weight': 1}), (1026, 276, {'weight': 1}), (732, 223, {'weight': 1}), (732, 733, {'weight': 1}), (163, 1031, {'weight': 1}), (162, 1035, {'weight': 1}), (175, 98, {'weight': 1}), (174, 1038, {'weight': 1}), (177, 1040, {'weight': 1}), (178, 126, {'weight': 1}), (178, 1253, {'weight': 1}), (178, 62, {'weight': 1}), (185, 1043, {'weight': 1}), (933, 934, {'weight': 1}), (935, 936, {'weight': 1}), (935, 1048, {'weight': 1}), (937, 938, {'weight': 1}), (939, 146, {'weight': 1}), (1079, 1080, {'weight': 1}), (1138, 276, {'weight': 1}), (1138, 535, {'weight': 1}), (1142, 1141, {'weight': 1}), (1145, 1146, {'weight': 1}), (439, 1149, {'weight': 1}), (1150, 1151, {'weight': 1}), (14, 1131, {'weight': 1}), (1131, 660, {'weight': 1}), (1131, 151, {'weight': 1}), (1131, 1275, {'weight': 1}), (1154, 1155, {'weight': 1}), (1157, 1158, {'weight': 1}), (1157, 1245, {'weight': 1}), (1160, 339, {'weight': 1}), (1162, 1163, {'weight': 1}), (1179, 1172, {'weight': 1}), (1179, 1173, {'weight': 1}), (1171, 1177, {'weight': 1}), (1190, 1191, {'weight': 1}), (1197, 1010, {'weight': 1}), (1198, 1201, {'weight': 1}), (1198, 1202, {'weight': 1}), (1205, 1206, {'weight': 1}), (1205, 982, {'weight': 2}), (1210, 1142, {'weight': 1}), (1212, 1215, {'weight': 1}), (1215, 1240, {'weight': 1}), (1218, 1219, {'weight': 1}), (1223, 1177, {'weight': 1}), (1225, 1226, {'weight': 1}), (1228, 530, {'weight': 1}), (1228, 232, {'weight': 1}), (738, 1232, {'weight': 1}), (738, 539, {'weight': 1}), (1249, 1010, {'weight': 1}), (1249, 1250, {'weight': 1}), (1255, 146, {'weight': 1}), (1258, 1259, {'weight': 1}), (1262, 1261, {'weight': 1}), (1261, 921, {'weight': 1}), (263, 727, {'weight': 1}), (1267, 1268, {'weight': 1}), (1267, 1269, {'weight': 1}), (660, 284, {'weight': 1}), (1279, 1283, {'weight': 1}), (1284, 833, {'weight': 1}), (1289, 1290, {'weight': 1}), (1292, 921, {'weight': 1}), (1296, 1297, {'weight': 1}), (1299, 1301, {'weight': 1}), (1304, 1310, {'weight': 1}), (244, 1313, {'weight': 1}), (1236, 1321, {'weight': 1}), (1324, 223, {'weight': 1}), (1324, 1328, {'weight': 1}), (1325, 1326, {'weight': 1}), (188, 1250, {'weight': 1}), (1332, 594, {'weight': 1}), (144, 1336, {'weight': 1}), (835, 836, {'weight': 1}), (842, 837, {'weight': 1}), (890, 866, {'weight': 1}), (890, 835, {'weight': 1}), (867, 872, {'weight': 1}), (875, 839, {'weight': 1}), (876, 836, {'weight': 1}), (873, 842, {'weight': 1}), (886, 836, {'weight': 1}), (1352, 1351, {'weight': 1}), (889, 1351, {'weight': 1}), (1355, 836, {'weight': 1}), (1247, 844, {'weight': 1})]\n"
     ]
    }
   ],
   "source": [
    "print(D.nodes(data=True))\n",
    "print(D.edges(data=True))"
   ]
  },
  {
   "cell_type": "code",
   "execution_count": null,
   "id": "5e53874b",
   "metadata": {},
   "outputs": [],
   "source": []
  }
 ],
 "metadata": {
  "kernelspec": {
   "display_name": "Python 3 (ipykernel)",
   "language": "python",
   "name": "python3"
  },
  "language_info": {
   "codemirror_mode": {
    "name": "ipython",
    "version": 3
   },
   "file_extension": ".py",
   "mimetype": "text/x-python",
   "name": "python",
   "nbconvert_exporter": "python",
   "pygments_lexer": "ipython3",
   "version": "3.9.7"
  }
 },
 "nbformat": 4,
 "nbformat_minor": 5
}
