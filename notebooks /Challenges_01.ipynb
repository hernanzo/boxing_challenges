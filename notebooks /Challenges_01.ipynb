{
 "cells": [
  {
   "cell_type": "code",
   "execution_count": 17,
   "id": "cb488a4c",
   "metadata": {},
   "outputs": [],
   "source": [
    "import pandas as pd\n",
    "import networkx as nx"
   ]
  },
  {
   "cell_type": "code",
   "execution_count": 18,
   "id": "c51f09b0",
   "metadata": {},
   "outputs": [],
   "source": [
    "import matplotlib.pyplot as plt\n",
    "import nxviz.plots as nv"
   ]
  },
  {
   "cell_type": "code",
   "execution_count": 19,
   "id": "a88d1406",
   "metadata": {},
   "outputs": [],
   "source": [
    "import nxviz as nv\n",
    "from nxviz import annotate"
   ]
  },
  {
   "cell_type": "code",
   "execution_count": 20,
   "id": "8de799b8",
   "metadata": {},
   "outputs": [],
   "source": [
    "ch_01 = pd.read_csv(\"/Users/hernanadasme/Documents/data_challenges/challen_01.csv\")"
   ]
  },
  {
   "cell_type": "code",
   "execution_count": 21,
   "id": "935c8b86",
   "metadata": {},
   "outputs": [],
   "source": [
    "ch_01.drop(['Unnamed: 0'], axis=1, inplace=True)\n"
   ]
  },
  {
   "cell_type": "code",
   "execution_count": 22,
   "id": "04245264",
   "metadata": {},
   "outputs": [
    {
     "data": {
      "text/html": [
       "<div>\n",
       "<style scoped>\n",
       "    .dataframe tbody tr th:only-of-type {\n",
       "        vertical-align: middle;\n",
       "    }\n",
       "\n",
       "    .dataframe tbody tr th {\n",
       "        vertical-align: top;\n",
       "    }\n",
       "\n",
       "    .dataframe thead th {\n",
       "        text-align: right;\n",
       "    }\n",
       "</style>\n",
       "<table border=\"1\" class=\"dataframe\">\n",
       "  <thead>\n",
       "    <tr style=\"text-align: right;\">\n",
       "      <th></th>\n",
       "      <th>Challenge H-ID</th>\n",
       "      <th>rec_Title_left</th>\n",
       "      <th>Source</th>\n",
       "      <th>Source year</th>\n",
       "      <th>Boxers challenging H-ID</th>\n",
       "      <th>rec_Title.1_left</th>\n",
       "      <th>Club Affiliation H-ID_left</th>\n",
       "      <th>rec_Title.2</th>\n",
       "      <th>Boxer Challenged H-ID_right</th>\n",
       "      <th>rec_Title_right</th>\n",
       "      <th>Club Affiliation H-ID_right</th>\n",
       "      <th>rec_Title.1_right</th>\n",
       "    </tr>\n",
       "  </thead>\n",
       "  <tbody>\n",
       "    <tr>\n",
       "      <th>0</th>\n",
       "      <td>969</td>\n",
       "      <td>Castillo\\nBaeza</td>\n",
       "      <td>Semanario La Prensa. Los Andes</td>\n",
       "      <td>1928-03-02</td>\n",
       "      <td>865</td>\n",
       "      <td>Castillo, Ernesto</td>\n",
       "      <td>NaN</td>\n",
       "      <td>NaN</td>\n",
       "      <td>836</td>\n",
       "      <td>Baeza, Florencio</td>\n",
       "      <td>NaN</td>\n",
       "      <td>NaN</td>\n",
       "    </tr>\n",
       "    <tr>\n",
       "      <th>1</th>\n",
       "      <td>972</td>\n",
       "      <td>Araya\\nBolli</td>\n",
       "      <td>Semanario La Prensa. Los Andes</td>\n",
       "      <td>1928-04-05</td>\n",
       "      <td>882</td>\n",
       "      <td>Araya, Manuel</td>\n",
       "      <td>845.0</td>\n",
       "      <td>Juan Ferriere Boxing Club</td>\n",
       "      <td>780</td>\n",
       "      <td>Bolli, Carlos</td>\n",
       "      <td>750.0</td>\n",
       "      <td>Pedro Martínez Hnos. Boxing Club</td>\n",
       "    </tr>\n",
       "    <tr>\n",
       "      <th>2</th>\n",
       "      <td>975</td>\n",
       "      <td>Valdes\\nPérez</td>\n",
       "      <td>Semanario La Prensa. Los Andes</td>\n",
       "      <td>1928-04-08</td>\n",
       "      <td>833</td>\n",
       "      <td>Valdes, Mario</td>\n",
       "      <td>NaN</td>\n",
       "      <td>NaN</td>\n",
       "      <td>272</td>\n",
       "      <td>Pérez, Amador</td>\n",
       "      <td>NaN</td>\n",
       "      <td>NaN</td>\n",
       "    </tr>\n",
       "    <tr>\n",
       "      <th>3</th>\n",
       "      <td>978</td>\n",
       "      <td>Ortiz\\nAraya</td>\n",
       "      <td>Semanario La Prensa. Los Andes</td>\n",
       "      <td>1928-04-08</td>\n",
       "      <td>976</td>\n",
       "      <td>Ortiz, Rafael</td>\n",
       "      <td>NaN</td>\n",
       "      <td>NaN</td>\n",
       "      <td>882</td>\n",
       "      <td>Araya, Manuel</td>\n",
       "      <td>845.0</td>\n",
       "      <td>Juan Ferriere Boxing Club</td>\n",
       "    </tr>\n",
       "    <tr>\n",
       "      <th>4</th>\n",
       "      <td>985</td>\n",
       "      <td>Valdes\\nGallardo</td>\n",
       "      <td>Semanario La Prensa. Los Andes</td>\n",
       "      <td>1928-04-29</td>\n",
       "      <td>833</td>\n",
       "      <td>Valdes, Mario</td>\n",
       "      <td>NaN</td>\n",
       "      <td>NaN</td>\n",
       "      <td>827</td>\n",
       "      <td>Gallardo, Pedro</td>\n",
       "      <td>NaN</td>\n",
       "      <td>NaN</td>\n",
       "    </tr>\n",
       "    <tr>\n",
       "      <th>5</th>\n",
       "      <td>986</td>\n",
       "      <td>Silva\\nIñiguez</td>\n",
       "      <td>Los Sports</td>\n",
       "      <td>1924-02-01</td>\n",
       "      <td>189</td>\n",
       "      <td>Silva, Carlos</td>\n",
       "      <td>NaN</td>\n",
       "      <td>NaN</td>\n",
       "      <td>987</td>\n",
       "      <td>Iñiguez, Mario</td>\n",
       "      <td>NaN</td>\n",
       "      <td>NaN</td>\n",
       "    </tr>\n",
       "    <tr>\n",
       "      <th>6</th>\n",
       "      <td>988</td>\n",
       "      <td>Flores\\nFarrafino</td>\n",
       "      <td>Los Sports</td>\n",
       "      <td>1924-03-07</td>\n",
       "      <td>302</td>\n",
       "      <td>Flores, Sara</td>\n",
       "      <td>NaN</td>\n",
       "      <td>NaN</td>\n",
       "      <td>303</td>\n",
       "      <td>Farrafino, Clementina</td>\n",
       "      <td>NaN</td>\n",
       "      <td>NaN</td>\n",
       "    </tr>\n",
       "    <tr>\n",
       "      <th>7</th>\n",
       "      <td>993</td>\n",
       "      <td>Huerta\\nGiaverini</td>\n",
       "      <td>Los Sports</td>\n",
       "      <td>1924-02-01</td>\n",
       "      <td>891</td>\n",
       "      <td>Huerta, Francisco</td>\n",
       "      <td>NaN</td>\n",
       "      <td>NaN</td>\n",
       "      <td>573</td>\n",
       "      <td>Giaverini, Oscar</td>\n",
       "      <td>NaN</td>\n",
       "      <td>NaN</td>\n",
       "    </tr>\n",
       "    <tr>\n",
       "      <th>8</th>\n",
       "      <td>994</td>\n",
       "      <td>Huerta\\nGiaverini</td>\n",
       "      <td>Los Sports</td>\n",
       "      <td>1924-02-01</td>\n",
       "      <td>891</td>\n",
       "      <td>Huerta, Francisco</td>\n",
       "      <td>NaN</td>\n",
       "      <td>NaN</td>\n",
       "      <td>573</td>\n",
       "      <td>Giaverini, Oscar</td>\n",
       "      <td>NaN</td>\n",
       "      <td>NaN</td>\n",
       "    </tr>\n",
       "    <tr>\n",
       "      <th>9</th>\n",
       "      <td>1000</td>\n",
       "      <td>Tapia\\nInostroza</td>\n",
       "      <td>Los Sports</td>\n",
       "      <td>1924-03-07</td>\n",
       "      <td>158</td>\n",
       "      <td>Tapia, Julio</td>\n",
       "      <td>NaN</td>\n",
       "      <td>NaN</td>\n",
       "      <td>1001</td>\n",
       "      <td>Inostroza, Ruperto</td>\n",
       "      <td>NaN</td>\n",
       "      <td>NaN</td>\n",
       "    </tr>\n",
       "    <tr>\n",
       "      <th>10</th>\n",
       "      <td>1002</td>\n",
       "      <td>Alley\\nSalinas</td>\n",
       "      <td>Los Sports</td>\n",
       "      <td>1924-03-07</td>\n",
       "      <td>1003</td>\n",
       "      <td>Alley, Juan</td>\n",
       "      <td>NaN</td>\n",
       "      <td>NaN</td>\n",
       "      <td>321</td>\n",
       "      <td>Salinas, Juan</td>\n",
       "      <td>NaN</td>\n",
       "      <td>NaN</td>\n",
       "    </tr>\n",
       "    <tr>\n",
       "      <th>11</th>\n",
       "      <td>1004</td>\n",
       "      <td>Olguín\\nValdenegro</td>\n",
       "      <td>Los Sports</td>\n",
       "      <td>1924-03-07</td>\n",
       "      <td>647</td>\n",
       "      <td>Olguín, Humberto</td>\n",
       "      <td>NaN</td>\n",
       "      <td>NaN</td>\n",
       "      <td>423</td>\n",
       "      <td>Valdenegro</td>\n",
       "      <td>NaN</td>\n",
       "      <td>NaN</td>\n",
       "    </tr>\n",
       "    <tr>\n",
       "      <th>12</th>\n",
       "      <td>1005</td>\n",
       "      <td>Olguín\\nHenriquez</td>\n",
       "      <td>Los Sports</td>\n",
       "      <td>1924-03-07</td>\n",
       "      <td>647</td>\n",
       "      <td>Olguín, Humberto</td>\n",
       "      <td>NaN</td>\n",
       "      <td>NaN</td>\n",
       "      <td>1006</td>\n",
       "      <td>Henriquez</td>\n",
       "      <td>NaN</td>\n",
       "      <td>NaN</td>\n",
       "    </tr>\n",
       "    <tr>\n",
       "      <th>13</th>\n",
       "      <td>1007</td>\n",
       "      <td>Olguín\\nLeiva</td>\n",
       "      <td>Los Sports</td>\n",
       "      <td>1924-03-07</td>\n",
       "      <td>647</td>\n",
       "      <td>Olguín, Humberto</td>\n",
       "      <td>NaN</td>\n",
       "      <td>NaN</td>\n",
       "      <td>1008</td>\n",
       "      <td>Leiva</td>\n",
       "      <td>NaN</td>\n",
       "      <td>NaN</td>\n",
       "    </tr>\n",
       "    <tr>\n",
       "      <th>14</th>\n",
       "      <td>1009</td>\n",
       "      <td>Acosta\\nMolina</td>\n",
       "      <td>Los Sports</td>\n",
       "      <td>1924-03-14</td>\n",
       "      <td>332</td>\n",
       "      <td>Acosta, Luis J.</td>\n",
       "      <td>329.0</td>\n",
       "      <td>Centro Deportivo Compañía de Gas de Santiago</td>\n",
       "      <td>1010</td>\n",
       "      <td>Molina, Erasmo</td>\n",
       "      <td>NaN</td>\n",
       "      <td>NaN</td>\n",
       "    </tr>\n",
       "    <tr>\n",
       "      <th>15</th>\n",
       "      <td>1011</td>\n",
       "      <td>Acosta\\nParra</td>\n",
       "      <td>Los Sports</td>\n",
       "      <td>1924-03-14</td>\n",
       "      <td>332</td>\n",
       "      <td>Acosta, Luis J.</td>\n",
       "      <td>329.0</td>\n",
       "      <td>Centro Deportivo Compañía de Gas de Santiago</td>\n",
       "      <td>1012</td>\n",
       "      <td>Parra, Routier</td>\n",
       "      <td>NaN</td>\n",
       "      <td>NaN</td>\n",
       "    </tr>\n",
       "    <tr>\n",
       "      <th>16</th>\n",
       "      <td>1013</td>\n",
       "      <td>Rios\\nArratia</td>\n",
       "      <td>Los Sports</td>\n",
       "      <td>1924-03-14</td>\n",
       "      <td>502</td>\n",
       "      <td>Rios, Agustin</td>\n",
       "      <td>NaN</td>\n",
       "      <td>NaN</td>\n",
       "      <td>1014</td>\n",
       "      <td>Arratia, Jose</td>\n",
       "      <td>NaN</td>\n",
       "      <td>NaN</td>\n",
       "    </tr>\n",
       "    <tr>\n",
       "      <th>17</th>\n",
       "      <td>1015</td>\n",
       "      <td>Caldera\\nAnguita</td>\n",
       "      <td>Los Sports</td>\n",
       "      <td>1924-04-04</td>\n",
       "      <td>143</td>\n",
       "      <td>Caldera, Francisco</td>\n",
       "      <td>NaN</td>\n",
       "      <td>NaN</td>\n",
       "      <td>572</td>\n",
       "      <td>Anguita, Oscar</td>\n",
       "      <td>NaN</td>\n",
       "      <td>NaN</td>\n",
       "    </tr>\n",
       "    <tr>\n",
       "      <th>18</th>\n",
       "      <td>1017</td>\n",
       "      <td>Caldera\\nGiaverini</td>\n",
       "      <td>Los Sports</td>\n",
       "      <td>1924-04-04</td>\n",
       "      <td>143</td>\n",
       "      <td>Caldera, Francisco</td>\n",
       "      <td>NaN</td>\n",
       "      <td>NaN</td>\n",
       "      <td>573</td>\n",
       "      <td>Giaverini, Oscar</td>\n",
       "      <td>NaN</td>\n",
       "      <td>NaN</td>\n",
       "    </tr>\n",
       "    <tr>\n",
       "      <th>19</th>\n",
       "      <td>1018</td>\n",
       "      <td>Guerrero\\nLasseube</td>\n",
       "      <td>Vicentini</td>\n",
       "      <td>1924-01-23</td>\n",
       "      <td>77</td>\n",
       "      <td>Guerrero, Angel</td>\n",
       "      <td>NaN</td>\n",
       "      <td>NaN</td>\n",
       "      <td>146</td>\n",
       "      <td>Lasseube, Enrique</td>\n",
       "      <td>NaN</td>\n",
       "      <td>NaN</td>\n",
       "    </tr>\n",
       "    <tr>\n",
       "      <th>20</th>\n",
       "      <td>1020</td>\n",
       "      <td>Gonzalez\\nSuarez</td>\n",
       "      <td>Los Sports</td>\n",
       "      <td>1924-04-15</td>\n",
       "      <td>639</td>\n",
       "      <td>Gonzalez, Johnston</td>\n",
       "      <td>NaN</td>\n",
       "      <td>NaN</td>\n",
       "      <td>1021</td>\n",
       "      <td>Suarez, Pablo</td>\n",
       "      <td>NaN</td>\n",
       "      <td>NaN</td>\n",
       "    </tr>\n",
       "    <tr>\n",
       "      <th>21</th>\n",
       "      <td>1022</td>\n",
       "      <td>Gonzalez\\nCorrea</td>\n",
       "      <td>Los Sports</td>\n",
       "      <td>1924-04-15</td>\n",
       "      <td>639</td>\n",
       "      <td>Gonzalez, Johnston</td>\n",
       "      <td>NaN</td>\n",
       "      <td>NaN</td>\n",
       "      <td>735</td>\n",
       "      <td>Correa, Luis</td>\n",
       "      <td>NaN</td>\n",
       "      <td>NaN</td>\n",
       "    </tr>\n",
       "    <tr>\n",
       "      <th>22</th>\n",
       "      <td>1023</td>\n",
       "      <td>Gonzalez\\nCipry</td>\n",
       "      <td>Los Sports</td>\n",
       "      <td>1924-04-15</td>\n",
       "      <td>639</td>\n",
       "      <td>Gonzalez, Johnston</td>\n",
       "      <td>NaN</td>\n",
       "      <td>NaN</td>\n",
       "      <td>1024</td>\n",
       "      <td>Cipry, John</td>\n",
       "      <td>NaN</td>\n",
       "      <td>NaN</td>\n",
       "    </tr>\n",
       "    <tr>\n",
       "      <th>23</th>\n",
       "      <td>1025</td>\n",
       "      <td>Gonzalez\\nSaavedra</td>\n",
       "      <td>Los Sports</td>\n",
       "      <td>1924-04-15</td>\n",
       "      <td>639</td>\n",
       "      <td>Gonzalez, Johnston</td>\n",
       "      <td>NaN</td>\n",
       "      <td>NaN</td>\n",
       "      <td>1026</td>\n",
       "      <td>Saavedra, Clemente</td>\n",
       "      <td>NaN</td>\n",
       "      <td>NaN</td>\n",
       "    </tr>\n",
       "    <tr>\n",
       "      <th>24</th>\n",
       "      <td>1027</td>\n",
       "      <td>Villablanca\\nJaña</td>\n",
       "      <td>Los Sports</td>\n",
       "      <td>1924-05-23</td>\n",
       "      <td>732</td>\n",
       "      <td>Villablanca, Luis</td>\n",
       "      <td>NaN</td>\n",
       "      <td>NaN</td>\n",
       "      <td>223</td>\n",
       "      <td>Jaña, Andres</td>\n",
       "      <td>NaN</td>\n",
       "      <td>NaN</td>\n",
       "    </tr>\n",
       "    <tr>\n",
       "      <th>25</th>\n",
       "      <td>1028</td>\n",
       "      <td>Villablanca\\nMeza</td>\n",
       "      <td>Los Sports</td>\n",
       "      <td>1924-05-23</td>\n",
       "      <td>732</td>\n",
       "      <td>Villablanca, Luis</td>\n",
       "      <td>NaN</td>\n",
       "      <td>NaN</td>\n",
       "      <td>733</td>\n",
       "      <td>Meza, Fernando</td>\n",
       "      <td>NaN</td>\n",
       "      <td>NaN</td>\n",
       "    </tr>\n",
       "    <tr>\n",
       "      <th>26</th>\n",
       "      <td>1030</td>\n",
       "      <td>García\\nValdivieso</td>\n",
       "      <td>Los Sports</td>\n",
       "      <td>1924-01-25</td>\n",
       "      <td>163</td>\n",
       "      <td>García, Francisco</td>\n",
       "      <td>NaN</td>\n",
       "      <td>NaN</td>\n",
       "      <td>1031</td>\n",
       "      <td>Valdivieso, Raul</td>\n",
       "      <td>NaN</td>\n",
       "      <td>NaN</td>\n",
       "    </tr>\n",
       "    <tr>\n",
       "      <th>27</th>\n",
       "      <td>1034</td>\n",
       "      <td>Guerra\\nMartinez</td>\n",
       "      <td>Los Sports</td>\n",
       "      <td>1924-01-25</td>\n",
       "      <td>162</td>\n",
       "      <td>Guerra, Oscar</td>\n",
       "      <td>NaN</td>\n",
       "      <td>NaN</td>\n",
       "      <td>1035</td>\n",
       "      <td>Martinez, Alejandro</td>\n",
       "      <td>NaN</td>\n",
       "      <td>NaN</td>\n",
       "    </tr>\n",
       "    <tr>\n",
       "      <th>28</th>\n",
       "      <td>1036</td>\n",
       "      <td>Araya\\nMery</td>\n",
       "      <td>Los Sports</td>\n",
       "      <td>1924-01-25</td>\n",
       "      <td>175</td>\n",
       "      <td>Araya, Jorge</td>\n",
       "      <td>180.0</td>\n",
       "      <td>Rodolfo Jaramillo B.C.</td>\n",
       "      <td>98</td>\n",
       "      <td>Mery, Oscar</td>\n",
       "      <td>95.0</td>\n",
       "      <td>Batallón de Telégrafos</td>\n",
       "    </tr>\n",
       "    <tr>\n",
       "      <th>29</th>\n",
       "      <td>1037</td>\n",
       "      <td>Tapia\\nIbarra</td>\n",
       "      <td>Los Sports</td>\n",
       "      <td>1924-01-25</td>\n",
       "      <td>174</td>\n",
       "      <td>Tapia, Manuel</td>\n",
       "      <td>NaN</td>\n",
       "      <td>NaN</td>\n",
       "      <td>1038</td>\n",
       "      <td>Ibarra, Daniel</td>\n",
       "      <td>NaN</td>\n",
       "      <td>NaN</td>\n",
       "    </tr>\n",
       "    <tr>\n",
       "      <th>30</th>\n",
       "      <td>1039</td>\n",
       "      <td>Fajardo\\nIglesias</td>\n",
       "      <td>Los Sports</td>\n",
       "      <td>1924-01-25</td>\n",
       "      <td>177</td>\n",
       "      <td>Fajardo, Ruperto</td>\n",
       "      <td>179.0</td>\n",
       "      <td>Centro Tallman</td>\n",
       "      <td>1040</td>\n",
       "      <td>Iglesias, Alvaro</td>\n",
       "      <td>NaN</td>\n",
       "      <td>NaN</td>\n",
       "    </tr>\n",
       "    <tr>\n",
       "      <th>31</th>\n",
       "      <td>1041</td>\n",
       "      <td>Vargas\\nRojas</td>\n",
       "      <td>Los Sports</td>\n",
       "      <td>1924-01-25</td>\n",
       "      <td>178</td>\n",
       "      <td>Vargas, Armando</td>\n",
       "      <td>NaN</td>\n",
       "      <td>NaN</td>\n",
       "      <td>126</td>\n",
       "      <td>Rojas, Nicanor</td>\n",
       "      <td>NaN</td>\n",
       "      <td>NaN</td>\n",
       "    </tr>\n",
       "    <tr>\n",
       "      <th>32</th>\n",
       "      <td>1042</td>\n",
       "      <td>Amparán\\nMendez</td>\n",
       "      <td>Los Sports</td>\n",
       "      <td>1924-01-25</td>\n",
       "      <td>185</td>\n",
       "      <td>Amparán, Miguel</td>\n",
       "      <td>NaN</td>\n",
       "      <td>NaN</td>\n",
       "      <td>1043</td>\n",
       "      <td>Mendez, Arturo</td>\n",
       "      <td>NaN</td>\n",
       "      <td>NaN</td>\n",
       "    </tr>\n",
       "    <tr>\n",
       "      <th>33</th>\n",
       "      <td>1045</td>\n",
       "      <td>Barros\\nTrias</td>\n",
       "      <td>Vicentini</td>\n",
       "      <td>1924-01-23</td>\n",
       "      <td>933</td>\n",
       "      <td>Barros, Rogelio</td>\n",
       "      <td>NaN</td>\n",
       "      <td>NaN</td>\n",
       "      <td>934</td>\n",
       "      <td>Trias, Alfonso</td>\n",
       "      <td>NaN</td>\n",
       "      <td>NaN</td>\n",
       "    </tr>\n",
       "    <tr>\n",
       "      <th>34</th>\n",
       "      <td>1046</td>\n",
       "      <td>Ibarra\\nAstorga</td>\n",
       "      <td>Vicentini</td>\n",
       "      <td>1924-01-23</td>\n",
       "      <td>935</td>\n",
       "      <td>Ibarra, Carlos</td>\n",
       "      <td>NaN</td>\n",
       "      <td>NaN</td>\n",
       "      <td>936</td>\n",
       "      <td>Astorga, Raul</td>\n",
       "      <td>NaN</td>\n",
       "      <td>NaN</td>\n",
       "    </tr>\n",
       "    <tr>\n",
       "      <th>35</th>\n",
       "      <td>1047</td>\n",
       "      <td>Ibarra\\nSandoval</td>\n",
       "      <td>Vicentini</td>\n",
       "      <td>1924-01-23</td>\n",
       "      <td>935</td>\n",
       "      <td>Ibarra, Carlos</td>\n",
       "      <td>NaN</td>\n",
       "      <td>NaN</td>\n",
       "      <td>1048</td>\n",
       "      <td>Sandoval, Luis</td>\n",
       "      <td>NaN</td>\n",
       "      <td>NaN</td>\n",
       "    </tr>\n",
       "    <tr>\n",
       "      <th>36</th>\n",
       "      <td>1049</td>\n",
       "      <td>Avendaño\\nInostroza</td>\n",
       "      <td>Vicentini</td>\n",
       "      <td>1924-01-23</td>\n",
       "      <td>937</td>\n",
       "      <td>Avendaño, Manuel</td>\n",
       "      <td>NaN</td>\n",
       "      <td>NaN</td>\n",
       "      <td>938</td>\n",
       "      <td>Inostroza, Lupercio</td>\n",
       "      <td>NaN</td>\n",
       "      <td>NaN</td>\n",
       "    </tr>\n",
       "    <tr>\n",
       "      <th>37</th>\n",
       "      <td>1050</td>\n",
       "      <td>Salinas\\nLasseube</td>\n",
       "      <td>Vicentini</td>\n",
       "      <td>1924-01-23</td>\n",
       "      <td>939</td>\n",
       "      <td>Salinas, Luis</td>\n",
       "      <td>NaN</td>\n",
       "      <td>NaN</td>\n",
       "      <td>146</td>\n",
       "      <td>Lasseube, Enrique</td>\n",
       "      <td>NaN</td>\n",
       "      <td>NaN</td>\n",
       "    </tr>\n",
       "  </tbody>\n",
       "</table>\n",
       "</div>"
      ],
      "text/plain": [
       "    Challenge H-ID       rec_Title_left                          Source  \\\n",
       "0              969      Castillo\\nBaeza  Semanario La Prensa. Los Andes   \n",
       "1              972         Araya\\nBolli  Semanario La Prensa. Los Andes   \n",
       "2              975        Valdes\\nPérez  Semanario La Prensa. Los Andes   \n",
       "3              978         Ortiz\\nAraya  Semanario La Prensa. Los Andes   \n",
       "4              985     Valdes\\nGallardo  Semanario La Prensa. Los Andes   \n",
       "5              986       Silva\\nIñiguez                      Los Sports   \n",
       "6              988    Flores\\nFarrafino                      Los Sports   \n",
       "7              993    Huerta\\nGiaverini                      Los Sports   \n",
       "8              994    Huerta\\nGiaverini                      Los Sports   \n",
       "9             1000     Tapia\\nInostroza                      Los Sports   \n",
       "10            1002       Alley\\nSalinas                      Los Sports   \n",
       "11            1004   Olguín\\nValdenegro                      Los Sports   \n",
       "12            1005    Olguín\\nHenriquez                      Los Sports   \n",
       "13            1007        Olguín\\nLeiva                      Los Sports   \n",
       "14            1009       Acosta\\nMolina                      Los Sports   \n",
       "15            1011        Acosta\\nParra                      Los Sports   \n",
       "16            1013        Rios\\nArratia                      Los Sports   \n",
       "17            1015     Caldera\\nAnguita                      Los Sports   \n",
       "18            1017   Caldera\\nGiaverini                      Los Sports   \n",
       "19            1018   Guerrero\\nLasseube                       Vicentini   \n",
       "20            1020     Gonzalez\\nSuarez                      Los Sports   \n",
       "21            1022     Gonzalez\\nCorrea                      Los Sports   \n",
       "22            1023      Gonzalez\\nCipry                      Los Sports   \n",
       "23            1025   Gonzalez\\nSaavedra                      Los Sports   \n",
       "24            1027    Villablanca\\nJaña                      Los Sports   \n",
       "25            1028    Villablanca\\nMeza                      Los Sports   \n",
       "26            1030   García\\nValdivieso                      Los Sports   \n",
       "27            1034     Guerra\\nMartinez                      Los Sports   \n",
       "28            1036          Araya\\nMery                      Los Sports   \n",
       "29            1037        Tapia\\nIbarra                      Los Sports   \n",
       "30            1039    Fajardo\\nIglesias                      Los Sports   \n",
       "31            1041        Vargas\\nRojas                      Los Sports   \n",
       "32            1042      Amparán\\nMendez                      Los Sports   \n",
       "33            1045        Barros\\nTrias                       Vicentini   \n",
       "34            1046      Ibarra\\nAstorga                       Vicentini   \n",
       "35            1047     Ibarra\\nSandoval                       Vicentini   \n",
       "36            1049  Avendaño\\nInostroza                       Vicentini   \n",
       "37            1050    Salinas\\nLasseube                       Vicentini   \n",
       "\n",
       "   Source year  Boxers challenging H-ID    rec_Title.1_left  \\\n",
       "0   1928-03-02                      865   Castillo, Ernesto   \n",
       "1   1928-04-05                      882       Araya, Manuel   \n",
       "2   1928-04-08                      833       Valdes, Mario   \n",
       "3   1928-04-08                      976       Ortiz, Rafael   \n",
       "4   1928-04-29                      833       Valdes, Mario   \n",
       "5   1924-02-01                      189       Silva, Carlos   \n",
       "6   1924-03-07                      302        Flores, Sara   \n",
       "7   1924-02-01                      891   Huerta, Francisco   \n",
       "8   1924-02-01                      891   Huerta, Francisco   \n",
       "9   1924-03-07                      158        Tapia, Julio   \n",
       "10  1924-03-07                     1003         Alley, Juan   \n",
       "11  1924-03-07                      647    Olguín, Humberto   \n",
       "12  1924-03-07                      647    Olguín, Humberto   \n",
       "13  1924-03-07                      647    Olguín, Humberto   \n",
       "14  1924-03-14                      332     Acosta, Luis J.   \n",
       "15  1924-03-14                      332     Acosta, Luis J.   \n",
       "16  1924-03-14                      502       Rios, Agustin   \n",
       "17  1924-04-04                      143  Caldera, Francisco   \n",
       "18  1924-04-04                      143  Caldera, Francisco   \n",
       "19  1924-01-23                       77     Guerrero, Angel   \n",
       "20  1924-04-15                      639  Gonzalez, Johnston   \n",
       "21  1924-04-15                      639  Gonzalez, Johnston   \n",
       "22  1924-04-15                      639  Gonzalez, Johnston   \n",
       "23  1924-04-15                      639  Gonzalez, Johnston   \n",
       "24  1924-05-23                      732   Villablanca, Luis   \n",
       "25  1924-05-23                      732   Villablanca, Luis   \n",
       "26  1924-01-25                      163   García, Francisco   \n",
       "27  1924-01-25                      162       Guerra, Oscar   \n",
       "28  1924-01-25                      175        Araya, Jorge   \n",
       "29  1924-01-25                      174       Tapia, Manuel   \n",
       "30  1924-01-25                      177    Fajardo, Ruperto   \n",
       "31  1924-01-25                      178     Vargas, Armando   \n",
       "32  1924-01-25                      185     Amparán, Miguel   \n",
       "33  1924-01-23                      933     Barros, Rogelio   \n",
       "34  1924-01-23                      935      Ibarra, Carlos   \n",
       "35  1924-01-23                      935      Ibarra, Carlos   \n",
       "36  1924-01-23                      937    Avendaño, Manuel   \n",
       "37  1924-01-23                      939       Salinas, Luis   \n",
       "\n",
       "    Club Affiliation H-ID_left                                   rec_Title.2  \\\n",
       "0                          NaN                                           NaN   \n",
       "1                        845.0                     Juan Ferriere Boxing Club   \n",
       "2                          NaN                                           NaN   \n",
       "3                          NaN                                           NaN   \n",
       "4                          NaN                                           NaN   \n",
       "5                          NaN                                           NaN   \n",
       "6                          NaN                                           NaN   \n",
       "7                          NaN                                           NaN   \n",
       "8                          NaN                                           NaN   \n",
       "9                          NaN                                           NaN   \n",
       "10                         NaN                                           NaN   \n",
       "11                         NaN                                           NaN   \n",
       "12                         NaN                                           NaN   \n",
       "13                         NaN                                           NaN   \n",
       "14                       329.0  Centro Deportivo Compañía de Gas de Santiago   \n",
       "15                       329.0  Centro Deportivo Compañía de Gas de Santiago   \n",
       "16                         NaN                                           NaN   \n",
       "17                         NaN                                           NaN   \n",
       "18                         NaN                                           NaN   \n",
       "19                         NaN                                           NaN   \n",
       "20                         NaN                                           NaN   \n",
       "21                         NaN                                           NaN   \n",
       "22                         NaN                                           NaN   \n",
       "23                         NaN                                           NaN   \n",
       "24                         NaN                                           NaN   \n",
       "25                         NaN                                           NaN   \n",
       "26                         NaN                                           NaN   \n",
       "27                         NaN                                           NaN   \n",
       "28                       180.0                        Rodolfo Jaramillo B.C.   \n",
       "29                         NaN                                           NaN   \n",
       "30                       179.0                                Centro Tallman   \n",
       "31                         NaN                                           NaN   \n",
       "32                         NaN                                           NaN   \n",
       "33                         NaN                                           NaN   \n",
       "34                         NaN                                           NaN   \n",
       "35                         NaN                                           NaN   \n",
       "36                         NaN                                           NaN   \n",
       "37                         NaN                                           NaN   \n",
       "\n",
       "    Boxer Challenged H-ID_right        rec_Title_right  \\\n",
       "0                           836       Baeza, Florencio   \n",
       "1                           780          Bolli, Carlos   \n",
       "2                           272          Pérez, Amador   \n",
       "3                           882          Araya, Manuel   \n",
       "4                           827        Gallardo, Pedro   \n",
       "5                           987         Iñiguez, Mario   \n",
       "6                           303  Farrafino, Clementina   \n",
       "7                           573       Giaverini, Oscar   \n",
       "8                           573       Giaverini, Oscar   \n",
       "9                          1001     Inostroza, Ruperto   \n",
       "10                          321          Salinas, Juan   \n",
       "11                          423             Valdenegro   \n",
       "12                         1006              Henriquez   \n",
       "13                         1008                  Leiva   \n",
       "14                         1010         Molina, Erasmo   \n",
       "15                         1012         Parra, Routier   \n",
       "16                         1014          Arratia, Jose   \n",
       "17                          572         Anguita, Oscar   \n",
       "18                          573       Giaverini, Oscar   \n",
       "19                          146      Lasseube, Enrique   \n",
       "20                         1021          Suarez, Pablo   \n",
       "21                          735           Correa, Luis   \n",
       "22                         1024            Cipry, John   \n",
       "23                         1026     Saavedra, Clemente   \n",
       "24                          223           Jaña, Andres   \n",
       "25                          733         Meza, Fernando   \n",
       "26                         1031       Valdivieso, Raul   \n",
       "27                         1035    Martinez, Alejandro   \n",
       "28                           98            Mery, Oscar   \n",
       "29                         1038         Ibarra, Daniel   \n",
       "30                         1040       Iglesias, Alvaro   \n",
       "31                          126         Rojas, Nicanor   \n",
       "32                         1043         Mendez, Arturo   \n",
       "33                          934         Trias, Alfonso   \n",
       "34                          936          Astorga, Raul   \n",
       "35                         1048         Sandoval, Luis   \n",
       "36                          938    Inostroza, Lupercio   \n",
       "37                          146      Lasseube, Enrique   \n",
       "\n",
       "    Club Affiliation H-ID_right                 rec_Title.1_right  \n",
       "0                           NaN                               NaN  \n",
       "1                         750.0  Pedro Martínez Hnos. Boxing Club  \n",
       "2                           NaN                               NaN  \n",
       "3                         845.0         Juan Ferriere Boxing Club  \n",
       "4                           NaN                               NaN  \n",
       "5                           NaN                               NaN  \n",
       "6                           NaN                               NaN  \n",
       "7                           NaN                               NaN  \n",
       "8                           NaN                               NaN  \n",
       "9                           NaN                               NaN  \n",
       "10                          NaN                               NaN  \n",
       "11                          NaN                               NaN  \n",
       "12                          NaN                               NaN  \n",
       "13                          NaN                               NaN  \n",
       "14                          NaN                               NaN  \n",
       "15                          NaN                               NaN  \n",
       "16                          NaN                               NaN  \n",
       "17                          NaN                               NaN  \n",
       "18                          NaN                               NaN  \n",
       "19                          NaN                               NaN  \n",
       "20                          NaN                               NaN  \n",
       "21                          NaN                               NaN  \n",
       "22                          NaN                               NaN  \n",
       "23                          NaN                               NaN  \n",
       "24                          NaN                               NaN  \n",
       "25                          NaN                               NaN  \n",
       "26                          NaN                               NaN  \n",
       "27                          NaN                               NaN  \n",
       "28                         95.0            Batallón de Telégrafos  \n",
       "29                          NaN                               NaN  \n",
       "30                          NaN                               NaN  \n",
       "31                          NaN                               NaN  \n",
       "32                          NaN                               NaN  \n",
       "33                          NaN                               NaN  \n",
       "34                          NaN                               NaN  \n",
       "35                          NaN                               NaN  \n",
       "36                          NaN                               NaN  \n",
       "37                          NaN                               NaN  "
      ]
     },
     "execution_count": 22,
     "metadata": {},
     "output_type": "execute_result"
    }
   ],
   "source": [
    "ch_01"
   ]
  },
  {
   "cell_type": "code",
   "execution_count": 53,
   "id": "224c6957",
   "metadata": {},
   "outputs": [
    {
     "name": "stdout",
     "output_type": "stream",
     "text": [
      "<class 'pandas.core.frame.DataFrame'>\n",
      "RangeIndex: 38 entries, 0 to 37\n",
      "Data columns (total 12 columns):\n",
      " #   Column                       Non-Null Count  Dtype  \n",
      "---  ------                       --------------  -----  \n",
      " 0   Challenge H-ID               38 non-null     int64  \n",
      " 1   rec_Title_left               38 non-null     object \n",
      " 2   Source                       38 non-null     object \n",
      " 3   Source year                  38 non-null     object \n",
      " 4   challenging_id               38 non-null     object \n",
      " 5   rec_Title.1_left             38 non-null     object \n",
      " 6   Club Affiliation H-ID_left   5 non-null      float64\n",
      " 7   rec_Title.2                  5 non-null      object \n",
      " 8   challenged_id                38 non-null     object \n",
      " 9   rec_Title_right              38 non-null     object \n",
      " 10  Club Affiliation H-ID_right  3 non-null      float64\n",
      " 11  rec_Title.1_right            3 non-null      object \n",
      "dtypes: float64(2), int64(1), object(9)\n",
      "memory usage: 3.7+ KB\n"
     ]
    }
   ],
   "source": [
    "ch_01.info()"
   ]
  },
  {
   "cell_type": "code",
   "execution_count": 39,
   "id": "b8ca0572",
   "metadata": {},
   "outputs": [],
   "source": [
    "ch_01.rename({'Boxers challenging H-ID': 'challenging_id'}, axis = 1, inplace=True)"
   ]
  },
  {
   "cell_type": "code",
   "execution_count": 42,
   "id": "b6df6a7d",
   "metadata": {},
   "outputs": [],
   "source": [
    "ch_01.rename({'Boxer Challenged H-ID_right': 'challenged_id'}, axis = 1, inplace=True)"
   ]
  },
  {
   "cell_type": "code",
   "execution_count": 66,
   "id": "3ddc90f7",
   "metadata": {},
   "outputs": [],
   "source": [
    "ch_01.rename({'rec_Title_right': 'challenged_name'}, axis = 1, inplace=True)\n",
    "ch_01.rename({'rec_Title.1_left': 'challenging_name'}, axis = 1, inplace=True)\n"
   ]
  },
  {
   "cell_type": "code",
   "execution_count": 68,
   "id": "a866c7fc",
   "metadata": {},
   "outputs": [],
   "source": [
    "ch_01.rename({'rec_Title_left': 'challenge'}, axis = 1, inplace=True)"
   ]
  },
  {
   "cell_type": "code",
   "execution_count": 69,
   "id": "622c1afb",
   "metadata": {},
   "outputs": [
    {
     "data": {
      "text/html": [
       "<div>\n",
       "<style scoped>\n",
       "    .dataframe tbody tr th:only-of-type {\n",
       "        vertical-align: middle;\n",
       "    }\n",
       "\n",
       "    .dataframe tbody tr th {\n",
       "        vertical-align: top;\n",
       "    }\n",
       "\n",
       "    .dataframe thead th {\n",
       "        text-align: right;\n",
       "    }\n",
       "</style>\n",
       "<table border=\"1\" class=\"dataframe\">\n",
       "  <thead>\n",
       "    <tr style=\"text-align: right;\">\n",
       "      <th></th>\n",
       "      <th>Challenge H-ID</th>\n",
       "      <th>challenge</th>\n",
       "      <th>Source</th>\n",
       "      <th>Source year</th>\n",
       "      <th>challenging_id</th>\n",
       "      <th>challenging_name</th>\n",
       "      <th>Club Affiliation H-ID_left</th>\n",
       "      <th>rec_Title.2</th>\n",
       "      <th>challenged_id</th>\n",
       "      <th>challenged_name</th>\n",
       "      <th>Club Affiliation H-ID_right</th>\n",
       "      <th>rec_Title.1_right</th>\n",
       "    </tr>\n",
       "  </thead>\n",
       "  <tbody>\n",
       "    <tr>\n",
       "      <th>0</th>\n",
       "      <td>969</td>\n",
       "      <td>Castillo\\nBaeza</td>\n",
       "      <td>Semanario La Prensa. Los Andes</td>\n",
       "      <td>1928-03-02</td>\n",
       "      <td>865</td>\n",
       "      <td>Castillo, Ernesto</td>\n",
       "      <td>NaN</td>\n",
       "      <td>NaN</td>\n",
       "      <td>836</td>\n",
       "      <td>Baeza, Florencio</td>\n",
       "      <td>NaN</td>\n",
       "      <td>NaN</td>\n",
       "    </tr>\n",
       "    <tr>\n",
       "      <th>1</th>\n",
       "      <td>972</td>\n",
       "      <td>Araya\\nBolli</td>\n",
       "      <td>Semanario La Prensa. Los Andes</td>\n",
       "      <td>1928-04-05</td>\n",
       "      <td>882</td>\n",
       "      <td>Araya, Manuel</td>\n",
       "      <td>845.0</td>\n",
       "      <td>Juan Ferriere Boxing Club</td>\n",
       "      <td>780</td>\n",
       "      <td>Bolli, Carlos</td>\n",
       "      <td>750.0</td>\n",
       "      <td>Pedro Martínez Hnos. Boxing Club</td>\n",
       "    </tr>\n",
       "  </tbody>\n",
       "</table>\n",
       "</div>"
      ],
      "text/plain": [
       "   Challenge H-ID        challenge                          Source  \\\n",
       "0             969  Castillo\\nBaeza  Semanario La Prensa. Los Andes   \n",
       "1             972     Araya\\nBolli  Semanario La Prensa. Los Andes   \n",
       "\n",
       "  Source year challenging_id   challenging_name  Club Affiliation H-ID_left  \\\n",
       "0  1928-03-02            865  Castillo, Ernesto                         NaN   \n",
       "1  1928-04-05            882      Araya, Manuel                       845.0   \n",
       "\n",
       "                 rec_Title.2 challenged_id   challenged_name  \\\n",
       "0                        NaN           836  Baeza, Florencio   \n",
       "1  Juan Ferriere Boxing Club           780     Bolli, Carlos   \n",
       "\n",
       "   Club Affiliation H-ID_right                 rec_Title.1_right  \n",
       "0                          NaN                               NaN  \n",
       "1                        750.0  Pedro Martínez Hnos. Boxing Club  "
      ]
     },
     "execution_count": 69,
     "metadata": {},
     "output_type": "execute_result"
    }
   ],
   "source": [
    "ch_01.head(2)"
   ]
  },
  {
   "cell_type": "code",
   "execution_count": 52,
   "id": "23a22f1a",
   "metadata": {},
   "outputs": [],
   "source": [
    "ch_01 = ch_01.astype({\"challenging_id\": str, \"challenged_id\": str})"
   ]
  },
  {
   "cell_type": "markdown",
   "id": "9c24c8ab",
   "metadata": {},
   "source": [
    ">**CREATE AN EDGELIST**\n",
    "\n",
    "Convert data into an edgelist. First the source and then the node. "
   ]
  },
  {
   "cell_type": "code",
   "execution_count": 54,
   "id": "19970dda",
   "metadata": {},
   "outputs": [],
   "source": [
    "G = nx.from_pandas_edgelist(ch_01, source='challenging_id', target='challenged_id')"
   ]
  },
  {
   "cell_type": "code",
   "execution_count": 55,
   "id": "96e71034",
   "metadata": {},
   "outputs": [
    {
     "data": {
      "image/png": "[encoded data removed]",
      "text/plain": [
       "<Figure size 432x288 with 1 Axes>"
      ]
     },
     "metadata": {},
     "output_type": "display_data"
    }
   ],
   "source": [
    "nx.draw(G)\n",
    "plt.show()"
   ]
  },
  {
   "cell_type": "code",
   "execution_count": 56,
   "id": "72b557fc",
   "metadata": {},
   "outputs": [
    {
     "data": {
      "text/plain": [
       "EdgeView([('865', '836'), ('882', '780'), ('882', '976'), ('833', '272'), ('833', '827'), ('189', '987'), ('302', '303'), ('891', '573'), ('573', '143'), ('158', '1001'), ('1003', '321'), ('647', '423'), ('647', '1006'), ('647', '1008'), ('332', '1010'), ('332', '1012'), ('502', '1014'), ('143', '572'), ('77', '146'), ('146', '939'), ('639', '1021'), ('639', '735'), ('639', '1024'), ('639', '1026'), ('732', '223'), ('732', '733'), ('163', '1031'), ('162', '1035'), ('175', '98'), ('174', '1038'), ('177', '1040'), ('178', '126'), ('185', '1043'), ('933', '934'), ('935', '936'), ('935', '1048'), ('937', '938')])"
      ]
     },
     "execution_count": 56,
     "metadata": {},
     "output_type": "execute_result"
    }
   ],
   "source": [
    "G.edges()"
   ]
  },
  {
   "cell_type": "code",
   "execution_count": 57,
   "id": "d9eb3119",
   "metadata": {},
   "outputs": [
    {
     "data": {
      "text/plain": [
       "NodeView(('865', '836', '882', '780', '833', '272', '976', '827', '189', '987', '302', '303', '891', '573', '158', '1001', '1003', '321', '647', '423', '1006', '1008', '332', '1010', '1012', '502', '1014', '143', '572', '77', '146', '639', '1021', '735', '1024', '1026', '732', '223', '733', '163', '1031', '162', '1035', '175', '98', '174', '1038', '177', '1040', '178', '126', '185', '1043', '933', '934', '935', '936', '1048', '937', '938', '939'))"
      ]
     },
     "execution_count": 57,
     "metadata": {},
     "output_type": "execute_result"
    }
   ],
   "source": [
    "G.nodes()"
   ]
  },
  {
   "cell_type": "code",
   "execution_count": 11,
   "id": "0c70ca22",
   "metadata": {},
   "outputs": [],
   "source": [
    "from random import randint"
   ]
  },
  {
   "cell_type": "code",
   "execution_count": 12,
   "id": "6a1b4e13",
   "metadata": {},
   "outputs": [
    {
     "data": {
      "image/png": "[encoded data removed]",
      "text/plain": [
       "<Figure size 432x288 with 1 Axes>"
      ]
     },
     "metadata": {
      "needs_background": "light"
     },
     "output_type": "display_data"
    }
   ],
   "source": [
    "'''G = nx.erdos_renyi_graph(n=30, p=0.1)\n",
    "for n, d in G.nodes(data=True):\n",
    "    G.nodes[n][\"group\"] = randint(0, 5)\n",
    "G = nx.relabel_nodes(G, {i: \"long name #\" + str(i) for i in range(len(G))})\n",
    "nv.circos(G, group_by=\"group\", node_color_by=\"group\")\n",
    "annotate.circos_labels(G, group_by=\"group\", layout=\"rotate\")\n",
    "# The rotated labels take up more space, so we will have to increase the\n",
    "# padding a bit. 5% on all sides works well here.\n",
    "plt.tight_layout(rect=(0.05, 0.05, 0.95, 0.95))\n",
    "plt.show()'''"
   ]
  },
  {
   "cell_type": "code",
   "execution_count": 27,
   "id": "add35d76",
   "metadata": {},
   "outputs": [
    {
     "data": {
      "image/png": "[encoded data removed]",
      "text/plain": [
       "<Figure size 432x288 with 1 Axes>"
      ]
     },
     "metadata": {
      "needs_background": "light"
     },
     "output_type": "display_data"
    }
   ],
   "source": [
    "gr_01 = nv.circos(G)\n",
    "annotate.circos_labels(G)"
   ]
  },
  {
   "cell_type": "code",
   "execution_count": 28,
   "id": "538eda45",
   "metadata": {},
   "outputs": [
    {
     "data": {
      "image/png": "[encoded data removed]",
      "text/plain": [
       "<Figure size 432x288 with 1 Axes>"
      ]
     },
     "metadata": {
      "needs_background": "light"
     },
     "output_type": "display_data"
    }
   ],
   "source": [
    "ax = nv.matrix(G)"
   ]
  },
  {
   "cell_type": "markdown",
   "id": "076036c5",
   "metadata": {},
   "source": [
    ">**SET OPERATIONS**"
   ]
  },
  {
   "cell_type": "code",
   "execution_count": 29,
   "id": "2c2016b4",
   "metadata": {},
   "outputs": [
    {
     "data": {
      "text/plain": [
       "NodeDataView({865: {}, 836: {}, 882: {}, 780: {}, 833: {}, 272: {}, 976: {}, 827: {}, 189: {}, 987: {}, 302: {}, 303: {}, 891: {}, 573: {}, 158: {}, 1001: {}, 1003: {}, 321: {}, 647: {}, 423: {}, 1006: {}, 1008: {}, 332: {}, 1010: {}, 1012: {}, 502: {}, 1014: {}, 143: {}, 572: {}, 77: {}, 146: {}, 639: {}, 1021: {}, 735: {}, 1024: {}, 1026: {}, 732: {}, 223: {}, 733: {}, 163: {}, 1031: {}, 162: {}, 1035: {}, 175: {}, 98: {}, 174: {}, 1038: {}, 177: {}, 1040: {}, 178: {}, 126: {}, 185: {}, 1043: {}, 933: {}, 934: {}, 935: {}, 936: {}, 1048: {}, 937: {}, 938: {}, 939: {}})"
      ]
     },
     "execution_count": 29,
     "metadata": {},
     "output_type": "execute_result"
    }
   ],
   "source": [
    "G.nodes(data=True)"
   ]
  },
  {
   "cell_type": "code",
   "execution_count": 30,
   "id": "84e24e7b",
   "metadata": {},
   "outputs": [
    {
     "data": {
      "text/plain": [
       "EdgeView([(865, 836), (882, 780), (882, 976), (833, 272), (833, 827), (189, 987), (302, 303), (891, 573), (573, 143), (158, 1001), (1003, 321), (647, 423), (647, 1006), (647, 1008), (332, 1010), (332, 1012), (502, 1014), (143, 572), (77, 146), (146, 939), (639, 1021), (639, 735), (639, 1024), (639, 1026), (732, 223), (732, 733), (163, 1031), (162, 1035), (175, 98), (174, 1038), (177, 1040), (178, 126), (185, 1043), (933, 934), (935, 936), (935, 1048), (937, 938)])"
      ]
     },
     "execution_count": 30,
     "metadata": {},
     "output_type": "execute_result"
    }
   ],
   "source": [
    "G.edges()"
   ]
  },
  {
   "cell_type": "code",
   "execution_count": 63,
   "id": "7200235b",
   "metadata": {},
   "outputs": [],
   "source": [
    "boxer_935 = []\n",
    "boxer_935 = G.neighbors('935')"
   ]
  },
  {
   "cell_type": "code",
   "execution_count": 65,
   "id": "03ef975b",
   "metadata": {},
   "outputs": [
    {
     "name": "stdout",
     "output_type": "stream",
     "text": [
      "<dict_keyiterator object at 0x7fd4fa7de4a0>\n"
     ]
    }
   ],
   "source": [
    "print(boxer_935)"
   ]
  },
  {
   "cell_type": "markdown",
   "id": "4be1e558",
   "metadata": {},
   "source": [
    ">**PROJECT**"
   ]
  },
  {
   "cell_type": "code",
   "execution_count": 70,
   "id": "276b74d5",
   "metadata": {},
   "outputs": [],
   "source": [
    "G_ch = nx.Graph()"
   ]
  },
  {
   "cell_type": "code",
   "execution_count": 73,
   "id": "035de728",
   "metadata": {},
   "outputs": [],
   "source": [
    "# Iterating through the DataFrame to add edges\n",
    "for node, edge in ch_01.iterrows():\n",
    "    G_ch.add_edge(edge['challenging_id'], edge['challenged_id'])\n"
   ]
  },
  {
   "cell_type": "code",
   "execution_count": 84,
   "id": "b5a2dc20",
   "metadata": {},
   "outputs": [
    {
     "data": {
      "image/png": "[encoded data removed]",
      "text/plain": [
       "<Figure size 432x288 with 1 Axes>"
      ]
     },
     "metadata": {},
     "output_type": "display_data"
    }
   ],
   "source": [
    "nx.draw(G_ch, with_labels = True, )\n",
    "plt.show()"
   ]
  },
  {
   "cell_type": "code",
   "execution_count": 75,
   "id": "a2fd19b8",
   "metadata": {},
   "outputs": [],
   "source": [
    "# Calculating the degree centrality of G_ch\n",
    "deg_cen_G = nx.degree_centrality(G_ch)\n"
   ]
  },
  {
   "cell_type": "code",
   "execution_count": 76,
   "id": "271e5180",
   "metadata": {},
   "outputs": [
    {
     "data": {
      "text/plain": [
       "{'865': 0.016666666666666666,\n",
       " '836': 0.016666666666666666,\n",
       " '882': 0.03333333333333333,\n",
       " '780': 0.016666666666666666,\n",
       " '833': 0.03333333333333333,\n",
       " '272': 0.016666666666666666,\n",
       " '976': 0.016666666666666666,\n",
       " '827': 0.016666666666666666,\n",
       " '189': 0.016666666666666666,\n",
       " '987': 0.016666666666666666,\n",
       " '302': 0.016666666666666666,\n",
       " '303': 0.016666666666666666,\n",
       " '891': 0.016666666666666666,\n",
       " '573': 0.03333333333333333,\n",
       " '158': 0.016666666666666666,\n",
       " '1001': 0.016666666666666666,\n",
       " '1003': 0.016666666666666666,\n",
       " '321': 0.016666666666666666,\n",
       " '647': 0.05,\n",
       " '423': 0.016666666666666666,\n",
       " '1006': 0.016666666666666666,\n",
       " '1008': 0.016666666666666666,\n",
       " '332': 0.03333333333333333,\n",
       " '1010': 0.016666666666666666,\n",
       " '1012': 0.016666666666666666,\n",
       " '502': 0.016666666666666666,\n",
       " '1014': 0.016666666666666666,\n",
       " '143': 0.03333333333333333,\n",
       " '572': 0.016666666666666666,\n",
       " '77': 0.016666666666666666,\n",
       " '146': 0.03333333333333333,\n",
       " '639': 0.06666666666666667,\n",
       " '1021': 0.016666666666666666,\n",
       " '735': 0.016666666666666666,\n",
       " '1024': 0.016666666666666666,\n",
       " '1026': 0.016666666666666666,\n",
       " '732': 0.03333333333333333,\n",
       " '223': 0.016666666666666666,\n",
       " '733': 0.016666666666666666,\n",
       " '163': 0.016666666666666666,\n",
       " '1031': 0.016666666666666666,\n",
       " '162': 0.016666666666666666,\n",
       " '1035': 0.016666666666666666,\n",
       " '175': 0.016666666666666666,\n",
       " '98': 0.016666666666666666,\n",
       " '174': 0.016666666666666666,\n",
       " '1038': 0.016666666666666666,\n",
       " '177': 0.016666666666666666,\n",
       " '1040': 0.016666666666666666,\n",
       " '178': 0.016666666666666666,\n",
       " '126': 0.016666666666666666,\n",
       " '185': 0.016666666666666666,\n",
       " '1043': 0.016666666666666666,\n",
       " '933': 0.016666666666666666,\n",
       " '934': 0.016666666666666666,\n",
       " '935': 0.03333333333333333,\n",
       " '936': 0.016666666666666666,\n",
       " '1048': 0.016666666666666666,\n",
       " '937': 0.016666666666666666,\n",
       " '938': 0.016666666666666666,\n",
       " '939': 0.016666666666666666}"
      ]
     },
     "execution_count": 76,
     "metadata": {},
     "output_type": "execute_result"
    }
   ],
   "source": [
    "deg_cen_G"
   ]
  },
  {
   "cell_type": "code",
   "execution_count": 80,
   "id": "a3b294b4",
   "metadata": {},
   "outputs": [],
   "source": [
    "# Sorting the dictionaries according to their degree centrality and extracting the top 10\n",
    "sorted_deg_cen_G = sorted(deg_cen_G.items(), key=lambda x:x[1], reverse=True)"
   ]
  },
  {
   "cell_type": "code",
   "execution_count": 82,
   "id": "52f0647b",
   "metadata": {},
   "outputs": [
    {
     "name": "stdout",
     "output_type": "stream",
     "text": [
      "<class 'list'>\n"
     ]
    }
   ],
   "source": [
    "print(type(sorted_deg_cen_G))"
   ]
  },
  {
   "cell_type": "code",
   "execution_count": 83,
   "id": "d6356bbd",
   "metadata": {},
   "outputs": [
    {
     "data": {
      "text/plain": [
       "[('639', 0.06666666666666667),\n",
       " ('647', 0.05),\n",
       " ('882', 0.03333333333333333),\n",
       " ('833', 0.03333333333333333),\n",
       " ('573', 0.03333333333333333),\n",
       " ('332', 0.03333333333333333),\n",
       " ('143', 0.03333333333333333),\n",
       " ('146', 0.03333333333333333),\n",
       " ('732', 0.03333333333333333),\n",
       " ('935', 0.03333333333333333),\n",
       " ('865', 0.016666666666666666),\n",
       " ('836', 0.016666666666666666),\n",
       " ('780', 0.016666666666666666),\n",
       " ('272', 0.016666666666666666),\n",
       " ('976', 0.016666666666666666),\n",
       " ('827', 0.016666666666666666),\n",
       " ('189', 0.016666666666666666),\n",
       " ('987', 0.016666666666666666),\n",
       " ('302', 0.016666666666666666),\n",
       " ('303', 0.016666666666666666),\n",
       " ('891', 0.016666666666666666),\n",
       " ('158', 0.016666666666666666),\n",
       " ('1001', 0.016666666666666666),\n",
       " ('1003', 0.016666666666666666),\n",
       " ('321', 0.016666666666666666),\n",
       " ('423', 0.016666666666666666),\n",
       " ('1006', 0.016666666666666666),\n",
       " ('1008', 0.016666666666666666),\n",
       " ('1010', 0.016666666666666666),\n",
       " ('1012', 0.016666666666666666),\n",
       " ('502', 0.016666666666666666),\n",
       " ('1014', 0.016666666666666666),\n",
       " ('572', 0.016666666666666666),\n",
       " ('77', 0.016666666666666666),\n",
       " ('1021', 0.016666666666666666),\n",
       " ('735', 0.016666666666666666),\n",
       " ('1024', 0.016666666666666666),\n",
       " ('1026', 0.016666666666666666),\n",
       " ('223', 0.016666666666666666),\n",
       " ('733', 0.016666666666666666),\n",
       " ('163', 0.016666666666666666),\n",
       " ('1031', 0.016666666666666666),\n",
       " ('162', 0.016666666666666666),\n",
       " ('1035', 0.016666666666666666),\n",
       " ('175', 0.016666666666666666),\n",
       " ('98', 0.016666666666666666),\n",
       " ('174', 0.016666666666666666),\n",
       " ('1038', 0.016666666666666666),\n",
       " ('177', 0.016666666666666666),\n",
       " ('1040', 0.016666666666666666),\n",
       " ('178', 0.016666666666666666),\n",
       " ('126', 0.016666666666666666),\n",
       " ('185', 0.016666666666666666),\n",
       " ('1043', 0.016666666666666666),\n",
       " ('933', 0.016666666666666666),\n",
       " ('934', 0.016666666666666666),\n",
       " ('936', 0.016666666666666666),\n",
       " ('1048', 0.016666666666666666),\n",
       " ('937', 0.016666666666666666),\n",
       " ('938', 0.016666666666666666),\n",
       " ('939', 0.016666666666666666)]"
      ]
     },
     "execution_count": 83,
     "metadata": {},
     "output_type": "execute_result"
    }
   ],
   "source": [
    "sorted_deg_cen_G"
   ]
  },
  {
   "cell_type": "code",
   "execution_count": null,
   "id": "cd3c37e2",
   "metadata": {},
   "outputs": [],
   "source": [
    "G_02 = nx.from_pandas_edgelist(ch_01, source='challenging_id', target='challenged_id')"
   ]
  },
  {
   "cell_type": "code",
   "execution_count": 88,
   "id": "abc20fdc",
   "metadata": {},
   "outputs": [
    {
     "data": {
      "image/png": "[encoded data removed]",
      "text/plain": [
       "<Figure size 432x288 with 1 Axes>"
      ]
     },
     "metadata": {
      "needs_background": "light"
     },
     "output_type": "display_data"
    }
   ],
   "source": [
    "gr_01 = nv.circos(G_ch)"
   ]
  },
  {
   "cell_type": "code",
   "execution_count": null,
   "id": "81b69a1d",
   "metadata": {},
   "outputs": [],
   "source": [
    "G = nx.erdos_renyi_graph(n=30, p=0.1)"
   ]
  },
  {
   "cell_type": "code",
   "execution_count": 89,
   "id": "5e253279",
   "metadata": {},
   "outputs": [
    {
     "data": {
      "text/html": [
       "<div>\n",
       "<style scoped>\n",
       "    .dataframe tbody tr th:only-of-type {\n",
       "        vertical-align: middle;\n",
       "    }\n",
       "\n",
       "    .dataframe tbody tr th {\n",
       "        vertical-align: top;\n",
       "    }\n",
       "\n",
       "    .dataframe thead th {\n",
       "        text-align: right;\n",
       "    }\n",
       "</style>\n",
       "<table border=\"1\" class=\"dataframe\">\n",
       "  <thead>\n",
       "    <tr style=\"text-align: right;\">\n",
       "      <th></th>\n",
       "      <th>Challenge H-ID</th>\n",
       "      <th>challenge</th>\n",
       "      <th>Source</th>\n",
       "      <th>Source year</th>\n",
       "      <th>challenging_id</th>\n",
       "      <th>challenging_name</th>\n",
       "      <th>Club Affiliation H-ID_left</th>\n",
       "      <th>rec_Title.2</th>\n",
       "      <th>challenged_id</th>\n",
       "      <th>challenged_name</th>\n",
       "      <th>Club Affiliation H-ID_right</th>\n",
       "      <th>rec_Title.1_right</th>\n",
       "    </tr>\n",
       "  </thead>\n",
       "  <tbody>\n",
       "    <tr>\n",
       "      <th>0</th>\n",
       "      <td>969</td>\n",
       "      <td>Castillo\\nBaeza</td>\n",
       "      <td>Semanario La Prensa. Los Andes</td>\n",
       "      <td>1928-03-02</td>\n",
       "      <td>865</td>\n",
       "      <td>Castillo, Ernesto</td>\n",
       "      <td>NaN</td>\n",
       "      <td>NaN</td>\n",
       "      <td>836</td>\n",
       "      <td>Baeza, Florencio</td>\n",
       "      <td>NaN</td>\n",
       "      <td>NaN</td>\n",
       "    </tr>\n",
       "    <tr>\n",
       "      <th>1</th>\n",
       "      <td>972</td>\n",
       "      <td>Araya\\nBolli</td>\n",
       "      <td>Semanario La Prensa. Los Andes</td>\n",
       "      <td>1928-04-05</td>\n",
       "      <td>882</td>\n",
       "      <td>Araya, Manuel</td>\n",
       "      <td>845.0</td>\n",
       "      <td>Juan Ferriere Boxing Club</td>\n",
       "      <td>780</td>\n",
       "      <td>Bolli, Carlos</td>\n",
       "      <td>750.0</td>\n",
       "      <td>Pedro Martínez Hnos. Boxing Club</td>\n",
       "    </tr>\n",
       "  </tbody>\n",
       "</table>\n",
       "</div>"
      ],
      "text/plain": [
       "   Challenge H-ID        challenge                          Source  \\\n",
       "0             969  Castillo\\nBaeza  Semanario La Prensa. Los Andes   \n",
       "1             972     Araya\\nBolli  Semanario La Prensa. Los Andes   \n",
       "\n",
       "  Source year challenging_id   challenging_name  Club Affiliation H-ID_left  \\\n",
       "0  1928-03-02            865  Castillo, Ernesto                         NaN   \n",
       "1  1928-04-05            882      Araya, Manuel                       845.0   \n",
       "\n",
       "                 rec_Title.2 challenged_id   challenged_name  \\\n",
       "0                        NaN           836  Baeza, Florencio   \n",
       "1  Juan Ferriere Boxing Club           780     Bolli, Carlos   \n",
       "\n",
       "   Club Affiliation H-ID_right                 rec_Title.1_right  \n",
       "0                          NaN                               NaN  \n",
       "1                        750.0  Pedro Martínez Hnos. Boxing Club  "
      ]
     },
     "execution_count": 89,
     "metadata": {},
     "output_type": "execute_result"
    }
   ],
   "source": [
    "ch_01.head(2)"
   ]
  },
  {
   "cell_type": "code",
   "execution_count": 91,
   "id": "155987a3",
   "metadata": {},
   "outputs": [],
   "source": [
    "A = nx.from_pandas_edgelist(ch_01, 'challenging_id', 'challenged_id', ['challenging_name', 'challenged_name'])"
   ]
  },
  {
   "cell_type": "code",
   "execution_count": 92,
   "id": "7549bfe9",
   "metadata": {},
   "outputs": [
    {
     "data": {
      "image/png": "[encoded data removed]",
      "text/plain": [
       "<Figure size 432x288 with 1 Axes>"
      ]
     },
     "metadata": {},
     "output_type": "display_data"
    }
   ],
   "source": [
    "nx.draw(A)"
   ]
  },
  {
   "cell_type": "code",
   "execution_count": 93,
   "id": "bf5b75aa",
   "metadata": {},
   "outputs": [
    {
     "data": {
      "text/plain": [
       "NodeDataView({'865': {}, '836': {}, '882': {}, '780': {}, '833': {}, '272': {}, '976': {}, '827': {}, '189': {}, '987': {}, '302': {}, '303': {}, '891': {}, '573': {}, '158': {}, '1001': {}, '1003': {}, '321': {}, '647': {}, '423': {}, '1006': {}, '1008': {}, '332': {}, '1010': {}, '1012': {}, '502': {}, '1014': {}, '143': {}, '572': {}, '77': {}, '146': {}, '639': {}, '1021': {}, '735': {}, '1024': {}, '1026': {}, '732': {}, '223': {}, '733': {}, '163': {}, '1031': {}, '162': {}, '1035': {}, '175': {}, '98': {}, '174': {}, '1038': {}, '177': {}, '1040': {}, '178': {}, '126': {}, '185': {}, '1043': {}, '933': {}, '934': {}, '935': {}, '936': {}, '1048': {}, '937': {}, '938': {}, '939': {}})"
      ]
     },
     "execution_count": 93,
     "metadata": {},
     "output_type": "execute_result"
    }
   ],
   "source": [
    "A.nodes(data=True)"
   ]
  },
  {
   "cell_type": "code",
   "execution_count": 94,
   "id": "ff03dc6a",
   "metadata": {},
   "outputs": [
    {
     "data": {
      "text/plain": [
       "EdgeDataView([('865', '836', {'challenging_name': 'Castillo, Ernesto', 'challenged_name': 'Baeza, Florencio'}), ('882', '780', {'challenging_name': 'Araya, Manuel', 'challenged_name': 'Bolli, Carlos'}), ('882', '976', {'challenging_name': 'Ortiz, Rafael', 'challenged_name': 'Araya, Manuel'}), ('833', '272', {'challenging_name': 'Valdes, Mario', 'challenged_name': 'Pérez, Amador'}), ('833', '827', {'challenging_name': 'Valdes, Mario', 'challenged_name': 'Gallardo, Pedro'}), ('189', '987', {'challenging_name': 'Silva, Carlos', 'challenged_name': 'Iñiguez, Mario'}), ('302', '303', {'challenging_name': 'Flores, Sara', 'challenged_name': 'Farrafino, Clementina'}), ('891', '573', {'challenging_name': 'Huerta, Francisco', 'challenged_name': 'Giaverini, Oscar'}), ('573', '143', {'challenging_name': 'Caldera, Francisco', 'challenged_name': 'Giaverini, Oscar'}), ('158', '1001', {'challenging_name': 'Tapia, Julio', 'challenged_name': 'Inostroza, Ruperto'}), ('1003', '321', {'challenging_name': 'Alley, Juan', 'challenged_name': 'Salinas, Juan'}), ('647', '423', {'challenging_name': 'Olguín, Humberto', 'challenged_name': 'Valdenegro'}), ('647', '1006', {'challenging_name': 'Olguín, Humberto', 'challenged_name': 'Henriquez'}), ('647', '1008', {'challenging_name': 'Olguín, Humberto', 'challenged_name': 'Leiva'}), ('332', '1010', {'challenging_name': 'Acosta, Luis J.', 'challenged_name': 'Molina, Erasmo'}), ('332', '1012', {'challenging_name': 'Acosta, Luis J.', 'challenged_name': 'Parra, Routier'}), ('502', '1014', {'challenging_name': 'Rios, Agustin', 'challenged_name': 'Arratia, Jose'}), ('143', '572', {'challenging_name': 'Caldera, Francisco', 'challenged_name': 'Anguita, Oscar'}), ('77', '146', {'challenging_name': 'Guerrero, Angel', 'challenged_name': 'Lasseube, Enrique'}), ('146', '939', {'challenging_name': 'Salinas, Luis', 'challenged_name': 'Lasseube, Enrique'}), ('639', '1021', {'challenging_name': 'Gonzalez, Johnston', 'challenged_name': 'Suarez, Pablo'}), ('639', '735', {'challenging_name': 'Gonzalez, Johnston', 'challenged_name': 'Correa, Luis'}), ('639', '1024', {'challenging_name': 'Gonzalez, Johnston', 'challenged_name': 'Cipry, John'}), ('639', '1026', {'challenging_name': 'Gonzalez, Johnston', 'challenged_name': 'Saavedra, Clemente'}), ('732', '223', {'challenging_name': 'Villablanca, Luis', 'challenged_name': 'Jaña, Andres'}), ('732', '733', {'challenging_name': 'Villablanca, Luis', 'challenged_name': 'Meza, Fernando'}), ('163', '1031', {'challenging_name': 'García, Francisco', 'challenged_name': 'Valdivieso, Raul'}), ('162', '1035', {'challenging_name': 'Guerra, Oscar', 'challenged_name': 'Martinez, Alejandro'}), ('175', '98', {'challenging_name': 'Araya, Jorge', 'challenged_name': 'Mery, Oscar'}), ('174', '1038', {'challenging_name': 'Tapia, Manuel', 'challenged_name': 'Ibarra, Daniel'}), ('177', '1040', {'challenging_name': 'Fajardo, Ruperto', 'challenged_name': 'Iglesias, Alvaro'}), ('178', '126', {'challenging_name': 'Vargas, Armando', 'challenged_name': 'Rojas, Nicanor'}), ('185', '1043', {'challenging_name': 'Amparán, Miguel', 'challenged_name': 'Mendez, Arturo'}), ('933', '934', {'challenging_name': 'Barros, Rogelio', 'challenged_name': 'Trias, Alfonso'}), ('935', '936', {'challenging_name': 'Ibarra, Carlos', 'challenged_name': 'Astorga, Raul'}), ('935', '1048', {'challenging_name': 'Ibarra, Carlos', 'challenged_name': 'Sandoval, Luis'}), ('937', '938', {'challenging_name': 'Avendaño, Manuel', 'challenged_name': 'Inostroza, Lupercio'})])"
      ]
     },
     "execution_count": 94,
     "metadata": {},
     "output_type": "execute_result"
    }
   ],
   "source": [
    "A.edges(data=True)"
   ]
  },
  {
   "cell_type": "code",
   "execution_count": 96,
   "id": "30e6dfc1",
   "metadata": {},
   "outputs": [
    {
     "data": {
      "text/html": [
       "<div>\n",
       "<style scoped>\n",
       "    .dataframe tbody tr th:only-of-type {\n",
       "        vertical-align: middle;\n",
       "    }\n",
       "\n",
       "    .dataframe tbody tr th {\n",
       "        vertical-align: top;\n",
       "    }\n",
       "\n",
       "    .dataframe thead th {\n",
       "        text-align: right;\n",
       "    }\n",
       "</style>\n",
       "<table border=\"1\" class=\"dataframe\">\n",
       "  <thead>\n",
       "    <tr style=\"text-align: right;\">\n",
       "      <th></th>\n",
       "      <th>Challenge H-ID</th>\n",
       "      <th>challenge</th>\n",
       "      <th>Source</th>\n",
       "      <th>Source year</th>\n",
       "      <th>challenging_id</th>\n",
       "      <th>challenging_name</th>\n",
       "      <th>Club Affiliation H-ID_left</th>\n",
       "      <th>rec_Title.2</th>\n",
       "      <th>challenged_id</th>\n",
       "      <th>challenged_name</th>\n",
       "      <th>Club Affiliation H-ID_right</th>\n",
       "      <th>rec_Title.1_right</th>\n",
       "    </tr>\n",
       "  </thead>\n",
       "  <tbody>\n",
       "    <tr>\n",
       "      <th>0</th>\n",
       "      <td>969</td>\n",
       "      <td>Castillo\\nBaeza</td>\n",
       "      <td>Semanario La Prensa. Los Andes</td>\n",
       "      <td>1928-03-02</td>\n",
       "      <td>865</td>\n",
       "      <td>Castillo, Ernesto</td>\n",
       "      <td>NaN</td>\n",
       "      <td>NaN</td>\n",
       "      <td>836</td>\n",
       "      <td>Baeza, Florencio</td>\n",
       "      <td>NaN</td>\n",
       "      <td>NaN</td>\n",
       "    </tr>\n",
       "    <tr>\n",
       "      <th>1</th>\n",
       "      <td>972</td>\n",
       "      <td>Araya\\nBolli</td>\n",
       "      <td>Semanario La Prensa. Los Andes</td>\n",
       "      <td>1928-04-05</td>\n",
       "      <td>882</td>\n",
       "      <td>Araya, Manuel</td>\n",
       "      <td>845.0</td>\n",
       "      <td>Juan Ferriere Boxing Club</td>\n",
       "      <td>780</td>\n",
       "      <td>Bolli, Carlos</td>\n",
       "      <td>750.0</td>\n",
       "      <td>Pedro Martínez Hnos. Boxing Club</td>\n",
       "    </tr>\n",
       "  </tbody>\n",
       "</table>\n",
       "</div>"
      ],
      "text/plain": [
       "   Challenge H-ID        challenge                          Source  \\\n",
       "0             969  Castillo\\nBaeza  Semanario La Prensa. Los Andes   \n",
       "1             972     Araya\\nBolli  Semanario La Prensa. Los Andes   \n",
       "\n",
       "  Source year challenging_id   challenging_name  Club Affiliation H-ID_left  \\\n",
       "0  1928-03-02            865  Castillo, Ernesto                         NaN   \n",
       "1  1928-04-05            882      Araya, Manuel                       845.0   \n",
       "\n",
       "                 rec_Title.2 challenged_id   challenged_name  \\\n",
       "0                        NaN           836  Baeza, Florencio   \n",
       "1  Juan Ferriere Boxing Club           780     Bolli, Carlos   \n",
       "\n",
       "   Club Affiliation H-ID_right                 rec_Title.1_right  \n",
       "0                          NaN                               NaN  \n",
       "1                        750.0  Pedro Martínez Hnos. Boxing Club  "
      ]
     },
     "execution_count": 96,
     "metadata": {},
     "output_type": "execute_result"
    }
   ],
   "source": [
    "ch_01.head(2)"
   ]
  },
  {
   "cell_type": "code",
   "execution_count": 99,
   "id": "cdcf5bba",
   "metadata": {},
   "outputs": [
    {
     "data": {
      "text/plain": [
       "EdgeDataView([('865', '836', {'challenging_name': 'Castillo, Ernesto', 'challenged_name': 'Baeza, Florencio'}), ('882', '780', {'challenging_name': 'Araya, Manuel', 'challenged_name': 'Bolli, Carlos'}), ('882', '976', {'challenging_name': 'Ortiz, Rafael', 'challenged_name': 'Araya, Manuel'}), ('833', '272', {'challenging_name': 'Valdes, Mario', 'challenged_name': 'Pérez, Amador'}), ('833', '827', {'challenging_name': 'Valdes, Mario', 'challenged_name': 'Gallardo, Pedro'}), ('189', '987', {'challenging_name': 'Silva, Carlos', 'challenged_name': 'Iñiguez, Mario'}), ('302', '303', {'challenging_name': 'Flores, Sara', 'challenged_name': 'Farrafino, Clementina'}), ('891', '573', {'challenging_name': 'Huerta, Francisco', 'challenged_name': 'Giaverini, Oscar'}), ('573', '143', {'challenging_name': 'Caldera, Francisco', 'challenged_name': 'Giaverini, Oscar'}), ('158', '1001', {'challenging_name': 'Tapia, Julio', 'challenged_name': 'Inostroza, Ruperto'}), ('1003', '321', {'challenging_name': 'Alley, Juan', 'challenged_name': 'Salinas, Juan'}), ('647', '423', {'challenging_name': 'Olguín, Humberto', 'challenged_name': 'Valdenegro'}), ('647', '1006', {'challenging_name': 'Olguín, Humberto', 'challenged_name': 'Henriquez'}), ('647', '1008', {'challenging_name': 'Olguín, Humberto', 'challenged_name': 'Leiva'}), ('332', '1010', {'challenging_name': 'Acosta, Luis J.', 'challenged_name': 'Molina, Erasmo'}), ('332', '1012', {'challenging_name': 'Acosta, Luis J.', 'challenged_name': 'Parra, Routier'}), ('502', '1014', {'challenging_name': 'Rios, Agustin', 'challenged_name': 'Arratia, Jose'}), ('143', '572', {'challenging_name': 'Caldera, Francisco', 'challenged_name': 'Anguita, Oscar'}), ('77', '146', {'challenging_name': 'Guerrero, Angel', 'challenged_name': 'Lasseube, Enrique'}), ('146', '939', {'challenging_name': 'Salinas, Luis', 'challenged_name': 'Lasseube, Enrique'}), ('639', '1021', {'challenging_name': 'Gonzalez, Johnston', 'challenged_name': 'Suarez, Pablo'}), ('639', '735', {'challenging_name': 'Gonzalez, Johnston', 'challenged_name': 'Correa, Luis'}), ('639', '1024', {'challenging_name': 'Gonzalez, Johnston', 'challenged_name': 'Cipry, John'}), ('639', '1026', {'challenging_name': 'Gonzalez, Johnston', 'challenged_name': 'Saavedra, Clemente'}), ('732', '223', {'challenging_name': 'Villablanca, Luis', 'challenged_name': 'Jaña, Andres'}), ('732', '733', {'challenging_name': 'Villablanca, Luis', 'challenged_name': 'Meza, Fernando'}), ('163', '1031', {'challenging_name': 'García, Francisco', 'challenged_name': 'Valdivieso, Raul'}), ('162', '1035', {'challenging_name': 'Guerra, Oscar', 'challenged_name': 'Martinez, Alejandro'}), ('175', '98', {'challenging_name': 'Araya, Jorge', 'challenged_name': 'Mery, Oscar'}), ('174', '1038', {'challenging_name': 'Tapia, Manuel', 'challenged_name': 'Ibarra, Daniel'}), ('177', '1040', {'challenging_name': 'Fajardo, Ruperto', 'challenged_name': 'Iglesias, Alvaro'}), ('178', '126', {'challenging_name': 'Vargas, Armando', 'challenged_name': 'Rojas, Nicanor'}), ('185', '1043', {'challenging_name': 'Amparán, Miguel', 'challenged_name': 'Mendez, Arturo'}), ('933', '934', {'challenging_name': 'Barros, Rogelio', 'challenged_name': 'Trias, Alfonso'}), ('935', '936', {'challenging_name': 'Ibarra, Carlos', 'challenged_name': 'Astorga, Raul'}), ('935', '1048', {'challenging_name': 'Ibarra, Carlos', 'challenged_name': 'Sandoval, Luis'}), ('937', '938', {'challenging_name': 'Avendaño, Manuel', 'challenged_name': 'Inostroza, Lupercio'})])"
      ]
     },
     "execution_count": 99,
     "metadata": {},
     "output_type": "execute_result"
    }
   ],
   "source": [
    "A.edges(data=True)"
   ]
  },
  {
   "cell_type": "code",
   "execution_count": 105,
   "id": "2672c893",
   "metadata": {},
   "outputs": [
    {
     "data": {
      "text/html": [
       "<div>\n",
       "<style scoped>\n",
       "    .dataframe tbody tr th:only-of-type {\n",
       "        vertical-align: middle;\n",
       "    }\n",
       "\n",
       "    .dataframe tbody tr th {\n",
       "        vertical-align: top;\n",
       "    }\n",
       "\n",
       "    .dataframe thead th {\n",
       "        text-align: right;\n",
       "    }\n",
       "</style>\n",
       "<table border=\"1\" class=\"dataframe\">\n",
       "  <thead>\n",
       "    <tr style=\"text-align: right;\">\n",
       "      <th></th>\n",
       "      <th>Challenge H-ID</th>\n",
       "      <th>challenge</th>\n",
       "      <th>Source</th>\n",
       "      <th>Source year</th>\n",
       "      <th>challenging_id</th>\n",
       "      <th>challenging_name</th>\n",
       "      <th>Club Affiliation H-ID_left</th>\n",
       "      <th>rec_Title.2</th>\n",
       "      <th>challenged_id</th>\n",
       "      <th>challenged_name</th>\n",
       "      <th>Club Affiliation H-ID_right</th>\n",
       "      <th>rec_Title.1_right</th>\n",
       "    </tr>\n",
       "  </thead>\n",
       "  <tbody>\n",
       "    <tr>\n",
       "      <th>0</th>\n",
       "      <td>969</td>\n",
       "      <td>Castillo\\nBaeza</td>\n",
       "      <td>Semanario La Prensa. Los Andes</td>\n",
       "      <td>1928-03-02</td>\n",
       "      <td>865</td>\n",
       "      <td>Castillo, Ernesto</td>\n",
       "      <td>NaN</td>\n",
       "      <td>NaN</td>\n",
       "      <td>836</td>\n",
       "      <td>Baeza, Florencio</td>\n",
       "      <td>NaN</td>\n",
       "      <td>NaN</td>\n",
       "    </tr>\n",
       "    <tr>\n",
       "      <th>1</th>\n",
       "      <td>972</td>\n",
       "      <td>Araya\\nBolli</td>\n",
       "      <td>Semanario La Prensa. Los Andes</td>\n",
       "      <td>1928-04-05</td>\n",
       "      <td>882</td>\n",
       "      <td>Araya, Manuel</td>\n",
       "      <td>845.0</td>\n",
       "      <td>Juan Ferriere Boxing Club</td>\n",
       "      <td>780</td>\n",
       "      <td>Bolli, Carlos</td>\n",
       "      <td>750.0</td>\n",
       "      <td>Pedro Martínez Hnos. Boxing Club</td>\n",
       "    </tr>\n",
       "    <tr>\n",
       "      <th>2</th>\n",
       "      <td>975</td>\n",
       "      <td>Valdes\\nPérez</td>\n",
       "      <td>Semanario La Prensa. Los Andes</td>\n",
       "      <td>1928-04-08</td>\n",
       "      <td>833</td>\n",
       "      <td>Valdes, Mario</td>\n",
       "      <td>NaN</td>\n",
       "      <td>NaN</td>\n",
       "      <td>272</td>\n",
       "      <td>Pérez, Amador</td>\n",
       "      <td>NaN</td>\n",
       "      <td>NaN</td>\n",
       "    </tr>\n",
       "    <tr>\n",
       "      <th>3</th>\n",
       "      <td>978</td>\n",
       "      <td>Ortiz\\nAraya</td>\n",
       "      <td>Semanario La Prensa. Los Andes</td>\n",
       "      <td>1928-04-08</td>\n",
       "      <td>976</td>\n",
       "      <td>Ortiz, Rafael</td>\n",
       "      <td>NaN</td>\n",
       "      <td>NaN</td>\n",
       "      <td>882</td>\n",
       "      <td>Araya, Manuel</td>\n",
       "      <td>845.0</td>\n",
       "      <td>Juan Ferriere Boxing Club</td>\n",
       "    </tr>\n",
       "    <tr>\n",
       "      <th>4</th>\n",
       "      <td>985</td>\n",
       "      <td>Valdes\\nGallardo</td>\n",
       "      <td>Semanario La Prensa. Los Andes</td>\n",
       "      <td>1928-04-29</td>\n",
       "      <td>833</td>\n",
       "      <td>Valdes, Mario</td>\n",
       "      <td>NaN</td>\n",
       "      <td>NaN</td>\n",
       "      <td>827</td>\n",
       "      <td>Gallardo, Pedro</td>\n",
       "      <td>NaN</td>\n",
       "      <td>NaN</td>\n",
       "    </tr>\n",
       "  </tbody>\n",
       "</table>\n",
       "</div>"
      ],
      "text/plain": [
       "   Challenge H-ID         challenge                          Source  \\\n",
       "0             969   Castillo\\nBaeza  Semanario La Prensa. Los Andes   \n",
       "1             972      Araya\\nBolli  Semanario La Prensa. Los Andes   \n",
       "2             975     Valdes\\nPérez  Semanario La Prensa. Los Andes   \n",
       "3             978      Ortiz\\nAraya  Semanario La Prensa. Los Andes   \n",
       "4             985  Valdes\\nGallardo  Semanario La Prensa. Los Andes   \n",
       "\n",
       "  Source year challenging_id   challenging_name  Club Affiliation H-ID_left  \\\n",
       "0  1928-03-02            865  Castillo, Ernesto                         NaN   \n",
       "1  1928-04-05            882      Araya, Manuel                       845.0   \n",
       "2  1928-04-08            833      Valdes, Mario                         NaN   \n",
       "3  1928-04-08            976      Ortiz, Rafael                         NaN   \n",
       "4  1928-04-29            833      Valdes, Mario                         NaN   \n",
       "\n",
       "                 rec_Title.2 challenged_id   challenged_name  \\\n",
       "0                        NaN           836  Baeza, Florencio   \n",
       "1  Juan Ferriere Boxing Club           780     Bolli, Carlos   \n",
       "2                        NaN           272     Pérez, Amador   \n",
       "3                        NaN           882     Araya, Manuel   \n",
       "4                        NaN           827   Gallardo, Pedro   \n",
       "\n",
       "   Club Affiliation H-ID_right                 rec_Title.1_right  \n",
       "0                          NaN                               NaN  \n",
       "1                        750.0  Pedro Martínez Hnos. Boxing Club  \n",
       "2                          NaN                               NaN  \n",
       "3                        845.0         Juan Ferriere Boxing Club  \n",
       "4                          NaN                               NaN  "
      ]
     },
     "execution_count": 105,
     "metadata": {},
     "output_type": "execute_result"
    }
   ],
   "source": [
    "ch_01.head(5)"
   ]
  },
  {
   "cell_type": "code",
   "execution_count": 101,
   "id": "83bd73ef",
   "metadata": {},
   "outputs": [],
   "source": [
    "B = nx.from_pandas_edgelist(ch_01, 'challenging_id', 'challenged_id')"
   ]
  },
  {
   "cell_type": "code",
   "execution_count": 104,
   "id": "07eafdfb",
   "metadata": {},
   "outputs": [
    {
     "name": "stdout",
     "output_type": "stream",
     "text": [
      "[('865', {'name': 'Castillo, Ernesto'}), ('836', {'name': 'Baeza, Florencio'}), ('882', {'name': 'Araya, Manuel'}), ('780', {'name': 'Bolli, Carlos'}), ('833', {'name': 'Valdes, Mario'}), ('272', {'name': 'Pérez, Amador'}), ('976', {'name': 'Ortiz, Rafael'}), ('827', {'name': 'Gallardo, Pedro'}), ('189', {'name': 'Silva, Carlos'}), ('987', {'name': 'Iñiguez, Mario'}), ('302', {'name': 'Flores, Sara'}), ('303', {'name': 'Farrafino, Clementina'}), ('891', {'name': 'Huerta, Francisco'}), ('573', {'name': 'Giaverini, Oscar'}), ('158', {'name': 'Tapia, Julio'}), ('1001', {'name': 'Inostroza, Ruperto'}), ('1003', {'name': 'Alley, Juan'}), ('321', {'name': 'Salinas, Juan'}), ('647', {'name': 'Olguín, Humberto'}), ('423', {'name': 'Valdenegro'}), ('1006', {'name': 'Henriquez'}), ('1008', {'name': 'Leiva'}), ('332', {'name': 'Acosta, Luis J.'}), ('1010', {'name': 'Molina, Erasmo'}), ('1012', {'name': 'Parra, Routier'}), ('502', {'name': 'Rios, Agustin'}), ('1014', {'name': 'Arratia, Jose'}), ('143', {'name': 'Caldera, Francisco'}), ('572', {'name': 'Anguita, Oscar'}), ('77', {'name': 'Guerrero, Angel'}), ('146', {'name': 'Lasseube, Enrique'}), ('639', {'name': 'Gonzalez, Johnston'}), ('1021', {'name': 'Suarez, Pablo'}), ('735', {'name': 'Correa, Luis'}), ('1024', {'name': 'Cipry, John'}), ('1026', {'name': 'Saavedra, Clemente'}), ('732', {'name': 'Villablanca, Luis'}), ('223', {'name': 'Jaña, Andres'}), ('733', {'name': 'Meza, Fernando'}), ('163', {'name': 'García, Francisco'}), ('1031', {'name': 'Valdivieso, Raul'}), ('162', {'name': 'Guerra, Oscar'}), ('1035', {'name': 'Martinez, Alejandro'}), ('175', {'name': 'Araya, Jorge'}), ('98', {'name': 'Mery, Oscar'}), ('174', {'name': 'Tapia, Manuel'}), ('1038', {'name': 'Ibarra, Daniel'}), ('177', {'name': 'Fajardo, Ruperto'}), ('1040', {'name': 'Iglesias, Alvaro'}), ('178', {'name': 'Vargas, Armando'}), ('126', {'name': 'Rojas, Nicanor'}), ('185', {'name': 'Amparán, Miguel'}), ('1043', {'name': 'Mendez, Arturo'}), ('933', {'name': 'Barros, Rogelio'}), ('934', {'name': 'Trias, Alfonso'}), ('935', {'name': 'Ibarra, Carlos'}), ('936', {'name': 'Astorga, Raul'}), ('1048', {'name': 'Sandoval, Luis'}), ('937', {'name': 'Avendaño, Manuel'}), ('938', {'name': 'Inostroza, Lupercio'}), ('939', {'name': 'Salinas, Luis'})]\n"
     ]
    }
   ],
   "source": [
    "for box,row in ch_01.iterrows():\n",
    "    B.nodes[row['challenging_id']]['name'] = row['challenging_name']\n",
    "    B.nodes[row['challenged_id']]['name'] = row['challenged_name']\n",
    "print(B.nodes(data=True))"
   ]
  },
  {
   "cell_type": "code",
   "execution_count": 106,
   "id": "e094918a",
   "metadata": {},
   "outputs": [
    {
     "data": {
      "text/plain": [
       "61"
      ]
     },
     "execution_count": 106,
     "metadata": {},
     "output_type": "execute_result"
    }
   ],
   "source": [
    "len(B.nodes)"
   ]
  },
  {
   "cell_type": "code",
   "execution_count": null,
   "id": "e1e5b010",
   "metadata": {},
   "outputs": [],
   "source": []
  }
 ],
 "metadata": {
  "kernelspec": {
   "display_name": "Python 3 (ipykernel)",
   "language": "python",
   "name": "python3"
  },
  "language_info": {
   "codemirror_mode": {
    "name": "ipython",
    "version": 3
   },
   "file_extension": ".py",
   "mimetype": "text/x-python",
   "name": "python",
   "nbconvert_exporter": "python",
   "pygments_lexer": "ipython3",
   "version": "3.9.7"
  }
 },
 "nbformat": 4,
 "nbformat_minor": 5
}
