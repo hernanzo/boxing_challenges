{
 "cells": [
  {
   "cell_type": "code",
   "execution_count": 2,
   "id": "d942e4e9",
   "metadata": {},
   "outputs": [
    {
     "name": "stderr",
     "output_type": "stream",
     "text": [
      "/opt/anaconda3/lib/python3.9/site-packages/nxviz/__init__.py:18: UserWarning: \n",
      "nxviz has a new API! Version 0.7.3 onwards, the old class-based API is being\n",
      "deprecated in favour of a new API focused on advancing a grammar of network\n",
      "graphics. If your plotting code depends on the old API, please consider\n",
      "pinning nxviz at version 0.7.3, as the new API will break your old code.\n",
      "\n",
      "To check out the new API, please head over to the docs at\n",
      "https://ericmjl.github.io/nxviz/ to learn more. We hope you enjoy using it!\n",
      "\n",
      "(This deprecation message will go away in version 1.0.)\n",
      "\n",
      "  warnings.warn(\n"
     ]
    }
   ],
   "source": [
    "import pandas as pd\n",
    "import networkx as nx\n",
    "import matplotlib.pyplot as plt\n",
    "import nxviz.plots as nv\n",
    "import nxviz as nv\n",
    "from nxviz import annotate\n",
    "from datetime import datetime"
   ]
  },
  {
   "cell_type": "markdown",
   "id": "9b8629b5",
   "metadata": {},
   "source": [
    ">**PREPROCESING**"
   ]
  },
  {
   "cell_type": "code",
   "execution_count": 4,
   "id": "41c0cfc4",
   "metadata": {},
   "outputs": [],
   "source": [
    "ch_01 = pd.read_csv(r'/Users/hernanadasme/Projects/data_challenges/data_box/challen_01.csv')\n",
    "ch_01.drop(['Unnamed: 0'], axis=1, inplace=True)"
   ]
  },
  {
   "cell_type": "code",
   "execution_count": 5,
   "id": "96795c16",
   "metadata": {},
   "outputs": [
    {
     "data": {
      "text/html": [
       "<div>\n",
       "<style scoped>\n",
       "    .dataframe tbody tr th:only-of-type {\n",
       "        vertical-align: middle;\n",
       "    }\n",
       "\n",
       "    .dataframe tbody tr th {\n",
       "        vertical-align: top;\n",
       "    }\n",
       "\n",
       "    .dataframe thead th {\n",
       "        text-align: right;\n",
       "    }\n",
       "</style>\n",
       "<table border=\"1\" class=\"dataframe\">\n",
       "  <thead>\n",
       "    <tr style=\"text-align: right;\">\n",
       "      <th></th>\n",
       "      <th>Challenge H-ID</th>\n",
       "      <th>rec_Title_left</th>\n",
       "      <th>Source</th>\n",
       "      <th>Source year</th>\n",
       "      <th>Boxers challenging H-ID</th>\n",
       "      <th>rec_Title.1_left</th>\n",
       "      <th>Club Affiliation H-ID_left</th>\n",
       "      <th>rec_Title.2</th>\n",
       "      <th>Boxer Challenged H-ID_right</th>\n",
       "      <th>rec_Title_right</th>\n",
       "      <th>Club Affiliation H-ID_right</th>\n",
       "      <th>rec_Title.1_right</th>\n",
       "    </tr>\n",
       "  </thead>\n",
       "  <tbody>\n",
       "    <tr>\n",
       "      <th>0</th>\n",
       "      <td>969</td>\n",
       "      <td>Castillo\\nBaeza</td>\n",
       "      <td>Semanario La Prensa. Los Andes</td>\n",
       "      <td>1928-03-02</td>\n",
       "      <td>865</td>\n",
       "      <td>Castillo, Ernesto</td>\n",
       "      <td>NaN</td>\n",
       "      <td>NaN</td>\n",
       "      <td>836</td>\n",
       "      <td>Baeza, Florencio</td>\n",
       "      <td>NaN</td>\n",
       "      <td>NaN</td>\n",
       "    </tr>\n",
       "    <tr>\n",
       "      <th>1</th>\n",
       "      <td>972</td>\n",
       "      <td>Araya\\nBolli</td>\n",
       "      <td>Semanario La Prensa. Los Andes</td>\n",
       "      <td>1928-04-05</td>\n",
       "      <td>882</td>\n",
       "      <td>Araya, Manuel</td>\n",
       "      <td>845.0</td>\n",
       "      <td>Juan Ferriere Boxing Club</td>\n",
       "      <td>780</td>\n",
       "      <td>Bolli, Carlos</td>\n",
       "      <td>750.0</td>\n",
       "      <td>Pedro Martínez Hnos. Boxing Club</td>\n",
       "    </tr>\n",
       "    <tr>\n",
       "      <th>2</th>\n",
       "      <td>975</td>\n",
       "      <td>Valdes\\nPérez</td>\n",
       "      <td>Semanario La Prensa. Los Andes</td>\n",
       "      <td>1928-04-08</td>\n",
       "      <td>833</td>\n",
       "      <td>Valdes, Mario</td>\n",
       "      <td>NaN</td>\n",
       "      <td>NaN</td>\n",
       "      <td>272</td>\n",
       "      <td>Pérez, Amador</td>\n",
       "      <td>NaN</td>\n",
       "      <td>NaN</td>\n",
       "    </tr>\n",
       "    <tr>\n",
       "      <th>3</th>\n",
       "      <td>978</td>\n",
       "      <td>Ortiz\\nAraya</td>\n",
       "      <td>Semanario La Prensa. Los Andes</td>\n",
       "      <td>1928-04-08</td>\n",
       "      <td>976</td>\n",
       "      <td>Ortiz, Rafael</td>\n",
       "      <td>NaN</td>\n",
       "      <td>NaN</td>\n",
       "      <td>882</td>\n",
       "      <td>Araya, Manuel</td>\n",
       "      <td>845.0</td>\n",
       "      <td>Juan Ferriere Boxing Club</td>\n",
       "    </tr>\n",
       "    <tr>\n",
       "      <th>4</th>\n",
       "      <td>985</td>\n",
       "      <td>Valdes\\nGallardo</td>\n",
       "      <td>Semanario La Prensa. Los Andes</td>\n",
       "      <td>1928-04-29</td>\n",
       "      <td>833</td>\n",
       "      <td>Valdes, Mario</td>\n",
       "      <td>NaN</td>\n",
       "      <td>NaN</td>\n",
       "      <td>827</td>\n",
       "      <td>Gallardo, Pedro</td>\n",
       "      <td>NaN</td>\n",
       "      <td>NaN</td>\n",
       "    </tr>\n",
       "  </tbody>\n",
       "</table>\n",
       "</div>"
      ],
      "text/plain": [
       "   Challenge H-ID    rec_Title_left                          Source  \\\n",
       "0             969   Castillo\\nBaeza  Semanario La Prensa. Los Andes   \n",
       "1             972      Araya\\nBolli  Semanario La Prensa. Los Andes   \n",
       "2             975     Valdes\\nPérez  Semanario La Prensa. Los Andes   \n",
       "3             978      Ortiz\\nAraya  Semanario La Prensa. Los Andes   \n",
       "4             985  Valdes\\nGallardo  Semanario La Prensa. Los Andes   \n",
       "\n",
       "  Source year  Boxers challenging H-ID   rec_Title.1_left  \\\n",
       "0  1928-03-02                      865  Castillo, Ernesto   \n",
       "1  1928-04-05                      882      Araya, Manuel   \n",
       "2  1928-04-08                      833      Valdes, Mario   \n",
       "3  1928-04-08                      976      Ortiz, Rafael   \n",
       "4  1928-04-29                      833      Valdes, Mario   \n",
       "\n",
       "   Club Affiliation H-ID_left                rec_Title.2  \\\n",
       "0                         NaN                        NaN   \n",
       "1                       845.0  Juan Ferriere Boxing Club   \n",
       "2                         NaN                        NaN   \n",
       "3                         NaN                        NaN   \n",
       "4                         NaN                        NaN   \n",
       "\n",
       "   Boxer Challenged H-ID_right   rec_Title_right  Club Affiliation H-ID_right  \\\n",
       "0                          836  Baeza, Florencio                          NaN   \n",
       "1                          780     Bolli, Carlos                        750.0   \n",
       "2                          272     Pérez, Amador                          NaN   \n",
       "3                          882     Araya, Manuel                        845.0   \n",
       "4                          827   Gallardo, Pedro                          NaN   \n",
       "\n",
       "                  rec_Title.1_right  \n",
       "0                               NaN  \n",
       "1  Pedro Martínez Hnos. Boxing Club  \n",
       "2                               NaN  \n",
       "3         Juan Ferriere Boxing Club  \n",
       "4                               NaN  "
      ]
     },
     "execution_count": 5,
     "metadata": {},
     "output_type": "execute_result"
    }
   ],
   "source": [
    "ch_01.head()"
   ]
  },
  {
   "cell_type": "code",
   "execution_count": 6,
   "id": "e00050f2",
   "metadata": {},
   "outputs": [
    {
     "name": "stdout",
     "output_type": "stream",
     "text": [
      "<class 'pandas.core.frame.DataFrame'>\n",
      "RangeIndex: 38 entries, 0 to 37\n",
      "Data columns (total 12 columns):\n",
      " #   Column                       Non-Null Count  Dtype  \n",
      "---  ------                       --------------  -----  \n",
      " 0   Challenge H-ID               38 non-null     int64  \n",
      " 1   rec_Title_left               38 non-null     object \n",
      " 2   Source                       38 non-null     object \n",
      " 3   Source year                  38 non-null     object \n",
      " 4   Boxers challenging H-ID      38 non-null     int64  \n",
      " 5   rec_Title.1_left             38 non-null     object \n",
      " 6   Club Affiliation H-ID_left   5 non-null      float64\n",
      " 7   rec_Title.2                  5 non-null      object \n",
      " 8   Boxer Challenged H-ID_right  38 non-null     int64  \n",
      " 9   rec_Title_right              38 non-null     object \n",
      " 10  Club Affiliation H-ID_right  3 non-null      float64\n",
      " 11  rec_Title.1_right            3 non-null      object \n",
      "dtypes: float64(2), int64(3), object(7)\n",
      "memory usage: 3.7+ KB\n"
     ]
    }
   ],
   "source": [
    "ch_01.info()"
   ]
  },
  {
   "cell_type": "code",
   "execution_count": 10,
   "id": "50c9720d",
   "metadata": {},
   "outputs": [],
   "source": [
    "ch_01.rename({'Boxers challenging H-ID': 'challenging_id'}, axis = 1, inplace=True)\n",
    "ch_01.rename({'Boxer Challenged H-ID_right': 'challenged_id'}, axis = 1, inplace=True)\n",
    "ch_01.rename({'rec_Title_right': 'challenged_name'}, axis = 1, inplace=True)\n",
    "ch_01.rename({'rec_Title.1_left': 'challenging_name'}, axis = 1, inplace=True)\n",
    "ch_01.rename({'rec_Title_left': 'challenge'}, axis = 1, inplace=True)\n",
    "ch_01.rename({'Challenge H-ID': 'challenge_id'}, axis = 1, inplace=True)\n",
    "#ch_01.head()"
   ]
  },
  {
   "cell_type": "code",
   "execution_count": 11,
   "id": "f7d8c257",
   "metadata": {},
   "outputs": [],
   "source": [
    "ch_01 = ch_01.astype({\"challenging_id\": str, \"challenged_id\": str})"
   ]
  },
  {
   "cell_type": "code",
   "execution_count": 12,
   "id": "3311c417",
   "metadata": {},
   "outputs": [],
   "source": [
    "ch_01['Source year'] =  pd.to_datetime(ch_01['Source year'])"
   ]
  },
  {
   "cell_type": "code",
   "execution_count": 13,
   "id": "a25c835d",
   "metadata": {},
   "outputs": [
    {
     "name": "stdout",
     "output_type": "stream",
     "text": [
      "<class 'pandas.core.frame.DataFrame'>\n",
      "RangeIndex: 38 entries, 0 to 37\n",
      "Data columns (total 12 columns):\n",
      " #   Column                       Non-Null Count  Dtype         \n",
      "---  ------                       --------------  -----         \n",
      " 0   challenge_id                 38 non-null     int64         \n",
      " 1   challenge                    38 non-null     object        \n",
      " 2   Source                       38 non-null     object        \n",
      " 3   Source year                  38 non-null     datetime64[ns]\n",
      " 4   challenging_id               38 non-null     object        \n",
      " 5   challenging_name             38 non-null     object        \n",
      " 6   Club Affiliation H-ID_left   5 non-null      float64       \n",
      " 7   rec_Title.2                  5 non-null      object        \n",
      " 8   challenged_id                38 non-null     object        \n",
      " 9   challenged_name              38 non-null     object        \n",
      " 10  Club Affiliation H-ID_right  3 non-null      float64       \n",
      " 11  rec_Title.1_right            3 non-null      object        \n",
      "dtypes: datetime64[ns](1), float64(2), int64(1), object(8)\n",
      "memory usage: 3.7+ KB\n"
     ]
    }
   ],
   "source": [
    "ch_01.info()"
   ]
  },
  {
   "cell_type": "markdown",
   "id": "0bb2dade",
   "metadata": {},
   "source": [
    ">**ADDING NODES AND ADDING EDGES**"
   ]
  },
  {
   "cell_type": "code",
   "execution_count": 14,
   "id": "e2bdee03",
   "metadata": {},
   "outputs": [],
   "source": [
    "D = nx.DiGraph()\n",
    "D.add_nodes_from(ch_01['challenging_id'], bipartite = 'challenger')\n",
    "D.add_nodes_from(ch_01['challenged_id'], bipartite = 'challenged')"
   ]
  },
  {
   "cell_type": "code",
   "execution_count": 15,
   "id": "21087ebf",
   "metadata": {},
   "outputs": [],
   "source": [
    "for r, d in ch_01.iterrows():\n",
    "    D.add_edge(d['challenging_id'], d['challenged_id'], date = d['Source year'])"
   ]
  },
  {
   "cell_type": "code",
   "execution_count": 16,
   "id": "2ab399f9",
   "metadata": {},
   "outputs": [
    {
     "data": {
      "text/plain": [
       "OutEdgeDataView([('865', '836', {'date': Timestamp('1928-03-02 00:00:00')}), ('882', '780', {'date': Timestamp('1928-04-05 00:00:00')}), ('833', '272', {'date': Timestamp('1928-04-08 00:00:00')}), ('833', '827', {'date': Timestamp('1928-04-29 00:00:00')}), ('976', '882', {'date': Timestamp('1928-04-08 00:00:00')}), ('189', '987', {'date': Timestamp('1924-02-01 00:00:00')}), ('302', '303', {'date': Timestamp('1924-03-07 00:00:00')}), ('891', '573', {'date': Timestamp('1924-02-01 00:00:00')}), ('158', '1001', {'date': Timestamp('1924-03-07 00:00:00')}), ('1003', '321', {'date': Timestamp('1924-03-07 00:00:00')}), ('647', '423', {'date': Timestamp('1924-03-07 00:00:00')}), ('647', '1006', {'date': Timestamp('1924-03-07 00:00:00')}), ('647', '1008', {'date': Timestamp('1924-03-07 00:00:00')}), ('332', '1010', {'date': Timestamp('1924-03-14 00:00:00')}), ('332', '1012', {'date': Timestamp('1924-03-14 00:00:00')}), ('502', '1014', {'date': Timestamp('1924-03-14 00:00:00')}), ('143', '572', {'date': Timestamp('1924-04-04 00:00:00')}), ('143', '573', {'date': Timestamp('1924-04-04 00:00:00')}), ('77', '146', {'date': Timestamp('1924-01-23 00:00:00')}), ('639', '1021', {'date': Timestamp('1924-04-15 00:00:00')}), ('639', '735', {'date': Timestamp('1924-04-15 00:00:00')}), ('639', '1024', {'date': Timestamp('1924-04-15 00:00:00')}), ('639', '1026', {'date': Timestamp('1924-04-15 00:00:00')}), ('732', '223', {'date': Timestamp('1924-05-23 00:00:00')}), ('732', '733', {'date': Timestamp('1924-05-23 00:00:00')}), ('163', '1031', {'date': Timestamp('1924-01-25 00:00:00')}), ('162', '1035', {'date': Timestamp('1924-01-25 00:00:00')}), ('175', '98', {'date': Timestamp('1924-01-25 00:00:00')}), ('174', '1038', {'date': Timestamp('1924-01-25 00:00:00')}), ('177', '1040', {'date': Timestamp('1924-01-25 00:00:00')}), ('178', '126', {'date': Timestamp('1924-01-25 00:00:00')}), ('185', '1043', {'date': Timestamp('1924-01-25 00:00:00')}), ('933', '934', {'date': Timestamp('1924-01-23 00:00:00')}), ('935', '936', {'date': Timestamp('1924-01-23 00:00:00')}), ('935', '1048', {'date': Timestamp('1924-01-23 00:00:00')}), ('937', '938', {'date': Timestamp('1924-01-23 00:00:00')}), ('939', '146', {'date': Timestamp('1924-01-23 00:00:00')})])"
      ]
     },
     "execution_count": 16,
     "metadata": {},
     "output_type": "execute_result"
    }
   ],
   "source": [
    "D.edges(data=True)"
   ]
  },
  {
   "cell_type": "code",
   "execution_count": 17,
   "id": "fd8c43b4",
   "metadata": {},
   "outputs": [
    {
     "data": {
      "text/plain": [
       "NodeDataView({'865': {'bipartite': 'challenger'}, '882': {'bipartite': 'challenged'}, '833': {'bipartite': 'challenger'}, '976': {'bipartite': 'challenger'}, '189': {'bipartite': 'challenger'}, '302': {'bipartite': 'challenger'}, '891': {'bipartite': 'challenger'}, '158': {'bipartite': 'challenger'}, '1003': {'bipartite': 'challenger'}, '647': {'bipartite': 'challenger'}, '332': {'bipartite': 'challenger'}, '502': {'bipartite': 'challenger'}, '143': {'bipartite': 'challenger'}, '77': {'bipartite': 'challenger'}, '639': {'bipartite': 'challenger'}, '732': {'bipartite': 'challenger'}, '163': {'bipartite': 'challenger'}, '162': {'bipartite': 'challenger'}, '175': {'bipartite': 'challenger'}, '174': {'bipartite': 'challenger'}, '177': {'bipartite': 'challenger'}, '178': {'bipartite': 'challenger'}, '185': {'bipartite': 'challenger'}, '933': {'bipartite': 'challenger'}, '935': {'bipartite': 'challenger'}, '937': {'bipartite': 'challenger'}, '939': {'bipartite': 'challenger'}, '836': {'bipartite': 'challenged'}, '780': {'bipartite': 'challenged'}, '272': {'bipartite': 'challenged'}, '827': {'bipartite': 'challenged'}, '987': {'bipartite': 'challenged'}, '303': {'bipartite': 'challenged'}, '573': {'bipartite': 'challenged'}, '1001': {'bipartite': 'challenged'}, '321': {'bipartite': 'challenged'}, '423': {'bipartite': 'challenged'}, '1006': {'bipartite': 'challenged'}, '1008': {'bipartite': 'challenged'}, '1010': {'bipartite': 'challenged'}, '1012': {'bipartite': 'challenged'}, '1014': {'bipartite': 'challenged'}, '572': {'bipartite': 'challenged'}, '146': {'bipartite': 'challenged'}, '1021': {'bipartite': 'challenged'}, '735': {'bipartite': 'challenged'}, '1024': {'bipartite': 'challenged'}, '1026': {'bipartite': 'challenged'}, '223': {'bipartite': 'challenged'}, '733': {'bipartite': 'challenged'}, '1031': {'bipartite': 'challenged'}, '1035': {'bipartite': 'challenged'}, '98': {'bipartite': 'challenged'}, '1038': {'bipartite': 'challenged'}, '1040': {'bipartite': 'challenged'}, '126': {'bipartite': 'challenged'}, '1043': {'bipartite': 'challenged'}, '934': {'bipartite': 'challenged'}, '936': {'bipartite': 'challenged'}, '1048': {'bipartite': 'challenged'}, '938': {'bipartite': 'challenged'}})"
      ]
     },
     "execution_count": 17,
     "metadata": {},
     "output_type": "execute_result"
    }
   ],
   "source": [
    "D.nodes(data=True)"
   ]
  },
  {
   "cell_type": "code",
   "execution_count": 18,
   "id": "cafe81f3",
   "metadata": {},
   "outputs": [
    {
     "data": {
      "image/png": "[encoded data removed]",
      "text/plain": [
       "<Figure size 432x288 with 1 Axes>"
      ]
     },
     "metadata": {
      "needs_background": "light"
     },
     "output_type": "display_data"
    }
   ],
   "source": [
    "# Plot the degree distribution \n",
    "plt.hist(list(nx.degree_centrality(D).values()))\n",
    "plt.show()"
   ]
  },
  {
   "cell_type": "code",
   "execution_count": 19,
   "id": "698869ae",
   "metadata": {},
   "outputs": [
    {
     "data": {
      "image/png": "[encoded data removed]",
      "text/plain": [
       "<Figure size 432x288 with 1 Axes>"
      ]
     },
     "metadata": {
      "needs_background": "light"
     },
     "output_type": "display_data"
    }
   ],
   "source": [
    "# Plot the degree distribution \n",
    "plt.hist(list(nx.betweenness_centrality(D).values()))\n",
    "plt.show()"
   ]
  },
  {
   "cell_type": "code",
   "execution_count": 20,
   "id": "64cacab4",
   "metadata": {},
   "outputs": [],
   "source": [
    "#instantiation an empty list\n",
    "nodelist=[]\n",
    "#iterate over the nodes n and their dictionary metadata D\n",
    "for n,d in D.nodes(data=True):\n",
    "    #for every node we create a new record dictionary\n",
    "    node_data = dict()\n",
    "    #we use node to uniquely identify by its ID: make sure not to overlap with the metadata keys\n",
    "    node_data['node'] = n\n",
    "    #we update the record dictionary with the metadata dictionary, using the node_data dot update(other_dict) method, \n",
    "    #which will take one dictionary and add in key-value pairs in the other dictionary\n",
    "    node_data.update(d)\n",
    "    nodelist.append(node_data)\n",
    "#nodelist has been transform into a list of dictionary"
   ]
  },
  {
   "cell_type": "code",
   "execution_count": 21,
   "id": "420be275",
   "metadata": {},
   "outputs": [],
   "source": [
    "df_nodes = pd.DataFrame(nodelist)"
   ]
  },
  {
   "cell_type": "code",
   "execution_count": 22,
   "id": "e34f4be5",
   "metadata": {},
   "outputs": [
    {
     "data": {
      "text/html": [
       "<div>\n",
       "<style scoped>\n",
       "    .dataframe tbody tr th:only-of-type {\n",
       "        vertical-align: middle;\n",
       "    }\n",
       "\n",
       "    .dataframe tbody tr th {\n",
       "        vertical-align: top;\n",
       "    }\n",
       "\n",
       "    .dataframe thead th {\n",
       "        text-align: right;\n",
       "    }\n",
       "</style>\n",
       "<table border=\"1\" class=\"dataframe\">\n",
       "  <thead>\n",
       "    <tr style=\"text-align: right;\">\n",
       "      <th></th>\n",
       "      <th>node</th>\n",
       "      <th>bipartite</th>\n",
       "    </tr>\n",
       "  </thead>\n",
       "  <tbody>\n",
       "    <tr>\n",
       "      <th>0</th>\n",
       "      <td>865</td>\n",
       "      <td>challenger</td>\n",
       "    </tr>\n",
       "    <tr>\n",
       "      <th>1</th>\n",
       "      <td>882</td>\n",
       "      <td>challenged</td>\n",
       "    </tr>\n",
       "    <tr>\n",
       "      <th>2</th>\n",
       "      <td>833</td>\n",
       "      <td>challenger</td>\n",
       "    </tr>\n",
       "    <tr>\n",
       "      <th>3</th>\n",
       "      <td>976</td>\n",
       "      <td>challenger</td>\n",
       "    </tr>\n",
       "    <tr>\n",
       "      <th>4</th>\n",
       "      <td>189</td>\n",
       "      <td>challenger</td>\n",
       "    </tr>\n",
       "    <tr>\n",
       "      <th>...</th>\n",
       "      <td>...</td>\n",
       "      <td>...</td>\n",
       "    </tr>\n",
       "    <tr>\n",
       "      <th>56</th>\n",
       "      <td>1043</td>\n",
       "      <td>challenged</td>\n",
       "    </tr>\n",
       "    <tr>\n",
       "      <th>57</th>\n",
       "      <td>934</td>\n",
       "      <td>challenged</td>\n",
       "    </tr>\n",
       "    <tr>\n",
       "      <th>58</th>\n",
       "      <td>936</td>\n",
       "      <td>challenged</td>\n",
       "    </tr>\n",
       "    <tr>\n",
       "      <th>59</th>\n",
       "      <td>1048</td>\n",
       "      <td>challenged</td>\n",
       "    </tr>\n",
       "    <tr>\n",
       "      <th>60</th>\n",
       "      <td>938</td>\n",
       "      <td>challenged</td>\n",
       "    </tr>\n",
       "  </tbody>\n",
       "</table>\n",
       "<p>61 rows × 2 columns</p>\n",
       "</div>"
      ],
      "text/plain": [
       "    node   bipartite\n",
       "0    865  challenger\n",
       "1    882  challenged\n",
       "2    833  challenger\n",
       "3    976  challenger\n",
       "4    189  challenger\n",
       "..   ...         ...\n",
       "56  1043  challenged\n",
       "57   934  challenged\n",
       "58   936  challenged\n",
       "59  1048  challenged\n",
       "60   938  challenged\n",
       "\n",
       "[61 rows x 2 columns]"
      ]
     },
     "execution_count": 22,
     "metadata": {},
     "output_type": "execute_result"
    }
   ],
   "source": [
    "df_nodes"
   ]
  },
  {
   "cell_type": "code",
   "execution_count": 23,
   "id": "58ef3932",
   "metadata": {},
   "outputs": [
    {
     "data": {
      "text/plain": [
       "27"
      ]
     },
     "execution_count": 23,
     "metadata": {},
     "output_type": "execute_result"
    }
   ],
   "source": [
    "challengers = list(ch_01.challenging_id.unique())\n",
    "len(challengers)"
   ]
  },
  {
   "cell_type": "code",
   "execution_count": 24,
   "id": "8677c3c6",
   "metadata": {},
   "outputs": [
    {
     "data": {
      "text/plain": [
       "['865',\n",
       " '882',\n",
       " '833',\n",
       " '976',\n",
       " '189',\n",
       " '302',\n",
       " '891',\n",
       " '158',\n",
       " '1003',\n",
       " '647',\n",
       " '332',\n",
       " '502',\n",
       " '143',\n",
       " '77',\n",
       " '639',\n",
       " '732',\n",
       " '163',\n",
       " '162',\n",
       " '175',\n",
       " '174',\n",
       " '177',\n",
       " '178',\n",
       " '185',\n",
       " '933',\n",
       " '935',\n",
       " '937',\n",
       " '939']"
      ]
     },
     "execution_count": 24,
     "metadata": {},
     "output_type": "execute_result"
    }
   ],
   "source": [
    "challengers"
   ]
  },
  {
   "cell_type": "code",
   "execution_count": 25,
   "id": "d5cddacc",
   "metadata": {},
   "outputs": [
    {
     "data": {
      "text/plain": [
       "35"
      ]
     },
     "execution_count": 25,
     "metadata": {},
     "output_type": "execute_result"
    }
   ],
   "source": [
    "challenged = list(ch_01.challenged_id.unique())\n",
    "len(challenged)"
   ]
  },
  {
   "cell_type": "code",
   "execution_count": 26,
   "id": "bcfcd557",
   "metadata": {},
   "outputs": [
    {
     "data": {
      "text/plain": [
       "['836',\n",
       " '780',\n",
       " '272',\n",
       " '882',\n",
       " '827',\n",
       " '987',\n",
       " '303',\n",
       " '573',\n",
       " '1001',\n",
       " '321',\n",
       " '423',\n",
       " '1006',\n",
       " '1008',\n",
       " '1010',\n",
       " '1012',\n",
       " '1014',\n",
       " '572',\n",
       " '146',\n",
       " '1021',\n",
       " '735',\n",
       " '1024',\n",
       " '1026',\n",
       " '223',\n",
       " '733',\n",
       " '1031',\n",
       " '1035',\n",
       " '98',\n",
       " '1038',\n",
       " '1040',\n",
       " '126',\n",
       " '1043',\n",
       " '934',\n",
       " '936',\n",
       " '1048',\n",
       " '938']"
      ]
     },
     "execution_count": 26,
     "metadata": {},
     "output_type": "execute_result"
    }
   ],
   "source": [
    "challenged\n"
   ]
  },
  {
   "cell_type": "code",
   "execution_count": 28,
   "id": "1d009b21",
   "metadata": {},
   "outputs": [],
   "source": [
    "# 1. Create the graph\n",
    "g = nx.from_pandas_edgelist(ch_01, source='challenging_id', target='challenged_id') "
   ]
  },
  {
   "cell_type": "code",
   "execution_count": 51,
   "id": "a6aacd27",
   "metadata": {},
   "outputs": [],
   "source": [
    "# 2. Create a layout for our nodes \n",
    "pos = nx.spring_layout(g, k =0.3, seed=150)\n",
    "pos[\"639\"] = (0.005,0.005)"
   ]
  },
  {
   "cell_type": "code",
   "execution_count": 55,
   "id": "ea9ca45a",
   "metadata": {},
   "outputs": [
    {
     "data": {
      "image/png": "[encoded data removed]",
      "text/plain": [
       "<Figure size 864x864 with 1 Axes>"
      ]
     },
     "metadata": {},
     "output_type": "display_data"
    }
   ],
   "source": [
    "# 3. Draw the parts we want\n",
    "fig, ax = plt.subplots(figsize=(12, 12))\n",
    "nx.draw_networkx_edges(g, pos, edge_color='#E5B044',arrows=True, arrowsize=10)\n",
    "\n",
    "challengers = [node for node in g.nodes() if node in ch_01.challenging_id.unique()]\n",
    "challenged = [node for node in g.nodes() if node in ch_01.challenged_id.unique()]\n",
    "size = [g.degree(node) * 1200 for node in g.nodes() if node in ch_01.challenging_id.unique()]\n",
    "nx.draw_networkx_nodes(g, pos, nodelist = challengers, node_size=size, node_color ='#FFADE3')\n",
    "challengers_dict = dict(zip(challengers, challengers))\n",
    "nx.draw_networkx_labels(g, pos, labels=challengers_dict)\n",
    "challenged_dict = dict(zip(challenged, challenged))\n",
    "#nx.draw_networkx_labels(g, pos, labels=challenged_dict)\n",
    "\n",
    "challenged = [node for node in g.nodes() if node in ch_01.challenged_id.unique()]\n",
    "nx.draw_networkx_nodes(g, pos, nodelist=challenged, node_size=60, node_color ='lightblue')\n",
    "#Resize figure for label readibility\n",
    "ax.margins(0.1, 0.05)\n",
    "fig.tight_layout()\n",
    "plt.axis(\"off\")\n",
    "plt.title('Boxing Challenges - Degree Centrality', fontsize=18)\n",
    "fig5 = plt.gcf()\n",
    "fig5.savefig(\"/Users/hernanadasme/Documents/data_challenges/graph_10.jpg\", dpi=600) \n",
    "plt.show()"
   ]
  },
  {
   "cell_type": "code",
   "execution_count": null,
   "id": "31e9f101",
   "metadata": {},
   "outputs": [],
   "source": []
  }
 ],
 "metadata": {
  "kernelspec": {
   "display_name": "Python 3 (ipykernel)",
   "language": "python",
   "name": "python3"
  },
  "language_info": {
   "codemirror_mode": {
    "name": "ipython",
    "version": 3
   },
   "file_extension": ".py",
   "mimetype": "text/x-python",
   "name": "python",
   "nbconvert_exporter": "python",
   "pygments_lexer": "ipython3",
   "version": "3.9.7"
  }
 },
 "nbformat": 4,
 "nbformat_minor": 5
}
